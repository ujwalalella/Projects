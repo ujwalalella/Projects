{
 "cells": [
  {
   "cell_type": "code",
   "execution_count": 1,
   "id": "db5449cd-a94c-4872-ad65-c79be4b2412b",
   "metadata": {
    "execution": {
     "iopub.execute_input": "2025-03-22T05:08:03.394949Z",
     "iopub.status.busy": "2025-03-22T05:08:03.394949Z",
     "iopub.status.idle": "2025-03-22T05:08:11.465849Z",
     "shell.execute_reply": "2025-03-22T05:08:11.464837Z",
     "shell.execute_reply.started": "2025-03-22T05:08:03.394949Z"
    }
   },
   "outputs": [],
   "source": [
    "import numpy as np\n",
    "import pandas as pd\n",
    "import re\n",
    "import time\n",
    "\n",
    "import requests\n",
    "from bs4 import BeautifulSoup\n",
    "from selenium import webdriver\n",
    "from selenium.webdriver.chrome.service import Service\n",
    "from selenium.webdriver.chrome.options import Options\n",
    "from selenium.webdriver.common.by import By\n",
    "from selenium.webdriver.support.ui import WebDriverWait\n",
    "from selenium.webdriver.support import expected_conditions as EC\n",
    "\n",
    "import matplotlib.pyplot as plt\n",
    "import seaborn as sns\n",
    "import matplotlib.ticker as mticker\n",
    "import plotly.express as px\n",
    "import plotly.graph_objects as go\n",
    "\n",
    "from IPython.core.interactiveshell import InteractiveShell\n",
    "InteractiveShell.ast_node_interactivity = 'all'\n",
    "\n",
    "import warnings\n",
    "warnings.filterwarnings('ignore')"
   ]
  },
  {
   "cell_type": "markdown",
   "id": "19fcc086-a7ed-48ea-b9fb-4cf3935784ac",
   "metadata": {},
   "source": [
    "### Webscrapping"
   ]
  },
  {
   "cell_type": "code",
   "execution_count": 36,
   "id": "57978f2b-2242-4d9e-87c8-c0785e7651c5",
   "metadata": {
    "execution": {
     "iopub.execute_input": "2025-03-20T10:43:58.430553Z",
     "iopub.status.busy": "2025-03-20T10:43:58.430553Z",
     "iopub.status.idle": "2025-03-20T10:46:55.304902Z",
     "shell.execute_reply": "2025-03-20T10:46:55.301389Z",
     "shell.execute_reply.started": "2025-03-20T10:43:58.430553Z"
    }
   },
   "outputs": [
    {
     "data": {
      "text/plain": [
       "<selenium.webdriver.remote.webelement.WebElement (session=\"56bbdcf1e7be515ddb6994f0250a49e2\", element=\"f.01FF72416BCECB2D2272C8233E033754.d.DA09D3C770BD02242618FF1D2F6CFA46.e.12\")>"
      ]
     },
     "execution_count": 36,
     "metadata": {},
     "output_type": "execute_result"
    },
    {
     "data": {
      "text/plain": [
       "<selenium.webdriver.remote.webelement.WebElement (session=\"56bbdcf1e7be515ddb6994f0250a49e2\", element=\"f.01FF72416BCECB2D2272C8233E033754.d.745647F3C9314BFF7BF1766051C37898.e.380\")>"
      ]
     },
     "execution_count": 36,
     "metadata": {},
     "output_type": "execute_result"
    },
    {
     "data": {
      "text/plain": [
       "<selenium.webdriver.remote.webelement.WebElement (session=\"56bbdcf1e7be515ddb6994f0250a49e2\", element=\"f.01FF72416BCECB2D2272C8233E033754.d.9DD5E581D9E08A83E246E916E6080717.e.597\")>"
      ]
     },
     "execution_count": 36,
     "metadata": {},
     "output_type": "execute_result"
    },
    {
     "data": {
      "text/plain": [
       "<selenium.webdriver.remote.webelement.WebElement (session=\"56bbdcf1e7be515ddb6994f0250a49e2\", element=\"f.01FF72416BCECB2D2272C8233E033754.d.1BEC29745B0FDA4B37CAE659B964AF74.e.918\")>"
      ]
     },
     "execution_count": 36,
     "metadata": {},
     "output_type": "execute_result"
    },
    {
     "data": {
      "text/plain": [
       "<selenium.webdriver.remote.webelement.WebElement (session=\"56bbdcf1e7be515ddb6994f0250a49e2\", element=\"f.01FF72416BCECB2D2272C8233E033754.d.B2AA9B021F083716FAF1A2EFB590935E.e.1208\")>"
      ]
     },
     "execution_count": 36,
     "metadata": {},
     "output_type": "execute_result"
    }
   ],
   "source": [
    "options = Options()\n",
    "options.page_load_strategy = \"eager\"\n",
    "options.add_experimental_option(\"prefs\", {\n",
    "    \"profile.managed_default_content_settings.images\": 2,\n",
    "    \"profile.default_content_setting_values.notifications\": 2\n",
    "})\n",
    "\n",
    "driver = webdriver.Chrome(options=options)\n",
    "\n",
    "cities = ['Hyderabad', 'Bangalore', 'Chennai', 'Gurgaon', 'Ahmedabad']\n",
    "data = [] \n",
    "\n",
    "for city in cities:\n",
    "    driver.get(f'https://www.magicbricks.com/property-for-rent/residential-real-estate?bedroom=1,2,3,4,5,%3E5&proptype=Multistorey-Apartment,Builder-Floor-Apartment,Penthouse,Studio-Apartment,Service-Apartment,Residential-House,Villa&cityName={city}')\n",
    "\n",
    "    # Wait until listings are loaded\n",
    "    try:\n",
    "        WebDriverWait(driver, 10).until(EC.presence_of_element_located((By.CLASS_NAME, \"mb-srp__list\")))\n",
    "    except:\n",
    "        print(f\"Timeout while loading {city}\")\n",
    "\n",
    "    # Scroll dynamically\n",
    "    start_time = time.time()\n",
    "    max_time = 50 \n",
    "    last_height = driver.execute_script(\"return document.body.scrollHeight\")\n",
    "\n",
    "    while time.time() - start_time < max_time:\n",
    "        driver.execute_script(\"window.scrollTo(0, document.body.scrollHeight);\")\n",
    "        time.sleep(1)\n",
    "        new_height = driver.execute_script(\"return document.body.scrollHeight\")\n",
    "        if new_height == last_height:\n",
    "            break\n",
    "        last_height = new_height\n",
    "\n",
    "    # Extract page source after scrolling\n",
    "    soup = BeautifulSoup(driver.page_source, \"html.parser\")\n",
    "\n",
    "    for listing in soup.find_all('div', class_='mb-srp__list'):\n",
    "        property_name = listing.find('h2', class_='mb-srp__card--title')\n",
    "        price = listing.find('div', class_='mb-srp__card__price--amount')\n",
    "        info = listing.find('div', class_='mb-srp__card__summary__list')\n",
    "        posted_by = listing.find('div', class_='mb-srp__card__ads--name')\n",
    "\n",
    "        data.append({\n",
    "            \"City\": city,\n",
    "            \"Property\": property_name.get_text(strip=True) if property_name else None,\n",
    "            \"Price\": price.get_text(strip=True) if price else None,\n",
    "            \"Info\": info.get_text(strip=True) if info else None,\n",
    "            \"Posted By\": posted_by.get_text(strip=True) if posted_by else None\n",
    "        })\n",
    "\n",
    "driver.quit()"
   ]
  },
  {
   "cell_type": "markdown",
   "id": "adc284b5-486f-482c-a127-c0afdb2f450f",
   "metadata": {},
   "source": [
    "### Dataframe creation"
   ]
  },
  {
   "cell_type": "code",
   "execution_count": 107,
   "id": "4737e3c1-7fd2-4393-aa60-328633074fb5",
   "metadata": {
    "execution": {
     "iopub.execute_input": "2025-03-20T11:11:45.524931Z",
     "iopub.status.busy": "2025-03-20T11:11:45.524931Z",
     "iopub.status.idle": "2025-03-20T11:11:45.554050Z",
     "shell.execute_reply": "2025-03-20T11:11:45.554050Z",
     "shell.execute_reply.started": "2025-03-20T11:11:45.524931Z"
    }
   },
   "outputs": [
    {
     "data": {
      "text/html": [
       "<div>\n",
       "<style scoped>\n",
       "    .dataframe tbody tr th:only-of-type {\n",
       "        vertical-align: middle;\n",
       "    }\n",
       "\n",
       "    .dataframe tbody tr th {\n",
       "        vertical-align: top;\n",
       "    }\n",
       "\n",
       "    .dataframe thead th {\n",
       "        text-align: right;\n",
       "    }\n",
       "</style>\n",
       "<table border=\"1\" class=\"dataframe\">\n",
       "  <thead>\n",
       "    <tr style=\"text-align: right;\">\n",
       "      <th></th>\n",
       "      <th>City</th>\n",
       "      <th>Property</th>\n",
       "      <th>Price</th>\n",
       "      <th>Info</th>\n",
       "      <th>Posted By</th>\n",
       "    </tr>\n",
       "  </thead>\n",
       "  <tbody>\n",
       "    <tr>\n",
       "      <th>0</th>\n",
       "      <td>Hyderabad</td>\n",
       "      <td>5 BHK Villa for Rent in Kokapet, Outer Ring Ro...</td>\n",
       "      <td>₹3.1 Lac</td>\n",
       "      <td>FurnishingSemi-FurnishedBathroom4Tenant Prefer...</td>\n",
       "      <td>Agent: Upbricks</td>\n",
       "    </tr>\n",
       "    <tr>\n",
       "      <th>1</th>\n",
       "      <td>Hyderabad</td>\n",
       "      <td>3 BHK Flat  for Rent in Manikonda Jagir, Hyder...</td>\n",
       "      <td>₹36,000</td>\n",
       "      <td>FurnishingUnfurnishedBathroom3Tenant Preferred...</td>\n",
       "      <td>Agent: DNS Infra</td>\n",
       "    </tr>\n",
       "    <tr>\n",
       "      <th>2</th>\n",
       "      <td>Hyderabad</td>\n",
       "      <td>3 BHK Flat  for Rent in Kondapur, Hyderabad</td>\n",
       "      <td>₹45,000</td>\n",
       "      <td>FurnishingSemi-FurnishedBathroom3Tenant Prefer...</td>\n",
       "      <td>None</td>\n",
       "    </tr>\n",
       "    <tr>\n",
       "      <th>3</th>\n",
       "      <td>Hyderabad</td>\n",
       "      <td>2 BHK Flat  for Rent in Kondapur, Hyderabad</td>\n",
       "      <td>₹42,000</td>\n",
       "      <td>FurnishingFurnishedBathroom2Tenant PreferredBa...</td>\n",
       "      <td>None</td>\n",
       "    </tr>\n",
       "    <tr>\n",
       "      <th>4</th>\n",
       "      <td>Hyderabad</td>\n",
       "      <td>4 BHK Villa for Rent in Kollur, Outer Ring Roa...</td>\n",
       "      <td>₹1.1 Lac</td>\n",
       "      <td>FurnishingSemi-FurnishedBathroom7Tenant Prefer...</td>\n",
       "      <td>Agent: H 3 Realty</td>\n",
       "    </tr>\n",
       "    <tr>\n",
       "      <th>...</th>\n",
       "      <td>...</td>\n",
       "      <td>...</td>\n",
       "      <td>...</td>\n",
       "      <td>...</td>\n",
       "      <td>...</td>\n",
       "    </tr>\n",
       "    <tr>\n",
       "      <th>1825</th>\n",
       "      <td>Ahmedabad</td>\n",
       "      <td>4 BHK Villa for Rent in Thaltej Ahmedabad</td>\n",
       "      <td>₹2.3 Lac</td>\n",
       "      <td>FurnishingFurnishedBathroom4Tenant PreferredFa...</td>\n",
       "      <td>Agent: S K Properties</td>\n",
       "    </tr>\n",
       "    <tr>\n",
       "      <th>1826</th>\n",
       "      <td>Ahmedabad</td>\n",
       "      <td>3 BHK Apartment for Rent in Shaligram Lakeview...</td>\n",
       "      <td>₹50,000</td>\n",
       "      <td>FurnishingFurnishedBathroom3Tenant PreferredFa...</td>\n",
       "      <td>Owner: Suresh Patel</td>\n",
       "    </tr>\n",
       "    <tr>\n",
       "      <th>1827</th>\n",
       "      <td>Ahmedabad</td>\n",
       "      <td>5 BHK Villa for Rent in Shela Ahmedabad</td>\n",
       "      <td>₹50,000</td>\n",
       "      <td>FurnishingSemi-FurnishedBathroom5Tenant Prefer...</td>\n",
       "      <td>Agent: Real Estate</td>\n",
       "    </tr>\n",
       "    <tr>\n",
       "      <th>1828</th>\n",
       "      <td>Ahmedabad</td>\n",
       "      <td>3 BHK Apartment for Rent in Chandkheda Ahmedabad</td>\n",
       "      <td>₹38,000</td>\n",
       "      <td>FurnishingUnfurnishedBathroom3Tenant Preferred...</td>\n",
       "      <td>Owner: Sandip</td>\n",
       "    </tr>\n",
       "    <tr>\n",
       "      <th>1829</th>\n",
       "      <td>Ahmedabad</td>\n",
       "      <td>3 BHK Apartment for Rent in Sankalp Gwala, Amb...</td>\n",
       "      <td>₹26,000</td>\n",
       "      <td>FurnishingUnfurnishedBathroom3Tenant Preferred...</td>\n",
       "      <td>Agent: Ashish  Chudasama</td>\n",
       "    </tr>\n",
       "  </tbody>\n",
       "</table>\n",
       "<p>1830 rows × 5 columns</p>\n",
       "</div>"
      ],
      "text/plain": [
       "           City                                           Property     Price  \\\n",
       "0     Hyderabad  5 BHK Villa for Rent in Kokapet, Outer Ring Ro...  ₹3.1 Lac   \n",
       "1     Hyderabad  3 BHK Flat  for Rent in Manikonda Jagir, Hyder...   ₹36,000   \n",
       "2     Hyderabad        3 BHK Flat  for Rent in Kondapur, Hyderabad   ₹45,000   \n",
       "3     Hyderabad        2 BHK Flat  for Rent in Kondapur, Hyderabad   ₹42,000   \n",
       "4     Hyderabad  4 BHK Villa for Rent in Kollur, Outer Ring Roa...  ₹1.1 Lac   \n",
       "...         ...                                                ...       ...   \n",
       "1825  Ahmedabad          4 BHK Villa for Rent in Thaltej Ahmedabad  ₹2.3 Lac   \n",
       "1826  Ahmedabad  3 BHK Apartment for Rent in Shaligram Lakeview...   ₹50,000   \n",
       "1827  Ahmedabad            5 BHK Villa for Rent in Shela Ahmedabad   ₹50,000   \n",
       "1828  Ahmedabad   3 BHK Apartment for Rent in Chandkheda Ahmedabad   ₹38,000   \n",
       "1829  Ahmedabad  3 BHK Apartment for Rent in Sankalp Gwala, Amb...   ₹26,000   \n",
       "\n",
       "                                                   Info  \\\n",
       "0     FurnishingSemi-FurnishedBathroom4Tenant Prefer...   \n",
       "1     FurnishingUnfurnishedBathroom3Tenant Preferred...   \n",
       "2     FurnishingSemi-FurnishedBathroom3Tenant Prefer...   \n",
       "3     FurnishingFurnishedBathroom2Tenant PreferredBa...   \n",
       "4     FurnishingSemi-FurnishedBathroom7Tenant Prefer...   \n",
       "...                                                 ...   \n",
       "1825  FurnishingFurnishedBathroom4Tenant PreferredFa...   \n",
       "1826  FurnishingFurnishedBathroom3Tenant PreferredFa...   \n",
       "1827  FurnishingSemi-FurnishedBathroom5Tenant Prefer...   \n",
       "1828  FurnishingUnfurnishedBathroom3Tenant Preferred...   \n",
       "1829  FurnishingUnfurnishedBathroom3Tenant Preferred...   \n",
       "\n",
       "                     Posted By  \n",
       "0              Agent: Upbricks  \n",
       "1             Agent: DNS Infra  \n",
       "2                         None  \n",
       "3                         None  \n",
       "4            Agent: H 3 Realty  \n",
       "...                        ...  \n",
       "1825     Agent: S K Properties  \n",
       "1826       Owner: Suresh Patel  \n",
       "1827        Agent: Real Estate  \n",
       "1828             Owner: Sandip  \n",
       "1829  Agent: Ashish  Chudasama  \n",
       "\n",
       "[1830 rows x 5 columns]"
      ]
     },
     "execution_count": 107,
     "metadata": {},
     "output_type": "execute_result"
    }
   ],
   "source": [
    "raw_df = pd.DataFrame(data)\n",
    "raw_df"
   ]
  },
  {
   "cell_type": "code",
   "execution_count": 108,
   "id": "908b2d82-5fe2-49a7-a6f1-e5bf9821659c",
   "metadata": {
    "execution": {
     "iopub.execute_input": "2025-03-20T11:11:51.738346Z",
     "iopub.status.busy": "2025-03-20T11:11:51.735744Z",
     "iopub.status.idle": "2025-03-20T11:11:51.763605Z",
     "shell.execute_reply": "2025-03-20T11:11:51.763605Z",
     "shell.execute_reply.started": "2025-03-20T11:11:51.738346Z"
    }
   },
   "outputs": [],
   "source": [
    "raw_df['BHK'] = raw_df['Property'].apply(lambda x: re.findall('\\d+\\sBHK',x)[0] if len(re.findall('\\d\\sBHK',x))>0 else np.nan)"
   ]
  },
  {
   "cell_type": "code",
   "execution_count": 109,
   "id": "568318b9-932b-4a0d-a86a-08384f6fa5bf",
   "metadata": {
    "execution": {
     "iopub.execute_input": "2025-03-20T11:11:52.502435Z",
     "iopub.status.busy": "2025-03-20T11:11:52.502435Z",
     "iopub.status.idle": "2025-03-20T11:11:52.535726Z",
     "shell.execute_reply": "2025-03-20T11:11:52.533972Z",
     "shell.execute_reply.started": "2025-03-20T11:11:52.502435Z"
    }
   },
   "outputs": [],
   "source": [
    "raw_df['Residential_type'] = raw_df['Property'].apply(lambda x: re.findall('BHK\\s(.*)\\sfor',x)[0] if len(re.findall('BHK\\s(.*)\\sfor',x))>0 else np.nan)"
   ]
  },
  {
   "cell_type": "code",
   "execution_count": 110,
   "id": "8c4df074-da5a-4a36-9cc8-a257cde7fe3c",
   "metadata": {
    "execution": {
     "iopub.execute_input": "2025-03-20T11:11:53.085893Z",
     "iopub.status.busy": "2025-03-20T11:11:53.082644Z",
     "iopub.status.idle": "2025-03-20T11:11:53.114777Z",
     "shell.execute_reply": "2025-03-20T11:11:53.114777Z",
     "shell.execute_reply.started": "2025-03-20T11:11:53.084682Z"
    }
   },
   "outputs": [],
   "source": [
    "raw_df['Furnishing'] = raw_df['Info'].apply(lambda x:re.findall('Furnished|Unfurnished|Semi-Furnished',x)[0] if len(re.findall('Furnished|Unfurnished|Semi-Furnished',x))>0 else np.nan)"
   ]
  },
  {
   "cell_type": "code",
   "execution_count": 111,
   "id": "9250f7a8-0f5c-4f2c-8969-4624b708e400",
   "metadata": {
    "execution": {
     "iopub.execute_input": "2025-03-20T11:11:54.119360Z",
     "iopub.status.busy": "2025-03-20T11:11:54.118704Z",
     "iopub.status.idle": "2025-03-20T11:11:54.145184Z",
     "shell.execute_reply": "2025-03-20T11:11:54.143423Z",
     "shell.execute_reply.started": "2025-03-20T11:11:54.119360Z"
    }
   },
   "outputs": [],
   "source": [
    "raw_df['Bathroom'] = raw_df['Info'].apply(lambda x:re.findall('Bathroom(\\d|>\\s\\d+)',x)[0] if len(re.findall('Bathroom(\\d|>\\s\\d+)',x))>0 else np.nan)"
   ]
  },
  {
   "cell_type": "code",
   "execution_count": 112,
   "id": "48a9b841-fd49-4cb7-a4d4-099865bee457",
   "metadata": {
    "execution": {
     "iopub.execute_input": "2025-03-20T11:11:54.591227Z",
     "iopub.status.busy": "2025-03-20T11:11:54.591227Z",
     "iopub.status.idle": "2025-03-20T11:11:54.634991Z",
     "shell.execute_reply": "2025-03-20T11:11:54.634991Z",
     "shell.execute_reply.started": "2025-03-20T11:11:54.591227Z"
    }
   },
   "outputs": [],
   "source": [
    "raw_df['Tenants_preferred'] = raw_df['Info'].apply(lambda x:re.findall('Family|Bachelors/Family|Bachelors',x)[0] if len(re.findall('Family|Bachelors/Family|Bachelors',x))>0 else np.nan)"
   ]
  },
  {
   "cell_type": "code",
   "execution_count": 113,
   "id": "d3aa3e86-43fd-4bd5-8483-522fde684a97",
   "metadata": {
    "execution": {
     "iopub.execute_input": "2025-03-20T11:11:55.144338Z",
     "iopub.status.busy": "2025-03-20T11:11:55.144338Z",
     "iopub.status.idle": "2025-03-20T11:11:55.172587Z",
     "shell.execute_reply": "2025-03-20T11:11:55.171064Z",
     "shell.execute_reply.started": "2025-03-20T11:11:55.144338Z"
    }
   },
   "outputs": [],
   "source": [
    "raw_df['Balcony'] = raw_df['Info'].apply(lambda x:re.findall('Balcony(\\d+)',x)[0] if len(re.findall('Balcony(\\d+)',x))>0 else np.nan)"
   ]
  },
  {
   "cell_type": "code",
   "execution_count": 114,
   "id": "7b0be97b-e98c-4cb2-8a6a-65bad5a8723b",
   "metadata": {
    "execution": {
     "iopub.execute_input": "2025-03-20T11:11:55.562605Z",
     "iopub.status.busy": "2025-03-20T11:11:55.560992Z",
     "iopub.status.idle": "2025-03-20T11:11:55.596412Z",
     "shell.execute_reply": "2025-03-20T11:11:55.592366Z",
     "shell.execute_reply.started": "2025-03-20T11:11:55.562605Z"
    }
   },
   "outputs": [],
   "source": [
    "raw_df['Posted_by'] = raw_df['Posted By'].astype(str).apply(lambda x:re.findall('Agent|Builder|Owner',x)[0] if len(re.findall('Agent|Builder|Owner',x))>0 else np.nan)"
   ]
  },
  {
   "cell_type": "code",
   "execution_count": 115,
   "id": "6fc04d65-adc0-4389-8a47-ea2a6e862a21",
   "metadata": {
    "execution": {
     "iopub.execute_input": "2025-03-20T11:11:56.503775Z",
     "iopub.status.busy": "2025-03-20T11:11:56.503775Z",
     "iopub.status.idle": "2025-03-20T11:11:56.538966Z",
     "shell.execute_reply": "2025-03-20T11:11:56.538966Z",
     "shell.execute_reply.started": "2025-03-20T11:11:56.503775Z"
    }
   },
   "outputs": [
    {
     "data": {
      "text/html": [
       "<div>\n",
       "<style scoped>\n",
       "    .dataframe tbody tr th:only-of-type {\n",
       "        vertical-align: middle;\n",
       "    }\n",
       "\n",
       "    .dataframe tbody tr th {\n",
       "        vertical-align: top;\n",
       "    }\n",
       "\n",
       "    .dataframe thead th {\n",
       "        text-align: right;\n",
       "    }\n",
       "</style>\n",
       "<table border=\"1\" class=\"dataframe\">\n",
       "  <thead>\n",
       "    <tr style=\"text-align: right;\">\n",
       "      <th></th>\n",
       "      <th>City</th>\n",
       "      <th>Property</th>\n",
       "      <th>Price</th>\n",
       "      <th>Info</th>\n",
       "      <th>Posted By</th>\n",
       "      <th>BHK</th>\n",
       "      <th>Residential_type</th>\n",
       "      <th>Furnishing</th>\n",
       "      <th>Bathroom</th>\n",
       "      <th>Tenants_preferred</th>\n",
       "      <th>Balcony</th>\n",
       "      <th>Posted_by</th>\n",
       "    </tr>\n",
       "  </thead>\n",
       "  <tbody>\n",
       "    <tr>\n",
       "      <th>0</th>\n",
       "      <td>Hyderabad</td>\n",
       "      <td>5 BHK Villa for Rent in Kokapet, Outer Ring Ro...</td>\n",
       "      <td>₹3.1 Lac</td>\n",
       "      <td>FurnishingSemi-FurnishedBathroom4Tenant Prefer...</td>\n",
       "      <td>Agent: Upbricks</td>\n",
       "      <td>5 BHK</td>\n",
       "      <td>Villa</td>\n",
       "      <td>Semi-Furnished</td>\n",
       "      <td>4</td>\n",
       "      <td>Family</td>\n",
       "      <td>1</td>\n",
       "      <td>Agent</td>\n",
       "    </tr>\n",
       "    <tr>\n",
       "      <th>1</th>\n",
       "      <td>Hyderabad</td>\n",
       "      <td>3 BHK Flat  for Rent in Manikonda Jagir, Hyder...</td>\n",
       "      <td>₹36,000</td>\n",
       "      <td>FurnishingUnfurnishedBathroom3Tenant Preferred...</td>\n",
       "      <td>Agent: DNS Infra</td>\n",
       "      <td>3 BHK</td>\n",
       "      <td>Flat</td>\n",
       "      <td>Unfurnished</td>\n",
       "      <td>3</td>\n",
       "      <td>Family</td>\n",
       "      <td>3</td>\n",
       "      <td>Agent</td>\n",
       "    </tr>\n",
       "    <tr>\n",
       "      <th>2</th>\n",
       "      <td>Hyderabad</td>\n",
       "      <td>3 BHK Flat  for Rent in Kondapur, Hyderabad</td>\n",
       "      <td>₹45,000</td>\n",
       "      <td>FurnishingSemi-FurnishedBathroom3Tenant Prefer...</td>\n",
       "      <td>None</td>\n",
       "      <td>3 BHK</td>\n",
       "      <td>Flat</td>\n",
       "      <td>Semi-Furnished</td>\n",
       "      <td>3</td>\n",
       "      <td>Bachelors/Family</td>\n",
       "      <td>1</td>\n",
       "      <td>NaN</td>\n",
       "    </tr>\n",
       "    <tr>\n",
       "      <th>3</th>\n",
       "      <td>Hyderabad</td>\n",
       "      <td>2 BHK Flat  for Rent in Kondapur, Hyderabad</td>\n",
       "      <td>₹42,000</td>\n",
       "      <td>FurnishingFurnishedBathroom2Tenant PreferredBa...</td>\n",
       "      <td>None</td>\n",
       "      <td>2 BHK</td>\n",
       "      <td>Flat</td>\n",
       "      <td>Furnished</td>\n",
       "      <td>2</td>\n",
       "      <td>Bachelors</td>\n",
       "      <td>1</td>\n",
       "      <td>NaN</td>\n",
       "    </tr>\n",
       "    <tr>\n",
       "      <th>4</th>\n",
       "      <td>Hyderabad</td>\n",
       "      <td>4 BHK Villa for Rent in Kollur, Outer Ring Roa...</td>\n",
       "      <td>₹1.1 Lac</td>\n",
       "      <td>FurnishingSemi-FurnishedBathroom7Tenant Prefer...</td>\n",
       "      <td>Agent: H 3 Realty</td>\n",
       "      <td>4 BHK</td>\n",
       "      <td>Villa</td>\n",
       "      <td>Semi-Furnished</td>\n",
       "      <td>7</td>\n",
       "      <td>Bachelors/Family</td>\n",
       "      <td>2</td>\n",
       "      <td>Agent</td>\n",
       "    </tr>\n",
       "    <tr>\n",
       "      <th>...</th>\n",
       "      <td>...</td>\n",
       "      <td>...</td>\n",
       "      <td>...</td>\n",
       "      <td>...</td>\n",
       "      <td>...</td>\n",
       "      <td>...</td>\n",
       "      <td>...</td>\n",
       "      <td>...</td>\n",
       "      <td>...</td>\n",
       "      <td>...</td>\n",
       "      <td>...</td>\n",
       "      <td>...</td>\n",
       "    </tr>\n",
       "    <tr>\n",
       "      <th>1825</th>\n",
       "      <td>Ahmedabad</td>\n",
       "      <td>4 BHK Villa for Rent in Thaltej Ahmedabad</td>\n",
       "      <td>₹2.3 Lac</td>\n",
       "      <td>FurnishingFurnishedBathroom4Tenant PreferredFa...</td>\n",
       "      <td>Agent: S K Properties</td>\n",
       "      <td>4 BHK</td>\n",
       "      <td>Villa</td>\n",
       "      <td>Furnished</td>\n",
       "      <td>4</td>\n",
       "      <td>Family</td>\n",
       "      <td>3</td>\n",
       "      <td>Agent</td>\n",
       "    </tr>\n",
       "    <tr>\n",
       "      <th>1826</th>\n",
       "      <td>Ahmedabad</td>\n",
       "      <td>3 BHK Apartment for Rent in Shaligram Lakeview...</td>\n",
       "      <td>₹50,000</td>\n",
       "      <td>FurnishingFurnishedBathroom3Tenant PreferredFa...</td>\n",
       "      <td>Owner: Suresh Patel</td>\n",
       "      <td>3 BHK</td>\n",
       "      <td>Apartment</td>\n",
       "      <td>Furnished</td>\n",
       "      <td>3</td>\n",
       "      <td>Family</td>\n",
       "      <td>1</td>\n",
       "      <td>Owner</td>\n",
       "    </tr>\n",
       "    <tr>\n",
       "      <th>1827</th>\n",
       "      <td>Ahmedabad</td>\n",
       "      <td>5 BHK Villa for Rent in Shela Ahmedabad</td>\n",
       "      <td>₹50,000</td>\n",
       "      <td>FurnishingSemi-FurnishedBathroom5Tenant Prefer...</td>\n",
       "      <td>Agent: Real Estate</td>\n",
       "      <td>5 BHK</td>\n",
       "      <td>Villa</td>\n",
       "      <td>Semi-Furnished</td>\n",
       "      <td>5</td>\n",
       "      <td>Family</td>\n",
       "      <td>2</td>\n",
       "      <td>Agent</td>\n",
       "    </tr>\n",
       "    <tr>\n",
       "      <th>1828</th>\n",
       "      <td>Ahmedabad</td>\n",
       "      <td>3 BHK Apartment for Rent in Chandkheda Ahmedabad</td>\n",
       "      <td>₹38,000</td>\n",
       "      <td>FurnishingUnfurnishedBathroom3Tenant Preferred...</td>\n",
       "      <td>Owner: Sandip</td>\n",
       "      <td>3 BHK</td>\n",
       "      <td>Apartment</td>\n",
       "      <td>Unfurnished</td>\n",
       "      <td>3</td>\n",
       "      <td>Bachelors</td>\n",
       "      <td>2</td>\n",
       "      <td>Owner</td>\n",
       "    </tr>\n",
       "    <tr>\n",
       "      <th>1829</th>\n",
       "      <td>Ahmedabad</td>\n",
       "      <td>3 BHK Apartment for Rent in Sankalp Gwala, Amb...</td>\n",
       "      <td>₹26,000</td>\n",
       "      <td>FurnishingUnfurnishedBathroom3Tenant Preferred...</td>\n",
       "      <td>Agent: Ashish  Chudasama</td>\n",
       "      <td>3 BHK</td>\n",
       "      <td>Apartment</td>\n",
       "      <td>Unfurnished</td>\n",
       "      <td>3</td>\n",
       "      <td>Bachelors/Family</td>\n",
       "      <td>1</td>\n",
       "      <td>Agent</td>\n",
       "    </tr>\n",
       "  </tbody>\n",
       "</table>\n",
       "<p>1830 rows × 12 columns</p>\n",
       "</div>"
      ],
      "text/plain": [
       "           City                                           Property     Price  \\\n",
       "0     Hyderabad  5 BHK Villa for Rent in Kokapet, Outer Ring Ro...  ₹3.1 Lac   \n",
       "1     Hyderabad  3 BHK Flat  for Rent in Manikonda Jagir, Hyder...   ₹36,000   \n",
       "2     Hyderabad        3 BHK Flat  for Rent in Kondapur, Hyderabad   ₹45,000   \n",
       "3     Hyderabad        2 BHK Flat  for Rent in Kondapur, Hyderabad   ₹42,000   \n",
       "4     Hyderabad  4 BHK Villa for Rent in Kollur, Outer Ring Roa...  ₹1.1 Lac   \n",
       "...         ...                                                ...       ...   \n",
       "1825  Ahmedabad          4 BHK Villa for Rent in Thaltej Ahmedabad  ₹2.3 Lac   \n",
       "1826  Ahmedabad  3 BHK Apartment for Rent in Shaligram Lakeview...   ₹50,000   \n",
       "1827  Ahmedabad            5 BHK Villa for Rent in Shela Ahmedabad   ₹50,000   \n",
       "1828  Ahmedabad   3 BHK Apartment for Rent in Chandkheda Ahmedabad   ₹38,000   \n",
       "1829  Ahmedabad  3 BHK Apartment for Rent in Sankalp Gwala, Amb...   ₹26,000   \n",
       "\n",
       "                                                   Info  \\\n",
       "0     FurnishingSemi-FurnishedBathroom4Tenant Prefer...   \n",
       "1     FurnishingUnfurnishedBathroom3Tenant Preferred...   \n",
       "2     FurnishingSemi-FurnishedBathroom3Tenant Prefer...   \n",
       "3     FurnishingFurnishedBathroom2Tenant PreferredBa...   \n",
       "4     FurnishingSemi-FurnishedBathroom7Tenant Prefer...   \n",
       "...                                                 ...   \n",
       "1825  FurnishingFurnishedBathroom4Tenant PreferredFa...   \n",
       "1826  FurnishingFurnishedBathroom3Tenant PreferredFa...   \n",
       "1827  FurnishingSemi-FurnishedBathroom5Tenant Prefer...   \n",
       "1828  FurnishingUnfurnishedBathroom3Tenant Preferred...   \n",
       "1829  FurnishingUnfurnishedBathroom3Tenant Preferred...   \n",
       "\n",
       "                     Posted By    BHK Residential_type      Furnishing  \\\n",
       "0              Agent: Upbricks  5 BHK            Villa  Semi-Furnished   \n",
       "1             Agent: DNS Infra  3 BHK            Flat      Unfurnished   \n",
       "2                         None  3 BHK            Flat   Semi-Furnished   \n",
       "3                         None  2 BHK            Flat        Furnished   \n",
       "4            Agent: H 3 Realty  4 BHK            Villa  Semi-Furnished   \n",
       "...                        ...    ...              ...             ...   \n",
       "1825     Agent: S K Properties  4 BHK            Villa       Furnished   \n",
       "1826       Owner: Suresh Patel  3 BHK        Apartment       Furnished   \n",
       "1827        Agent: Real Estate  5 BHK            Villa  Semi-Furnished   \n",
       "1828             Owner: Sandip  3 BHK        Apartment     Unfurnished   \n",
       "1829  Agent: Ashish  Chudasama  3 BHK        Apartment     Unfurnished   \n",
       "\n",
       "     Bathroom Tenants_preferred Balcony Posted_by  \n",
       "0           4            Family       1     Agent  \n",
       "1           3            Family       3     Agent  \n",
       "2           3  Bachelors/Family       1       NaN  \n",
       "3           2         Bachelors       1       NaN  \n",
       "4           7  Bachelors/Family       2     Agent  \n",
       "...       ...               ...     ...       ...  \n",
       "1825        4            Family       3     Agent  \n",
       "1826        3            Family       1     Owner  \n",
       "1827        5            Family       2     Agent  \n",
       "1828        3         Bachelors       2     Owner  \n",
       "1829        3  Bachelors/Family       1     Agent  \n",
       "\n",
       "[1830 rows x 12 columns]"
      ]
     },
     "execution_count": 115,
     "metadata": {},
     "output_type": "execute_result"
    }
   ],
   "source": [
    "raw_df"
   ]
  },
  {
   "cell_type": "code",
   "execution_count": 116,
   "id": "ff049594-7802-4acc-8e98-7119b17c8713",
   "metadata": {
    "execution": {
     "iopub.execute_input": "2025-03-20T11:11:59.230881Z",
     "iopub.status.busy": "2025-03-20T11:11:59.230881Z",
     "iopub.status.idle": "2025-03-20T11:11:59.247575Z",
     "shell.execute_reply": "2025-03-20T11:11:59.247575Z",
     "shell.execute_reply.started": "2025-03-20T11:11:59.230881Z"
    }
   },
   "outputs": [],
   "source": [
    "raw_df.drop(labels='Property',axis=1,inplace=True)\n",
    "raw_df.drop(labels='Info',axis=1,inplace=True)"
   ]
  },
  {
   "cell_type": "code",
   "execution_count": 117,
   "id": "434759d6-dcf8-4c8d-9996-c7e866824727",
   "metadata": {
    "execution": {
     "iopub.execute_input": "2025-03-20T11:12:01.244220Z",
     "iopub.status.busy": "2025-03-20T11:12:01.244220Z",
     "iopub.status.idle": "2025-03-20T11:12:01.277372Z",
     "shell.execute_reply": "2025-03-20T11:12:01.275230Z",
     "shell.execute_reply.started": "2025-03-20T11:12:01.244220Z"
    }
   },
   "outputs": [
    {
     "data": {
      "text/html": [
       "<div>\n",
       "<style scoped>\n",
       "    .dataframe tbody tr th:only-of-type {\n",
       "        vertical-align: middle;\n",
       "    }\n",
       "\n",
       "    .dataframe tbody tr th {\n",
       "        vertical-align: top;\n",
       "    }\n",
       "\n",
       "    .dataframe thead th {\n",
       "        text-align: right;\n",
       "    }\n",
       "</style>\n",
       "<table border=\"1\" class=\"dataframe\">\n",
       "  <thead>\n",
       "    <tr style=\"text-align: right;\">\n",
       "      <th></th>\n",
       "      <th>City</th>\n",
       "      <th>Price</th>\n",
       "      <th>Posted By</th>\n",
       "      <th>BHK</th>\n",
       "      <th>Residential_type</th>\n",
       "      <th>Furnishing</th>\n",
       "      <th>Bathroom</th>\n",
       "      <th>Tenants_preferred</th>\n",
       "      <th>Balcony</th>\n",
       "      <th>Posted_by</th>\n",
       "    </tr>\n",
       "  </thead>\n",
       "  <tbody>\n",
       "    <tr>\n",
       "      <th>0</th>\n",
       "      <td>Hyderabad</td>\n",
       "      <td>₹3.1 Lac</td>\n",
       "      <td>Agent: Upbricks</td>\n",
       "      <td>5 BHK</td>\n",
       "      <td>Villa</td>\n",
       "      <td>Semi-Furnished</td>\n",
       "      <td>4</td>\n",
       "      <td>Family</td>\n",
       "      <td>1</td>\n",
       "      <td>Agent</td>\n",
       "    </tr>\n",
       "    <tr>\n",
       "      <th>1</th>\n",
       "      <td>Hyderabad</td>\n",
       "      <td>₹36,000</td>\n",
       "      <td>Agent: DNS Infra</td>\n",
       "      <td>3 BHK</td>\n",
       "      <td>Flat</td>\n",
       "      <td>Unfurnished</td>\n",
       "      <td>3</td>\n",
       "      <td>Family</td>\n",
       "      <td>3</td>\n",
       "      <td>Agent</td>\n",
       "    </tr>\n",
       "    <tr>\n",
       "      <th>2</th>\n",
       "      <td>Hyderabad</td>\n",
       "      <td>₹45,000</td>\n",
       "      <td>None</td>\n",
       "      <td>3 BHK</td>\n",
       "      <td>Flat</td>\n",
       "      <td>Semi-Furnished</td>\n",
       "      <td>3</td>\n",
       "      <td>Bachelors/Family</td>\n",
       "      <td>1</td>\n",
       "      <td>NaN</td>\n",
       "    </tr>\n",
       "    <tr>\n",
       "      <th>3</th>\n",
       "      <td>Hyderabad</td>\n",
       "      <td>₹42,000</td>\n",
       "      <td>None</td>\n",
       "      <td>2 BHK</td>\n",
       "      <td>Flat</td>\n",
       "      <td>Furnished</td>\n",
       "      <td>2</td>\n",
       "      <td>Bachelors</td>\n",
       "      <td>1</td>\n",
       "      <td>NaN</td>\n",
       "    </tr>\n",
       "    <tr>\n",
       "      <th>4</th>\n",
       "      <td>Hyderabad</td>\n",
       "      <td>₹1.1 Lac</td>\n",
       "      <td>Agent: H 3 Realty</td>\n",
       "      <td>4 BHK</td>\n",
       "      <td>Villa</td>\n",
       "      <td>Semi-Furnished</td>\n",
       "      <td>7</td>\n",
       "      <td>Bachelors/Family</td>\n",
       "      <td>2</td>\n",
       "      <td>Agent</td>\n",
       "    </tr>\n",
       "    <tr>\n",
       "      <th>...</th>\n",
       "      <td>...</td>\n",
       "      <td>...</td>\n",
       "      <td>...</td>\n",
       "      <td>...</td>\n",
       "      <td>...</td>\n",
       "      <td>...</td>\n",
       "      <td>...</td>\n",
       "      <td>...</td>\n",
       "      <td>...</td>\n",
       "      <td>...</td>\n",
       "    </tr>\n",
       "    <tr>\n",
       "      <th>1825</th>\n",
       "      <td>Ahmedabad</td>\n",
       "      <td>₹2.3 Lac</td>\n",
       "      <td>Agent: S K Properties</td>\n",
       "      <td>4 BHK</td>\n",
       "      <td>Villa</td>\n",
       "      <td>Furnished</td>\n",
       "      <td>4</td>\n",
       "      <td>Family</td>\n",
       "      <td>3</td>\n",
       "      <td>Agent</td>\n",
       "    </tr>\n",
       "    <tr>\n",
       "      <th>1826</th>\n",
       "      <td>Ahmedabad</td>\n",
       "      <td>₹50,000</td>\n",
       "      <td>Owner: Suresh Patel</td>\n",
       "      <td>3 BHK</td>\n",
       "      <td>Apartment</td>\n",
       "      <td>Furnished</td>\n",
       "      <td>3</td>\n",
       "      <td>Family</td>\n",
       "      <td>1</td>\n",
       "      <td>Owner</td>\n",
       "    </tr>\n",
       "    <tr>\n",
       "      <th>1827</th>\n",
       "      <td>Ahmedabad</td>\n",
       "      <td>₹50,000</td>\n",
       "      <td>Agent: Real Estate</td>\n",
       "      <td>5 BHK</td>\n",
       "      <td>Villa</td>\n",
       "      <td>Semi-Furnished</td>\n",
       "      <td>5</td>\n",
       "      <td>Family</td>\n",
       "      <td>2</td>\n",
       "      <td>Agent</td>\n",
       "    </tr>\n",
       "    <tr>\n",
       "      <th>1828</th>\n",
       "      <td>Ahmedabad</td>\n",
       "      <td>₹38,000</td>\n",
       "      <td>Owner: Sandip</td>\n",
       "      <td>3 BHK</td>\n",
       "      <td>Apartment</td>\n",
       "      <td>Unfurnished</td>\n",
       "      <td>3</td>\n",
       "      <td>Bachelors</td>\n",
       "      <td>2</td>\n",
       "      <td>Owner</td>\n",
       "    </tr>\n",
       "    <tr>\n",
       "      <th>1829</th>\n",
       "      <td>Ahmedabad</td>\n",
       "      <td>₹26,000</td>\n",
       "      <td>Agent: Ashish  Chudasama</td>\n",
       "      <td>3 BHK</td>\n",
       "      <td>Apartment</td>\n",
       "      <td>Unfurnished</td>\n",
       "      <td>3</td>\n",
       "      <td>Bachelors/Family</td>\n",
       "      <td>1</td>\n",
       "      <td>Agent</td>\n",
       "    </tr>\n",
       "  </tbody>\n",
       "</table>\n",
       "<p>1830 rows × 10 columns</p>\n",
       "</div>"
      ],
      "text/plain": [
       "           City     Price                 Posted By    BHK Residential_type  \\\n",
       "0     Hyderabad  ₹3.1 Lac           Agent: Upbricks  5 BHK            Villa   \n",
       "1     Hyderabad   ₹36,000          Agent: DNS Infra  3 BHK            Flat    \n",
       "2     Hyderabad   ₹45,000                      None  3 BHK            Flat    \n",
       "3     Hyderabad   ₹42,000                      None  2 BHK            Flat    \n",
       "4     Hyderabad  ₹1.1 Lac         Agent: H 3 Realty  4 BHK            Villa   \n",
       "...         ...       ...                       ...    ...              ...   \n",
       "1825  Ahmedabad  ₹2.3 Lac     Agent: S K Properties  4 BHK            Villa   \n",
       "1826  Ahmedabad   ₹50,000       Owner: Suresh Patel  3 BHK        Apartment   \n",
       "1827  Ahmedabad   ₹50,000        Agent: Real Estate  5 BHK            Villa   \n",
       "1828  Ahmedabad   ₹38,000             Owner: Sandip  3 BHK        Apartment   \n",
       "1829  Ahmedabad   ₹26,000  Agent: Ashish  Chudasama  3 BHK        Apartment   \n",
       "\n",
       "          Furnishing Bathroom Tenants_preferred Balcony Posted_by  \n",
       "0     Semi-Furnished        4            Family       1     Agent  \n",
       "1        Unfurnished        3            Family       3     Agent  \n",
       "2     Semi-Furnished        3  Bachelors/Family       1       NaN  \n",
       "3          Furnished        2         Bachelors       1       NaN  \n",
       "4     Semi-Furnished        7  Bachelors/Family       2     Agent  \n",
       "...              ...      ...               ...     ...       ...  \n",
       "1825       Furnished        4            Family       3     Agent  \n",
       "1826       Furnished        3            Family       1     Owner  \n",
       "1827  Semi-Furnished        5            Family       2     Agent  \n",
       "1828     Unfurnished        3         Bachelors       2     Owner  \n",
       "1829     Unfurnished        3  Bachelors/Family       1     Agent  \n",
       "\n",
       "[1830 rows x 10 columns]"
      ]
     },
     "execution_count": 117,
     "metadata": {},
     "output_type": "execute_result"
    }
   ],
   "source": [
    "raw_df"
   ]
  },
  {
   "cell_type": "code",
   "execution_count": 118,
   "id": "310fdc8c-edf8-4f21-aa10-4ac044d57e4a",
   "metadata": {
    "execution": {
     "iopub.execute_input": "2025-03-20T11:12:06.791840Z",
     "iopub.status.busy": "2025-03-20T11:12:06.791840Z",
     "iopub.status.idle": "2025-03-20T11:12:06.808539Z",
     "shell.execute_reply": "2025-03-20T11:12:06.808209Z",
     "shell.execute_reply.started": "2025-03-20T11:12:06.791840Z"
    }
   },
   "outputs": [
    {
     "name": "stdout",
     "output_type": "stream",
     "text": [
      "Index(['City', 'Price', 'Posted By', 'BHK', 'Residential_type', 'Furnishing',\n",
      "       'Bathroom', 'Tenants_preferred', 'Balcony', 'Posted_by'],\n",
      "      dtype='object')\n"
     ]
    }
   ],
   "source": [
    "print(raw_df.columns)"
   ]
  },
  {
   "cell_type": "code",
   "execution_count": 119,
   "id": "45635b7f-208a-4e1f-9533-ca615ffa33d8",
   "metadata": {
    "execution": {
     "iopub.execute_input": "2025-03-20T11:12:07.311170Z",
     "iopub.status.busy": "2025-03-20T11:12:07.311170Z",
     "iopub.status.idle": "2025-03-20T11:12:07.330942Z",
     "shell.execute_reply": "2025-03-20T11:12:07.328193Z",
     "shell.execute_reply.started": "2025-03-20T11:12:07.311170Z"
    }
   },
   "outputs": [],
   "source": [
    "new_cols = ['BHK','Residential_type','Furnishing', 'Bathroom', 'Tenants_preferred', 'Balcony', 'Posted_by', 'City','Price', ]\n",
    "df = raw_df[new_cols]"
   ]
  },
  {
   "cell_type": "code",
   "execution_count": 120,
   "id": "cebce72d-5594-4b8a-b6fb-e1bc402a0dc6",
   "metadata": {
    "execution": {
     "iopub.execute_input": "2025-03-20T11:12:08.020854Z",
     "iopub.status.busy": "2025-03-20T11:12:08.020854Z",
     "iopub.status.idle": "2025-03-20T11:12:08.054083Z",
     "shell.execute_reply": "2025-03-20T11:12:08.054083Z",
     "shell.execute_reply.started": "2025-03-20T11:12:08.020854Z"
    }
   },
   "outputs": [
    {
     "data": {
      "text/html": [
       "<div>\n",
       "<style scoped>\n",
       "    .dataframe tbody tr th:only-of-type {\n",
       "        vertical-align: middle;\n",
       "    }\n",
       "\n",
       "    .dataframe tbody tr th {\n",
       "        vertical-align: top;\n",
       "    }\n",
       "\n",
       "    .dataframe thead th {\n",
       "        text-align: right;\n",
       "    }\n",
       "</style>\n",
       "<table border=\"1\" class=\"dataframe\">\n",
       "  <thead>\n",
       "    <tr style=\"text-align: right;\">\n",
       "      <th></th>\n",
       "      <th>BHK</th>\n",
       "      <th>Residential_type</th>\n",
       "      <th>Furnishing</th>\n",
       "      <th>Bathroom</th>\n",
       "      <th>Tenants_preferred</th>\n",
       "      <th>Balcony</th>\n",
       "      <th>Posted_by</th>\n",
       "      <th>City</th>\n",
       "      <th>Price</th>\n",
       "    </tr>\n",
       "  </thead>\n",
       "  <tbody>\n",
       "    <tr>\n",
       "      <th>0</th>\n",
       "      <td>5 BHK</td>\n",
       "      <td>Villa</td>\n",
       "      <td>Semi-Furnished</td>\n",
       "      <td>4</td>\n",
       "      <td>Family</td>\n",
       "      <td>1</td>\n",
       "      <td>Agent</td>\n",
       "      <td>Hyderabad</td>\n",
       "      <td>₹3.1 Lac</td>\n",
       "    </tr>\n",
       "    <tr>\n",
       "      <th>1</th>\n",
       "      <td>3 BHK</td>\n",
       "      <td>Flat</td>\n",
       "      <td>Unfurnished</td>\n",
       "      <td>3</td>\n",
       "      <td>Family</td>\n",
       "      <td>3</td>\n",
       "      <td>Agent</td>\n",
       "      <td>Hyderabad</td>\n",
       "      <td>₹36,000</td>\n",
       "    </tr>\n",
       "    <tr>\n",
       "      <th>2</th>\n",
       "      <td>3 BHK</td>\n",
       "      <td>Flat</td>\n",
       "      <td>Semi-Furnished</td>\n",
       "      <td>3</td>\n",
       "      <td>Bachelors/Family</td>\n",
       "      <td>1</td>\n",
       "      <td>NaN</td>\n",
       "      <td>Hyderabad</td>\n",
       "      <td>₹45,000</td>\n",
       "    </tr>\n",
       "    <tr>\n",
       "      <th>3</th>\n",
       "      <td>2 BHK</td>\n",
       "      <td>Flat</td>\n",
       "      <td>Furnished</td>\n",
       "      <td>2</td>\n",
       "      <td>Bachelors</td>\n",
       "      <td>1</td>\n",
       "      <td>NaN</td>\n",
       "      <td>Hyderabad</td>\n",
       "      <td>₹42,000</td>\n",
       "    </tr>\n",
       "    <tr>\n",
       "      <th>4</th>\n",
       "      <td>4 BHK</td>\n",
       "      <td>Villa</td>\n",
       "      <td>Semi-Furnished</td>\n",
       "      <td>7</td>\n",
       "      <td>Bachelors/Family</td>\n",
       "      <td>2</td>\n",
       "      <td>Agent</td>\n",
       "      <td>Hyderabad</td>\n",
       "      <td>₹1.1 Lac</td>\n",
       "    </tr>\n",
       "    <tr>\n",
       "      <th>...</th>\n",
       "      <td>...</td>\n",
       "      <td>...</td>\n",
       "      <td>...</td>\n",
       "      <td>...</td>\n",
       "      <td>...</td>\n",
       "      <td>...</td>\n",
       "      <td>...</td>\n",
       "      <td>...</td>\n",
       "      <td>...</td>\n",
       "    </tr>\n",
       "    <tr>\n",
       "      <th>1825</th>\n",
       "      <td>4 BHK</td>\n",
       "      <td>Villa</td>\n",
       "      <td>Furnished</td>\n",
       "      <td>4</td>\n",
       "      <td>Family</td>\n",
       "      <td>3</td>\n",
       "      <td>Agent</td>\n",
       "      <td>Ahmedabad</td>\n",
       "      <td>₹2.3 Lac</td>\n",
       "    </tr>\n",
       "    <tr>\n",
       "      <th>1826</th>\n",
       "      <td>3 BHK</td>\n",
       "      <td>Apartment</td>\n",
       "      <td>Furnished</td>\n",
       "      <td>3</td>\n",
       "      <td>Family</td>\n",
       "      <td>1</td>\n",
       "      <td>Owner</td>\n",
       "      <td>Ahmedabad</td>\n",
       "      <td>₹50,000</td>\n",
       "    </tr>\n",
       "    <tr>\n",
       "      <th>1827</th>\n",
       "      <td>5 BHK</td>\n",
       "      <td>Villa</td>\n",
       "      <td>Semi-Furnished</td>\n",
       "      <td>5</td>\n",
       "      <td>Family</td>\n",
       "      <td>2</td>\n",
       "      <td>Agent</td>\n",
       "      <td>Ahmedabad</td>\n",
       "      <td>₹50,000</td>\n",
       "    </tr>\n",
       "    <tr>\n",
       "      <th>1828</th>\n",
       "      <td>3 BHK</td>\n",
       "      <td>Apartment</td>\n",
       "      <td>Unfurnished</td>\n",
       "      <td>3</td>\n",
       "      <td>Bachelors</td>\n",
       "      <td>2</td>\n",
       "      <td>Owner</td>\n",
       "      <td>Ahmedabad</td>\n",
       "      <td>₹38,000</td>\n",
       "    </tr>\n",
       "    <tr>\n",
       "      <th>1829</th>\n",
       "      <td>3 BHK</td>\n",
       "      <td>Apartment</td>\n",
       "      <td>Unfurnished</td>\n",
       "      <td>3</td>\n",
       "      <td>Bachelors/Family</td>\n",
       "      <td>1</td>\n",
       "      <td>Agent</td>\n",
       "      <td>Ahmedabad</td>\n",
       "      <td>₹26,000</td>\n",
       "    </tr>\n",
       "  </tbody>\n",
       "</table>\n",
       "<p>1830 rows × 9 columns</p>\n",
       "</div>"
      ],
      "text/plain": [
       "        BHK Residential_type      Furnishing Bathroom Tenants_preferred  \\\n",
       "0     5 BHK            Villa  Semi-Furnished        4            Family   \n",
       "1     3 BHK            Flat      Unfurnished        3            Family   \n",
       "2     3 BHK            Flat   Semi-Furnished        3  Bachelors/Family   \n",
       "3     2 BHK            Flat        Furnished        2         Bachelors   \n",
       "4     4 BHK            Villa  Semi-Furnished        7  Bachelors/Family   \n",
       "...     ...              ...             ...      ...               ...   \n",
       "1825  4 BHK            Villa       Furnished        4            Family   \n",
       "1826  3 BHK        Apartment       Furnished        3            Family   \n",
       "1827  5 BHK            Villa  Semi-Furnished        5            Family   \n",
       "1828  3 BHK        Apartment     Unfurnished        3         Bachelors   \n",
       "1829  3 BHK        Apartment     Unfurnished        3  Bachelors/Family   \n",
       "\n",
       "     Balcony Posted_by       City     Price  \n",
       "0          1     Agent  Hyderabad  ₹3.1 Lac  \n",
       "1          3     Agent  Hyderabad   ₹36,000  \n",
       "2          1       NaN  Hyderabad   ₹45,000  \n",
       "3          1       NaN  Hyderabad   ₹42,000  \n",
       "4          2     Agent  Hyderabad  ₹1.1 Lac  \n",
       "...      ...       ...        ...       ...  \n",
       "1825       3     Agent  Ahmedabad  ₹2.3 Lac  \n",
       "1826       1     Owner  Ahmedabad   ₹50,000  \n",
       "1827       2     Agent  Ahmedabad   ₹50,000  \n",
       "1828       2     Owner  Ahmedabad   ₹38,000  \n",
       "1829       1     Agent  Ahmedabad   ₹26,000  \n",
       "\n",
       "[1830 rows x 9 columns]"
      ]
     },
     "execution_count": 120,
     "metadata": {},
     "output_type": "execute_result"
    }
   ],
   "source": [
    "df"
   ]
  },
  {
   "cell_type": "markdown",
   "id": "3c2c1cb0-300e-4566-8c8b-b865b06c0b9c",
   "metadata": {},
   "source": [
    "### Exporting into .csv format"
   ]
  },
  {
   "cell_type": "code",
   "execution_count": 121,
   "id": "e9296784-aa95-49fc-ba6d-334d0b2e70ab",
   "metadata": {
    "execution": {
     "iopub.execute_input": "2025-03-20T11:12:22.589585Z",
     "iopub.status.busy": "2025-03-20T11:12:22.587946Z",
     "iopub.status.idle": "2025-03-20T11:12:22.614083Z",
     "shell.execute_reply": "2025-03-20T11:12:22.614083Z",
     "shell.execute_reply.started": "2025-03-20T11:12:22.589585Z"
    }
   },
   "outputs": [],
   "source": [
    "df.to_csv(r'C:\\Users\\91630\\Innomatics-DA\\Project\\magicbricksdata.csv',index=False)"
   ]
  },
  {
   "cell_type": "code",
   "execution_count": 7,
   "id": "364231c5-dcc2-4522-afcb-1849789c68c2",
   "metadata": {
    "execution": {
     "iopub.execute_input": "2025-03-22T05:24:21.856588Z",
     "iopub.status.busy": "2025-03-22T05:24:21.856588Z",
     "iopub.status.idle": "2025-03-22T05:24:21.917684Z",
     "shell.execute_reply": "2025-03-22T05:24:21.917684Z",
     "shell.execute_reply.started": "2025-03-22T05:24:21.856588Z"
    }
   },
   "outputs": [
    {
     "data": {
      "text/html": [
       "<div>\n",
       "<style scoped>\n",
       "    .dataframe tbody tr th:only-of-type {\n",
       "        vertical-align: middle;\n",
       "    }\n",
       "\n",
       "    .dataframe tbody tr th {\n",
       "        vertical-align: top;\n",
       "    }\n",
       "\n",
       "    .dataframe thead th {\n",
       "        text-align: right;\n",
       "    }\n",
       "</style>\n",
       "<table border=\"1\" class=\"dataframe\">\n",
       "  <thead>\n",
       "    <tr style=\"text-align: right;\">\n",
       "      <th></th>\n",
       "      <th>BHK</th>\n",
       "      <th>Residential_type</th>\n",
       "      <th>Furnishing</th>\n",
       "      <th>Bathroom</th>\n",
       "      <th>Tenants_preferred</th>\n",
       "      <th>Balcony</th>\n",
       "      <th>Posted_by</th>\n",
       "      <th>City</th>\n",
       "      <th>Price</th>\n",
       "    </tr>\n",
       "  </thead>\n",
       "  <tbody>\n",
       "    <tr>\n",
       "      <th>0</th>\n",
       "      <td>5 BHK</td>\n",
       "      <td>Villa</td>\n",
       "      <td>Semi-Furnished</td>\n",
       "      <td>4</td>\n",
       "      <td>Family</td>\n",
       "      <td>1.0</td>\n",
       "      <td>Agent</td>\n",
       "      <td>Hyderabad</td>\n",
       "      <td>₹3.1 Lac</td>\n",
       "    </tr>\n",
       "    <tr>\n",
       "      <th>1</th>\n",
       "      <td>3 BHK</td>\n",
       "      <td>Flat</td>\n",
       "      <td>Unfurnished</td>\n",
       "      <td>3</td>\n",
       "      <td>Family</td>\n",
       "      <td>3.0</td>\n",
       "      <td>Agent</td>\n",
       "      <td>Hyderabad</td>\n",
       "      <td>₹36,000</td>\n",
       "    </tr>\n",
       "    <tr>\n",
       "      <th>2</th>\n",
       "      <td>3 BHK</td>\n",
       "      <td>Flat</td>\n",
       "      <td>Semi-Furnished</td>\n",
       "      <td>3</td>\n",
       "      <td>Bachelors/Family</td>\n",
       "      <td>1.0</td>\n",
       "      <td>NaN</td>\n",
       "      <td>Hyderabad</td>\n",
       "      <td>₹45,000</td>\n",
       "    </tr>\n",
       "    <tr>\n",
       "      <th>3</th>\n",
       "      <td>2 BHK</td>\n",
       "      <td>Flat</td>\n",
       "      <td>Furnished</td>\n",
       "      <td>2</td>\n",
       "      <td>Bachelors</td>\n",
       "      <td>1.0</td>\n",
       "      <td>NaN</td>\n",
       "      <td>Hyderabad</td>\n",
       "      <td>₹42,000</td>\n",
       "    </tr>\n",
       "    <tr>\n",
       "      <th>4</th>\n",
       "      <td>4 BHK</td>\n",
       "      <td>Villa</td>\n",
       "      <td>Semi-Furnished</td>\n",
       "      <td>7</td>\n",
       "      <td>Bachelors/Family</td>\n",
       "      <td>2.0</td>\n",
       "      <td>Agent</td>\n",
       "      <td>Hyderabad</td>\n",
       "      <td>₹1.1 Lac</td>\n",
       "    </tr>\n",
       "    <tr>\n",
       "      <th>...</th>\n",
       "      <td>...</td>\n",
       "      <td>...</td>\n",
       "      <td>...</td>\n",
       "      <td>...</td>\n",
       "      <td>...</td>\n",
       "      <td>...</td>\n",
       "      <td>...</td>\n",
       "      <td>...</td>\n",
       "      <td>...</td>\n",
       "    </tr>\n",
       "    <tr>\n",
       "      <th>1825</th>\n",
       "      <td>4 BHK</td>\n",
       "      <td>Villa</td>\n",
       "      <td>Furnished</td>\n",
       "      <td>4</td>\n",
       "      <td>Family</td>\n",
       "      <td>3.0</td>\n",
       "      <td>Agent</td>\n",
       "      <td>Ahmedabad</td>\n",
       "      <td>₹2.3 Lac</td>\n",
       "    </tr>\n",
       "    <tr>\n",
       "      <th>1826</th>\n",
       "      <td>3 BHK</td>\n",
       "      <td>Apartment</td>\n",
       "      <td>Furnished</td>\n",
       "      <td>3</td>\n",
       "      <td>Family</td>\n",
       "      <td>1.0</td>\n",
       "      <td>Owner</td>\n",
       "      <td>Ahmedabad</td>\n",
       "      <td>₹50,000</td>\n",
       "    </tr>\n",
       "    <tr>\n",
       "      <th>1827</th>\n",
       "      <td>5 BHK</td>\n",
       "      <td>Villa</td>\n",
       "      <td>Semi-Furnished</td>\n",
       "      <td>5</td>\n",
       "      <td>Family</td>\n",
       "      <td>2.0</td>\n",
       "      <td>Agent</td>\n",
       "      <td>Ahmedabad</td>\n",
       "      <td>₹50,000</td>\n",
       "    </tr>\n",
       "    <tr>\n",
       "      <th>1828</th>\n",
       "      <td>3 BHK</td>\n",
       "      <td>Apartment</td>\n",
       "      <td>Unfurnished</td>\n",
       "      <td>3</td>\n",
       "      <td>Bachelors</td>\n",
       "      <td>2.0</td>\n",
       "      <td>Owner</td>\n",
       "      <td>Ahmedabad</td>\n",
       "      <td>₹38,000</td>\n",
       "    </tr>\n",
       "    <tr>\n",
       "      <th>1829</th>\n",
       "      <td>3 BHK</td>\n",
       "      <td>Apartment</td>\n",
       "      <td>Unfurnished</td>\n",
       "      <td>3</td>\n",
       "      <td>Bachelors/Family</td>\n",
       "      <td>1.0</td>\n",
       "      <td>Agent</td>\n",
       "      <td>Ahmedabad</td>\n",
       "      <td>₹26,000</td>\n",
       "    </tr>\n",
       "  </tbody>\n",
       "</table>\n",
       "<p>1830 rows × 9 columns</p>\n",
       "</div>"
      ],
      "text/plain": [
       "        BHK Residential_type      Furnishing Bathroom Tenants_preferred  \\\n",
       "0     5 BHK            Villa  Semi-Furnished        4            Family   \n",
       "1     3 BHK            Flat      Unfurnished        3            Family   \n",
       "2     3 BHK            Flat   Semi-Furnished        3  Bachelors/Family   \n",
       "3     2 BHK            Flat        Furnished        2         Bachelors   \n",
       "4     4 BHK            Villa  Semi-Furnished        7  Bachelors/Family   \n",
       "...     ...              ...             ...      ...               ...   \n",
       "1825  4 BHK            Villa       Furnished        4            Family   \n",
       "1826  3 BHK        Apartment       Furnished        3            Family   \n",
       "1827  5 BHK            Villa  Semi-Furnished        5            Family   \n",
       "1828  3 BHK        Apartment     Unfurnished        3         Bachelors   \n",
       "1829  3 BHK        Apartment     Unfurnished        3  Bachelors/Family   \n",
       "\n",
       "      Balcony Posted_by       City     Price  \n",
       "0         1.0     Agent  Hyderabad  ₹3.1 Lac  \n",
       "1         3.0     Agent  Hyderabad   ₹36,000  \n",
       "2         1.0       NaN  Hyderabad   ₹45,000  \n",
       "3         1.0       NaN  Hyderabad   ₹42,000  \n",
       "4         2.0     Agent  Hyderabad  ₹1.1 Lac  \n",
       "...       ...       ...        ...       ...  \n",
       "1825      3.0     Agent  Ahmedabad  ₹2.3 Lac  \n",
       "1826      1.0     Owner  Ahmedabad   ₹50,000  \n",
       "1827      2.0     Agent  Ahmedabad   ₹50,000  \n",
       "1828      2.0     Owner  Ahmedabad   ₹38,000  \n",
       "1829      1.0     Agent  Ahmedabad   ₹26,000  \n",
       "\n",
       "[1830 rows x 9 columns]"
      ]
     },
     "execution_count": 7,
     "metadata": {},
     "output_type": "execute_result"
    }
   ],
   "source": [
    "df = pd.read_csv('C:/Users/91630/Innomatics-DA/Project/magicbricksdata.csv')\n",
    "df"
   ]
  },
  {
   "cell_type": "code",
   "execution_count": 8,
   "id": "e94def36-44d7-4038-82ee-1ee604b44688",
   "metadata": {
    "execution": {
     "iopub.execute_input": "2025-03-22T05:24:24.612224Z",
     "iopub.status.busy": "2025-03-22T05:24:24.612224Z",
     "iopub.status.idle": "2025-03-22T05:24:24.628593Z",
     "shell.execute_reply": "2025-03-22T05:24:24.626042Z",
     "shell.execute_reply.started": "2025-03-22T05:24:24.612224Z"
    }
   },
   "outputs": [
    {
     "data": {
      "text/plain": [
       "(1830, 9)"
      ]
     },
     "execution_count": 8,
     "metadata": {},
     "output_type": "execute_result"
    }
   ],
   "source": [
    "df.shape"
   ]
  },
  {
   "cell_type": "code",
   "execution_count": 9,
   "id": "5a6fe8ac-0871-4ac5-ab71-0333a5b114f6",
   "metadata": {
    "execution": {
     "iopub.execute_input": "2025-03-22T05:24:25.395794Z",
     "iopub.status.busy": "2025-03-22T05:24:25.395794Z",
     "iopub.status.idle": "2025-03-22T05:24:25.412185Z",
     "shell.execute_reply": "2025-03-22T05:24:25.410589Z",
     "shell.execute_reply.started": "2025-03-22T05:24:25.395794Z"
    }
   },
   "outputs": [
    {
     "data": {
      "text/plain": [
       "Index(['BHK', 'Residential_type', 'Furnishing', 'Bathroom',\n",
       "       'Tenants_preferred', 'Balcony', 'Posted_by', 'City', 'Price'],\n",
       "      dtype='object')"
      ]
     },
     "execution_count": 9,
     "metadata": {},
     "output_type": "execute_result"
    }
   ],
   "source": [
    "df.columns"
   ]
  },
  {
   "cell_type": "code",
   "execution_count": 10,
   "id": "64dd6355-eb79-4e07-b53f-80e1fb503bfc",
   "metadata": {
    "execution": {
     "iopub.execute_input": "2025-03-22T05:24:25.971671Z",
     "iopub.status.busy": "2025-03-22T05:24:25.967770Z",
     "iopub.status.idle": "2025-03-22T05:24:26.009336Z",
     "shell.execute_reply": "2025-03-22T05:24:26.009336Z",
     "shell.execute_reply.started": "2025-03-22T05:24:25.971671Z"
    }
   },
   "outputs": [
    {
     "name": "stdout",
     "output_type": "stream",
     "text": [
      "<class 'pandas.core.frame.DataFrame'>\n",
      "RangeIndex: 1830 entries, 0 to 1829\n",
      "Data columns (total 9 columns):\n",
      " #   Column             Non-Null Count  Dtype  \n",
      "---  ------             --------------  -----  \n",
      " 0   BHK                1830 non-null   object \n",
      " 1   Residential_type   1830 non-null   object \n",
      " 2   Furnishing         1820 non-null   object \n",
      " 3   Bathroom           1821 non-null   object \n",
      " 4   Tenants_preferred  1828 non-null   object \n",
      " 5   Balcony            1530 non-null   float64\n",
      " 6   Posted_by          1763 non-null   object \n",
      " 7   City               1830 non-null   object \n",
      " 8   Price              1830 non-null   object \n",
      "dtypes: float64(1), object(8)\n",
      "memory usage: 128.8+ KB\n"
     ]
    }
   ],
   "source": [
    "df.info()"
   ]
  },
  {
   "cell_type": "markdown",
   "id": "49b1b3c4-beb4-4520-b282-2b966719f0d7",
   "metadata": {},
   "source": [
    "### Check for missing values"
   ]
  },
  {
   "cell_type": "code",
   "execution_count": 11,
   "id": "e4fae44f-e57b-46c6-84cd-e338a4653fac",
   "metadata": {
    "execution": {
     "iopub.execute_input": "2025-03-22T05:24:28.912634Z",
     "iopub.status.busy": "2025-03-22T05:24:28.912634Z",
     "iopub.status.idle": "2025-03-22T05:24:28.930228Z",
     "shell.execute_reply": "2025-03-22T05:24:28.930228Z",
     "shell.execute_reply.started": "2025-03-22T05:24:28.912634Z"
    }
   },
   "outputs": [
    {
     "data": {
      "text/plain": [
       "BHK                    0\n",
       "Residential_type       0\n",
       "Furnishing            10\n",
       "Bathroom               9\n",
       "Tenants_preferred      2\n",
       "Balcony              300\n",
       "Posted_by             67\n",
       "City                   0\n",
       "Price                  0\n",
       "dtype: int64"
      ]
     },
     "execution_count": 11,
     "metadata": {},
     "output_type": "execute_result"
    }
   ],
   "source": [
    "df.isna().sum()"
   ]
  },
  {
   "cell_type": "code",
   "execution_count": 12,
   "id": "e5cd4271-4835-415e-b7ca-89b7717ba04a",
   "metadata": {
    "execution": {
     "iopub.execute_input": "2025-03-22T05:24:29.688113Z",
     "iopub.status.busy": "2025-03-22T05:24:29.688113Z",
     "iopub.status.idle": "2025-03-22T05:24:29.709924Z",
     "shell.execute_reply": "2025-03-22T05:24:29.707912Z",
     "shell.execute_reply.started": "2025-03-22T05:24:29.688113Z"
    }
   },
   "outputs": [
    {
     "data": {
      "text/plain": [
       "Balcony              300\n",
       "Posted_by             67\n",
       "Furnishing            10\n",
       "Bathroom               9\n",
       "Tenants_preferred      2\n",
       "BHK                    0\n",
       "Residential_type       0\n",
       "City                   0\n",
       "Price                  0\n",
       "dtype: int64"
      ]
     },
     "execution_count": 12,
     "metadata": {},
     "output_type": "execute_result"
    }
   ],
   "source": [
    "# Sort the missing value output based on count  \n",
    "df.isna().sum().sort_values(ascending = False)"
   ]
  },
  {
   "cell_type": "code",
   "execution_count": 13,
   "id": "57b68b79-3922-46af-b622-382c03b6f49e",
   "metadata": {
    "execution": {
     "iopub.execute_input": "2025-03-22T05:24:32.063028Z",
     "iopub.status.busy": "2025-03-22T05:24:32.063028Z",
     "iopub.status.idle": "2025-03-22T05:24:32.088391Z",
     "shell.execute_reply": "2025-03-22T05:24:32.085741Z",
     "shell.execute_reply.started": "2025-03-22T05:24:32.063028Z"
    }
   },
   "outputs": [
    {
     "data": {
      "text/plain": [
       "Balcony              16.39%\n",
       "Posted_by             3.66%\n",
       "Furnishing            0.55%\n",
       "Bathroom              0.49%\n",
       "Tenants_preferred     0.11%\n",
       "BHK                    0.0%\n",
       "Residential_type       0.0%\n",
       "City                   0.0%\n",
       "Price                  0.0%\n",
       "dtype: object"
      ]
     },
     "execution_count": 13,
     "metadata": {},
     "output_type": "execute_result"
    }
   ],
   "source": [
    "# Check the missing value percentage in each colum\n",
    "(((df.isna().sum().sort_values(ascending = False)/len(df))*100).round(2).astype(str) + \"%\")"
   ]
  },
  {
   "cell_type": "markdown",
   "id": "78ec80f1-595b-49c0-a5da-c21843a89663",
   "metadata": {},
   "source": [
    "##### Observation:\n",
    "+ If we have any columns with more than 50% missing values, we need to drop those columns.\n",
    "+ We can skip this step "
   ]
  },
  {
   "cell_type": "markdown",
   "id": "b975e757-7c65-4d7c-a08a-c00304e96ad0",
   "metadata": {},
   "source": [
    "### Cleaning Data"
   ]
  },
  {
   "cell_type": "code",
   "execution_count": 14,
   "id": "4f3bf279-9083-4d08-8f5a-b0b64312cf13",
   "metadata": {
    "execution": {
     "iopub.execute_input": "2025-03-22T05:24:37.050798Z",
     "iopub.status.busy": "2025-03-22T05:24:37.050798Z",
     "iopub.status.idle": "2025-03-22T05:24:37.078408Z",
     "shell.execute_reply": "2025-03-22T05:24:37.076759Z",
     "shell.execute_reply.started": "2025-03-22T05:24:37.050798Z"
    }
   },
   "outputs": [
    {
     "data": {
      "text/html": [
       "<div>\n",
       "<style scoped>\n",
       "    .dataframe tbody tr th:only-of-type {\n",
       "        vertical-align: middle;\n",
       "    }\n",
       "\n",
       "    .dataframe tbody tr th {\n",
       "        vertical-align: top;\n",
       "    }\n",
       "\n",
       "    .dataframe thead th {\n",
       "        text-align: right;\n",
       "    }\n",
       "</style>\n",
       "<table border=\"1\" class=\"dataframe\">\n",
       "  <thead>\n",
       "    <tr style=\"text-align: right;\">\n",
       "      <th></th>\n",
       "      <th>BHK</th>\n",
       "      <th>Residential_type</th>\n",
       "      <th>Furnishing</th>\n",
       "      <th>Bathroom</th>\n",
       "      <th>Tenants_preferred</th>\n",
       "      <th>Balcony</th>\n",
       "      <th>Posted_by</th>\n",
       "      <th>City</th>\n",
       "      <th>Price</th>\n",
       "    </tr>\n",
       "  </thead>\n",
       "  <tbody>\n",
       "    <tr>\n",
       "      <th>0</th>\n",
       "      <td>5 BHK</td>\n",
       "      <td>Villa</td>\n",
       "      <td>Semi-Furnished</td>\n",
       "      <td>4</td>\n",
       "      <td>Family</td>\n",
       "      <td>1.0</td>\n",
       "      <td>Agent</td>\n",
       "      <td>Hyderabad</td>\n",
       "      <td>₹3.1 Lac</td>\n",
       "    </tr>\n",
       "    <tr>\n",
       "      <th>1</th>\n",
       "      <td>3 BHK</td>\n",
       "      <td>Flat</td>\n",
       "      <td>Unfurnished</td>\n",
       "      <td>3</td>\n",
       "      <td>Family</td>\n",
       "      <td>3.0</td>\n",
       "      <td>Agent</td>\n",
       "      <td>Hyderabad</td>\n",
       "      <td>₹36,000</td>\n",
       "    </tr>\n",
       "    <tr>\n",
       "      <th>2</th>\n",
       "      <td>3 BHK</td>\n",
       "      <td>Flat</td>\n",
       "      <td>Semi-Furnished</td>\n",
       "      <td>3</td>\n",
       "      <td>Bachelors/Family</td>\n",
       "      <td>1.0</td>\n",
       "      <td>NaN</td>\n",
       "      <td>Hyderabad</td>\n",
       "      <td>₹45,000</td>\n",
       "    </tr>\n",
       "    <tr>\n",
       "      <th>3</th>\n",
       "      <td>2 BHK</td>\n",
       "      <td>Flat</td>\n",
       "      <td>Furnished</td>\n",
       "      <td>2</td>\n",
       "      <td>Bachelors</td>\n",
       "      <td>1.0</td>\n",
       "      <td>NaN</td>\n",
       "      <td>Hyderabad</td>\n",
       "      <td>₹42,000</td>\n",
       "    </tr>\n",
       "    <tr>\n",
       "      <th>4</th>\n",
       "      <td>4 BHK</td>\n",
       "      <td>Villa</td>\n",
       "      <td>Semi-Furnished</td>\n",
       "      <td>7</td>\n",
       "      <td>Bachelors/Family</td>\n",
       "      <td>2.0</td>\n",
       "      <td>Agent</td>\n",
       "      <td>Hyderabad</td>\n",
       "      <td>₹1.1 Lac</td>\n",
       "    </tr>\n",
       "  </tbody>\n",
       "</table>\n",
       "</div>"
      ],
      "text/plain": [
       "     BHK Residential_type      Furnishing Bathroom Tenants_preferred  Balcony  \\\n",
       "0  5 BHK            Villa  Semi-Furnished        4            Family      1.0   \n",
       "1  3 BHK            Flat      Unfurnished        3            Family      3.0   \n",
       "2  3 BHK            Flat   Semi-Furnished        3  Bachelors/Family      1.0   \n",
       "3  2 BHK            Flat        Furnished        2         Bachelors      1.0   \n",
       "4  4 BHK            Villa  Semi-Furnished        7  Bachelors/Family      2.0   \n",
       "\n",
       "  Posted_by       City     Price  \n",
       "0     Agent  Hyderabad  ₹3.1 Lac  \n",
       "1     Agent  Hyderabad   ₹36,000  \n",
       "2       NaN  Hyderabad   ₹45,000  \n",
       "3       NaN  Hyderabad   ₹42,000  \n",
       "4     Agent  Hyderabad  ₹1.1 Lac  "
      ]
     },
     "execution_count": 14,
     "metadata": {},
     "output_type": "execute_result"
    }
   ],
   "source": [
    "df.head()"
   ]
  },
  {
   "cell_type": "code",
   "execution_count": 15,
   "id": "08abd976-8152-4745-944f-96823d102570",
   "metadata": {
    "execution": {
     "iopub.execute_input": "2025-03-22T05:24:40.157638Z",
     "iopub.status.busy": "2025-03-22T05:24:40.157638Z",
     "iopub.status.idle": "2025-03-22T05:24:40.178920Z",
     "shell.execute_reply": "2025-03-22T05:24:40.178920Z",
     "shell.execute_reply.started": "2025-03-22T05:24:40.157638Z"
    }
   },
   "outputs": [],
   "source": [
    "df['BHK'] = df['BHK'].str.replace('BHK','').str.strip().astype('int')"
   ]
  },
  {
   "cell_type": "code",
   "execution_count": 16,
   "id": "2c68f24a-fd59-4c97-9ed6-f9a4ea9028ee",
   "metadata": {
    "execution": {
     "iopub.execute_input": "2025-03-22T05:24:40.603624Z",
     "iopub.status.busy": "2025-03-22T05:24:40.603624Z",
     "iopub.status.idle": "2025-03-22T05:24:40.631302Z",
     "shell.execute_reply": "2025-03-22T05:24:40.629292Z",
     "shell.execute_reply.started": "2025-03-22T05:24:40.603624Z"
    }
   },
   "outputs": [],
   "source": [
    "df['Bathroom'] = pd.to_numeric(df['Bathroom'].str.replace('> 10','10'),errors='coerce').astype('Int64')"
   ]
  },
  {
   "cell_type": "code",
   "execution_count": 17,
   "id": "bb7dd10d-24f6-480d-9c49-8b77b0c36a37",
   "metadata": {
    "execution": {
     "iopub.execute_input": "2025-03-22T05:24:40.946717Z",
     "iopub.status.busy": "2025-03-22T05:24:40.946717Z",
     "iopub.status.idle": "2025-03-22T05:24:40.963947Z",
     "shell.execute_reply": "2025-03-22T05:24:40.963947Z",
     "shell.execute_reply.started": "2025-03-22T05:24:40.946717Z"
    }
   },
   "outputs": [],
   "source": [
    "df['Balcony'] = pd.to_numeric(df['Balcony'],errors='coerce').astype('Int64')"
   ]
  },
  {
   "cell_type": "code",
   "execution_count": 18,
   "id": "bfb16d64-dafd-429a-98ff-91aef0ad3f69",
   "metadata": {
    "execution": {
     "iopub.execute_input": "2025-03-22T05:24:41.304949Z",
     "iopub.status.busy": "2025-03-22T05:24:41.304949Z",
     "iopub.status.idle": "2025-03-22T05:24:41.330271Z",
     "shell.execute_reply": "2025-03-22T05:24:41.330271Z",
     "shell.execute_reply.started": "2025-03-22T05:24:41.304949Z"
    }
   },
   "outputs": [],
   "source": [
    "df['Price'] = df['Price'].str.replace(' Lac','0000').str.replace('.','').str.replace(',','').str.replace('₹','').str.strip().astype('int')"
   ]
  },
  {
   "cell_type": "code",
   "execution_count": 19,
   "id": "b8b03a4b-6391-4b83-98f9-6426cf39860a",
   "metadata": {
    "execution": {
     "iopub.execute_input": "2025-03-22T05:24:41.854503Z",
     "iopub.status.busy": "2025-03-22T05:24:41.854503Z",
     "iopub.status.idle": "2025-03-22T05:24:41.890438Z",
     "shell.execute_reply": "2025-03-22T05:24:41.890438Z",
     "shell.execute_reply.started": "2025-03-22T05:24:41.854503Z"
    }
   },
   "outputs": [
    {
     "data": {
      "text/html": [
       "<div>\n",
       "<style scoped>\n",
       "    .dataframe tbody tr th:only-of-type {\n",
       "        vertical-align: middle;\n",
       "    }\n",
       "\n",
       "    .dataframe tbody tr th {\n",
       "        vertical-align: top;\n",
       "    }\n",
       "\n",
       "    .dataframe thead th {\n",
       "        text-align: right;\n",
       "    }\n",
       "</style>\n",
       "<table border=\"1\" class=\"dataframe\">\n",
       "  <thead>\n",
       "    <tr style=\"text-align: right;\">\n",
       "      <th></th>\n",
       "      <th>BHK</th>\n",
       "      <th>Residential_type</th>\n",
       "      <th>Furnishing</th>\n",
       "      <th>Bathroom</th>\n",
       "      <th>Tenants_preferred</th>\n",
       "      <th>Balcony</th>\n",
       "      <th>Posted_by</th>\n",
       "      <th>City</th>\n",
       "      <th>Price</th>\n",
       "    </tr>\n",
       "  </thead>\n",
       "  <tbody>\n",
       "    <tr>\n",
       "      <th>0</th>\n",
       "      <td>5</td>\n",
       "      <td>Villa</td>\n",
       "      <td>Semi-Furnished</td>\n",
       "      <td>4</td>\n",
       "      <td>Family</td>\n",
       "      <td>1</td>\n",
       "      <td>Agent</td>\n",
       "      <td>Hyderabad</td>\n",
       "      <td>310000</td>\n",
       "    </tr>\n",
       "    <tr>\n",
       "      <th>1</th>\n",
       "      <td>3</td>\n",
       "      <td>Flat</td>\n",
       "      <td>Unfurnished</td>\n",
       "      <td>3</td>\n",
       "      <td>Family</td>\n",
       "      <td>3</td>\n",
       "      <td>Agent</td>\n",
       "      <td>Hyderabad</td>\n",
       "      <td>36000</td>\n",
       "    </tr>\n",
       "    <tr>\n",
       "      <th>2</th>\n",
       "      <td>3</td>\n",
       "      <td>Flat</td>\n",
       "      <td>Semi-Furnished</td>\n",
       "      <td>3</td>\n",
       "      <td>Bachelors/Family</td>\n",
       "      <td>1</td>\n",
       "      <td>NaN</td>\n",
       "      <td>Hyderabad</td>\n",
       "      <td>45000</td>\n",
       "    </tr>\n",
       "    <tr>\n",
       "      <th>3</th>\n",
       "      <td>2</td>\n",
       "      <td>Flat</td>\n",
       "      <td>Furnished</td>\n",
       "      <td>2</td>\n",
       "      <td>Bachelors</td>\n",
       "      <td>1</td>\n",
       "      <td>NaN</td>\n",
       "      <td>Hyderabad</td>\n",
       "      <td>42000</td>\n",
       "    </tr>\n",
       "    <tr>\n",
       "      <th>4</th>\n",
       "      <td>4</td>\n",
       "      <td>Villa</td>\n",
       "      <td>Semi-Furnished</td>\n",
       "      <td>7</td>\n",
       "      <td>Bachelors/Family</td>\n",
       "      <td>2</td>\n",
       "      <td>Agent</td>\n",
       "      <td>Hyderabad</td>\n",
       "      <td>110000</td>\n",
       "    </tr>\n",
       "    <tr>\n",
       "      <th>...</th>\n",
       "      <td>...</td>\n",
       "      <td>...</td>\n",
       "      <td>...</td>\n",
       "      <td>...</td>\n",
       "      <td>...</td>\n",
       "      <td>...</td>\n",
       "      <td>...</td>\n",
       "      <td>...</td>\n",
       "      <td>...</td>\n",
       "    </tr>\n",
       "    <tr>\n",
       "      <th>1825</th>\n",
       "      <td>4</td>\n",
       "      <td>Villa</td>\n",
       "      <td>Furnished</td>\n",
       "      <td>4</td>\n",
       "      <td>Family</td>\n",
       "      <td>3</td>\n",
       "      <td>Agent</td>\n",
       "      <td>Ahmedabad</td>\n",
       "      <td>230000</td>\n",
       "    </tr>\n",
       "    <tr>\n",
       "      <th>1826</th>\n",
       "      <td>3</td>\n",
       "      <td>Apartment</td>\n",
       "      <td>Furnished</td>\n",
       "      <td>3</td>\n",
       "      <td>Family</td>\n",
       "      <td>1</td>\n",
       "      <td>Owner</td>\n",
       "      <td>Ahmedabad</td>\n",
       "      <td>50000</td>\n",
       "    </tr>\n",
       "    <tr>\n",
       "      <th>1827</th>\n",
       "      <td>5</td>\n",
       "      <td>Villa</td>\n",
       "      <td>Semi-Furnished</td>\n",
       "      <td>5</td>\n",
       "      <td>Family</td>\n",
       "      <td>2</td>\n",
       "      <td>Agent</td>\n",
       "      <td>Ahmedabad</td>\n",
       "      <td>50000</td>\n",
       "    </tr>\n",
       "    <tr>\n",
       "      <th>1828</th>\n",
       "      <td>3</td>\n",
       "      <td>Apartment</td>\n",
       "      <td>Unfurnished</td>\n",
       "      <td>3</td>\n",
       "      <td>Bachelors</td>\n",
       "      <td>2</td>\n",
       "      <td>Owner</td>\n",
       "      <td>Ahmedabad</td>\n",
       "      <td>38000</td>\n",
       "    </tr>\n",
       "    <tr>\n",
       "      <th>1829</th>\n",
       "      <td>3</td>\n",
       "      <td>Apartment</td>\n",
       "      <td>Unfurnished</td>\n",
       "      <td>3</td>\n",
       "      <td>Bachelors/Family</td>\n",
       "      <td>1</td>\n",
       "      <td>Agent</td>\n",
       "      <td>Ahmedabad</td>\n",
       "      <td>26000</td>\n",
       "    </tr>\n",
       "  </tbody>\n",
       "</table>\n",
       "<p>1830 rows × 9 columns</p>\n",
       "</div>"
      ],
      "text/plain": [
       "      BHK Residential_type      Furnishing  Bathroom Tenants_preferred  \\\n",
       "0       5            Villa  Semi-Furnished         4            Family   \n",
       "1       3            Flat      Unfurnished         3            Family   \n",
       "2       3            Flat   Semi-Furnished         3  Bachelors/Family   \n",
       "3       2            Flat        Furnished         2         Bachelors   \n",
       "4       4            Villa  Semi-Furnished         7  Bachelors/Family   \n",
       "...   ...              ...             ...       ...               ...   \n",
       "1825    4            Villa       Furnished         4            Family   \n",
       "1826    3        Apartment       Furnished         3            Family   \n",
       "1827    5            Villa  Semi-Furnished         5            Family   \n",
       "1828    3        Apartment     Unfurnished         3         Bachelors   \n",
       "1829    3        Apartment     Unfurnished         3  Bachelors/Family   \n",
       "\n",
       "      Balcony Posted_by       City   Price  \n",
       "0           1     Agent  Hyderabad  310000  \n",
       "1           3     Agent  Hyderabad   36000  \n",
       "2           1       NaN  Hyderabad   45000  \n",
       "3           1       NaN  Hyderabad   42000  \n",
       "4           2     Agent  Hyderabad  110000  \n",
       "...       ...       ...        ...     ...  \n",
       "1825        3     Agent  Ahmedabad  230000  \n",
       "1826        1     Owner  Ahmedabad   50000  \n",
       "1827        2     Agent  Ahmedabad   50000  \n",
       "1828        2     Owner  Ahmedabad   38000  \n",
       "1829        1     Agent  Ahmedabad   26000  \n",
       "\n",
       "[1830 rows x 9 columns]"
      ]
     },
     "execution_count": 19,
     "metadata": {},
     "output_type": "execute_result"
    }
   ],
   "source": [
    "df"
   ]
  },
  {
   "cell_type": "code",
   "execution_count": 20,
   "id": "e5edaf11-f714-4ae6-891e-6ac9c636ca88",
   "metadata": {
    "execution": {
     "iopub.execute_input": "2025-03-22T05:24:44.006452Z",
     "iopub.status.busy": "2025-03-22T05:24:44.006452Z",
     "iopub.status.idle": "2025-03-22T05:24:44.034130Z",
     "shell.execute_reply": "2025-03-22T05:24:44.031833Z",
     "shell.execute_reply.started": "2025-03-22T05:24:44.006452Z"
    }
   },
   "outputs": [
    {
     "name": "stdout",
     "output_type": "stream",
     "text": [
      "<class 'pandas.core.frame.DataFrame'>\n",
      "RangeIndex: 1830 entries, 0 to 1829\n",
      "Data columns (total 9 columns):\n",
      " #   Column             Non-Null Count  Dtype \n",
      "---  ------             --------------  ----- \n",
      " 0   BHK                1830 non-null   int32 \n",
      " 1   Residential_type   1830 non-null   object\n",
      " 2   Furnishing         1820 non-null   object\n",
      " 3   Bathroom           1821 non-null   Int64 \n",
      " 4   Tenants_preferred  1828 non-null   object\n",
      " 5   Balcony            1530 non-null   Int64 \n",
      " 6   Posted_by          1763 non-null   object\n",
      " 7   City               1830 non-null   object\n",
      " 8   Price              1830 non-null   int32 \n",
      "dtypes: Int64(2), int32(2), object(5)\n",
      "memory usage: 118.1+ KB\n"
     ]
    }
   ],
   "source": [
    "df.info()"
   ]
  },
  {
   "cell_type": "markdown",
   "id": "703cc24a-4296-4ce5-b4ce-ca9d6f023c8e",
   "metadata": {},
   "source": [
    "### Check for duplicate values"
   ]
  },
  {
   "cell_type": "code",
   "execution_count": 21,
   "id": "e3512dd3-fa91-442d-a4ad-24785969161f",
   "metadata": {
    "execution": {
     "iopub.execute_input": "2025-03-22T05:24:45.499792Z",
     "iopub.status.busy": "2025-03-22T05:24:45.499792Z",
     "iopub.status.idle": "2025-03-22T05:24:45.532856Z",
     "shell.execute_reply": "2025-03-22T05:24:45.532856Z",
     "shell.execute_reply.started": "2025-03-22T05:24:45.499792Z"
    }
   },
   "outputs": [
    {
     "data": {
      "text/plain": [
       "78"
      ]
     },
     "execution_count": 21,
     "metadata": {},
     "output_type": "execute_result"
    }
   ],
   "source": [
    "df.duplicated().sum()"
   ]
  },
  {
   "cell_type": "code",
   "execution_count": 22,
   "id": "87a980bc-5469-40a5-b665-f5457ca1c159",
   "metadata": {
    "execution": {
     "iopub.execute_input": "2025-03-22T05:24:51.783252Z",
     "iopub.status.busy": "2025-03-22T05:24:51.783252Z",
     "iopub.status.idle": "2025-03-22T05:24:51.825958Z",
     "shell.execute_reply": "2025-03-22T05:24:51.825958Z",
     "shell.execute_reply.started": "2025-03-22T05:24:51.783252Z"
    },
    "scrolled": true
   },
   "outputs": [
    {
     "data": {
      "text/html": [
       "<div>\n",
       "<style scoped>\n",
       "    .dataframe tbody tr th:only-of-type {\n",
       "        vertical-align: middle;\n",
       "    }\n",
       "\n",
       "    .dataframe tbody tr th {\n",
       "        vertical-align: top;\n",
       "    }\n",
       "\n",
       "    .dataframe thead th {\n",
       "        text-align: right;\n",
       "    }\n",
       "</style>\n",
       "<table border=\"1\" class=\"dataframe\">\n",
       "  <thead>\n",
       "    <tr style=\"text-align: right;\">\n",
       "      <th></th>\n",
       "      <th>BHK</th>\n",
       "      <th>Residential_type</th>\n",
       "      <th>Furnishing</th>\n",
       "      <th>Bathroom</th>\n",
       "      <th>Tenants_preferred</th>\n",
       "      <th>Balcony</th>\n",
       "      <th>Posted_by</th>\n",
       "      <th>City</th>\n",
       "      <th>Price</th>\n",
       "    </tr>\n",
       "  </thead>\n",
       "  <tbody>\n",
       "    <tr>\n",
       "      <th>130</th>\n",
       "      <td>3</td>\n",
       "      <td>Apartment</td>\n",
       "      <td>Semi-Furnished</td>\n",
       "      <td>3</td>\n",
       "      <td>Bachelors/Family</td>\n",
       "      <td>2</td>\n",
       "      <td>Agent</td>\n",
       "      <td>Hyderabad</td>\n",
       "      <td>68000</td>\n",
       "    </tr>\n",
       "    <tr>\n",
       "      <th>142</th>\n",
       "      <td>2</td>\n",
       "      <td>Apartment</td>\n",
       "      <td>Semi-Furnished</td>\n",
       "      <td>2</td>\n",
       "      <td>Bachelors/Family</td>\n",
       "      <td>2</td>\n",
       "      <td>Agent</td>\n",
       "      <td>Hyderabad</td>\n",
       "      <td>40000</td>\n",
       "    </tr>\n",
       "    <tr>\n",
       "      <th>178</th>\n",
       "      <td>3</td>\n",
       "      <td>Apartment</td>\n",
       "      <td>Semi-Furnished</td>\n",
       "      <td>3</td>\n",
       "      <td>Bachelors/Family</td>\n",
       "      <td>2</td>\n",
       "      <td>Owner</td>\n",
       "      <td>Hyderabad</td>\n",
       "      <td>70000</td>\n",
       "    </tr>\n",
       "    <tr>\n",
       "      <th>214</th>\n",
       "      <td>3</td>\n",
       "      <td>Apartment</td>\n",
       "      <td>Semi-Furnished</td>\n",
       "      <td>3</td>\n",
       "      <td>Bachelors</td>\n",
       "      <td>1</td>\n",
       "      <td>Agent</td>\n",
       "      <td>Hyderabad</td>\n",
       "      <td>50000</td>\n",
       "    </tr>\n",
       "    <tr>\n",
       "      <th>216</th>\n",
       "      <td>3</td>\n",
       "      <td>Apartment</td>\n",
       "      <td>Semi-Furnished</td>\n",
       "      <td>3</td>\n",
       "      <td>Bachelors/Family</td>\n",
       "      <td>2</td>\n",
       "      <td>Owner</td>\n",
       "      <td>Hyderabad</td>\n",
       "      <td>70000</td>\n",
       "    </tr>\n",
       "    <tr>\n",
       "      <th>...</th>\n",
       "      <td>...</td>\n",
       "      <td>...</td>\n",
       "      <td>...</td>\n",
       "      <td>...</td>\n",
       "      <td>...</td>\n",
       "      <td>...</td>\n",
       "      <td>...</td>\n",
       "      <td>...</td>\n",
       "      <td>...</td>\n",
       "    </tr>\n",
       "    <tr>\n",
       "      <th>1781</th>\n",
       "      <td>2</td>\n",
       "      <td>Apartment</td>\n",
       "      <td>Unfurnished</td>\n",
       "      <td>2</td>\n",
       "      <td>Bachelors/Family</td>\n",
       "      <td>1</td>\n",
       "      <td>Agent</td>\n",
       "      <td>Ahmedabad</td>\n",
       "      <td>20000</td>\n",
       "    </tr>\n",
       "    <tr>\n",
       "      <th>1793</th>\n",
       "      <td>3</td>\n",
       "      <td>Apartment</td>\n",
       "      <td>Semi-Furnished</td>\n",
       "      <td>3</td>\n",
       "      <td>Family</td>\n",
       "      <td>1</td>\n",
       "      <td>Agent</td>\n",
       "      <td>Ahmedabad</td>\n",
       "      <td>35000</td>\n",
       "    </tr>\n",
       "    <tr>\n",
       "      <th>1799</th>\n",
       "      <td>3</td>\n",
       "      <td>Apartment</td>\n",
       "      <td>Semi-Furnished</td>\n",
       "      <td>3</td>\n",
       "      <td>Bachelors</td>\n",
       "      <td>1</td>\n",
       "      <td>Agent</td>\n",
       "      <td>Ahmedabad</td>\n",
       "      <td>27000</td>\n",
       "    </tr>\n",
       "    <tr>\n",
       "      <th>1814</th>\n",
       "      <td>3</td>\n",
       "      <td>Apartment</td>\n",
       "      <td>Furnished</td>\n",
       "      <td>3</td>\n",
       "      <td>Family</td>\n",
       "      <td>1</td>\n",
       "      <td>Agent</td>\n",
       "      <td>Ahmedabad</td>\n",
       "      <td>30000</td>\n",
       "    </tr>\n",
       "    <tr>\n",
       "      <th>1825</th>\n",
       "      <td>4</td>\n",
       "      <td>Villa</td>\n",
       "      <td>Furnished</td>\n",
       "      <td>4</td>\n",
       "      <td>Family</td>\n",
       "      <td>3</td>\n",
       "      <td>Agent</td>\n",
       "      <td>Ahmedabad</td>\n",
       "      <td>230000</td>\n",
       "    </tr>\n",
       "  </tbody>\n",
       "</table>\n",
       "<p>78 rows × 9 columns</p>\n",
       "</div>"
      ],
      "text/plain": [
       "      BHK Residential_type      Furnishing  Bathroom Tenants_preferred  \\\n",
       "130     3        Apartment  Semi-Furnished         3  Bachelors/Family   \n",
       "142     2        Apartment  Semi-Furnished         2  Bachelors/Family   \n",
       "178     3        Apartment  Semi-Furnished         3  Bachelors/Family   \n",
       "214     3        Apartment  Semi-Furnished         3         Bachelors   \n",
       "216     3        Apartment  Semi-Furnished         3  Bachelors/Family   \n",
       "...   ...              ...             ...       ...               ...   \n",
       "1781    2        Apartment     Unfurnished         2  Bachelors/Family   \n",
       "1793    3        Apartment  Semi-Furnished         3            Family   \n",
       "1799    3        Apartment  Semi-Furnished         3         Bachelors   \n",
       "1814    3        Apartment       Furnished         3            Family   \n",
       "1825    4            Villa       Furnished         4            Family   \n",
       "\n",
       "      Balcony Posted_by       City   Price  \n",
       "130         2     Agent  Hyderabad   68000  \n",
       "142         2     Agent  Hyderabad   40000  \n",
       "178         2     Owner  Hyderabad   70000  \n",
       "214         1     Agent  Hyderabad   50000  \n",
       "216         2     Owner  Hyderabad   70000  \n",
       "...       ...       ...        ...     ...  \n",
       "1781        1     Agent  Ahmedabad   20000  \n",
       "1793        1     Agent  Ahmedabad   35000  \n",
       "1799        1     Agent  Ahmedabad   27000  \n",
       "1814        1     Agent  Ahmedabad   30000  \n",
       "1825        3     Agent  Ahmedabad  230000  \n",
       "\n",
       "[78 rows x 9 columns]"
      ]
     },
     "execution_count": 22,
     "metadata": {},
     "output_type": "execute_result"
    }
   ],
   "source": [
    "df[df.duplicated()]"
   ]
  },
  {
   "cell_type": "code",
   "execution_count": 23,
   "id": "9692972f-9389-4573-82cc-868f3e474a3f",
   "metadata": {
    "execution": {
     "iopub.execute_input": "2025-03-22T05:24:52.539032Z",
     "iopub.status.busy": "2025-03-22T05:24:52.539032Z",
     "iopub.status.idle": "2025-03-22T05:24:52.555704Z",
     "shell.execute_reply": "2025-03-22T05:24:52.555704Z",
     "shell.execute_reply.started": "2025-03-22T05:24:52.539032Z"
    }
   },
   "outputs": [],
   "source": [
    "df.drop_duplicates(inplace=True)"
   ]
  },
  {
   "cell_type": "code",
   "execution_count": 24,
   "id": "96f96269-991f-4209-86c6-b8f342f4be4a",
   "metadata": {
    "execution": {
     "iopub.execute_input": "2025-03-22T05:24:54.031095Z",
     "iopub.status.busy": "2025-03-22T05:24:54.029081Z",
     "iopub.status.idle": "2025-03-22T05:24:54.055459Z",
     "shell.execute_reply": "2025-03-22T05:24:54.053347Z",
     "shell.execute_reply.started": "2025-03-22T05:24:54.031095Z"
    }
   },
   "outputs": [
    {
     "data": {
      "text/html": [
       "<div>\n",
       "<style scoped>\n",
       "    .dataframe tbody tr th:only-of-type {\n",
       "        vertical-align: middle;\n",
       "    }\n",
       "\n",
       "    .dataframe tbody tr th {\n",
       "        vertical-align: top;\n",
       "    }\n",
       "\n",
       "    .dataframe thead th {\n",
       "        text-align: right;\n",
       "    }\n",
       "</style>\n",
       "<table border=\"1\" class=\"dataframe\">\n",
       "  <thead>\n",
       "    <tr style=\"text-align: right;\">\n",
       "      <th></th>\n",
       "      <th>BHK</th>\n",
       "      <th>Residential_type</th>\n",
       "      <th>Furnishing</th>\n",
       "      <th>Bathroom</th>\n",
       "      <th>Tenants_preferred</th>\n",
       "      <th>Balcony</th>\n",
       "      <th>Posted_by</th>\n",
       "      <th>City</th>\n",
       "      <th>Price</th>\n",
       "    </tr>\n",
       "  </thead>\n",
       "  <tbody>\n",
       "  </tbody>\n",
       "</table>\n",
       "</div>"
      ],
      "text/plain": [
       "Empty DataFrame\n",
       "Columns: [BHK, Residential_type, Furnishing, Bathroom, Tenants_preferred, Balcony, Posted_by, City, Price]\n",
       "Index: []"
      ]
     },
     "execution_count": 24,
     "metadata": {},
     "output_type": "execute_result"
    }
   ],
   "source": [
    "df[df.duplicated()]"
   ]
  },
  {
   "cell_type": "code",
   "execution_count": 25,
   "id": "4831e26b-f9cd-4a23-a408-70d1f1f0f243",
   "metadata": {
    "execution": {
     "iopub.execute_input": "2025-03-22T05:24:57.144065Z",
     "iopub.status.busy": "2025-03-22T05:24:57.143730Z",
     "iopub.status.idle": "2025-03-22T05:24:57.155062Z",
     "shell.execute_reply": "2025-03-22T05:24:57.155062Z",
     "shell.execute_reply.started": "2025-03-22T05:24:57.144065Z"
    }
   },
   "outputs": [],
   "source": [
    "df.reset_index(drop=True, inplace=True)"
   ]
  },
  {
   "cell_type": "code",
   "execution_count": 26,
   "id": "cdb7d193-b33e-4894-8814-de976e7c6fc2",
   "metadata": {
    "execution": {
     "iopub.execute_input": "2025-03-22T05:24:58.013227Z",
     "iopub.status.busy": "2025-03-22T05:24:58.013227Z",
     "iopub.status.idle": "2025-03-22T05:24:58.032142Z",
     "shell.execute_reply": "2025-03-22T05:24:58.032142Z",
     "shell.execute_reply.started": "2025-03-22T05:24:58.013227Z"
    }
   },
   "outputs": [
    {
     "data": {
      "text/plain": [
       "0"
      ]
     },
     "execution_count": 26,
     "metadata": {},
     "output_type": "execute_result"
    }
   ],
   "source": [
    "df.duplicated().sum()"
   ]
  },
  {
   "cell_type": "code",
   "execution_count": 27,
   "id": "cf5a745e-24c9-4025-a21c-5aacc5840e94",
   "metadata": {
    "execution": {
     "iopub.execute_input": "2025-03-22T05:24:58.909506Z",
     "iopub.status.busy": "2025-03-22T05:24:58.909506Z",
     "iopub.status.idle": "2025-03-22T05:24:58.928256Z",
     "shell.execute_reply": "2025-03-22T05:24:58.928256Z",
     "shell.execute_reply.started": "2025-03-22T05:24:58.909506Z"
    }
   },
   "outputs": [
    {
     "data": {
      "text/plain": [
       "(1752, 9)"
      ]
     },
     "execution_count": 27,
     "metadata": {},
     "output_type": "execute_result"
    }
   ],
   "source": [
    "df.shape"
   ]
  },
  {
   "cell_type": "markdown",
   "id": "5c510c68-97e0-4f7c-87d6-0a41e75c36d1",
   "metadata": {},
   "source": [
    "### Handling missing values"
   ]
  },
  {
   "cell_type": "code",
   "execution_count": 28,
   "id": "ec2fa465-7a85-414f-acf3-d7b029445ea3",
   "metadata": {
    "execution": {
     "iopub.execute_input": "2025-03-22T05:25:09.437345Z",
     "iopub.status.busy": "2025-03-22T05:25:09.435316Z",
     "iopub.status.idle": "2025-03-22T05:25:09.458501Z",
     "shell.execute_reply": "2025-03-22T05:25:09.456880Z",
     "shell.execute_reply.started": "2025-03-22T05:25:09.437345Z"
    }
   },
   "outputs": [
    {
     "name": "stdout",
     "output_type": "stream",
     "text": [
      "<class 'pandas.core.frame.DataFrame'>\n",
      "RangeIndex: 1752 entries, 0 to 1751\n",
      "Data columns (total 9 columns):\n",
      " #   Column             Non-Null Count  Dtype \n",
      "---  ------             --------------  ----- \n",
      " 0   BHK                1752 non-null   int32 \n",
      " 1   Residential_type   1752 non-null   object\n",
      " 2   Furnishing         1742 non-null   object\n",
      " 3   Bathroom           1743 non-null   Int64 \n",
      " 4   Tenants_preferred  1750 non-null   object\n",
      " 5   Balcony            1467 non-null   Int64 \n",
      " 6   Posted_by          1685 non-null   object\n",
      " 7   City               1752 non-null   object\n",
      " 8   Price              1752 non-null   int32 \n",
      "dtypes: Int64(2), int32(2), object(5)\n",
      "memory usage: 113.1+ KB\n"
     ]
    }
   ],
   "source": [
    "df.info()"
   ]
  },
  {
   "cell_type": "code",
   "execution_count": 134,
   "id": "f3967dcf-2d00-4f8b-bf09-c758cffcbc94",
   "metadata": {
    "execution": {
     "iopub.execute_input": "2025-03-21T17:44:30.956603Z",
     "iopub.status.busy": "2025-03-21T17:44:30.956603Z",
     "iopub.status.idle": "2025-03-21T17:44:30.966929Z",
     "shell.execute_reply": "2025-03-21T17:44:30.965922Z",
     "shell.execute_reply.started": "2025-03-21T17:44:30.956603Z"
    }
   },
   "outputs": [
    {
     "data": {
      "text/plain": [
       "BHK                    0\n",
       "Residential_type       0\n",
       "Furnishing            10\n",
       "Bathroom               9\n",
       "Tenants_preferred      2\n",
       "Balcony              285\n",
       "Posted_by             67\n",
       "City                   0\n",
       "Price                  0\n",
       "dtype: int64"
      ]
     },
     "execution_count": 134,
     "metadata": {},
     "output_type": "execute_result"
    }
   ],
   "source": [
    "df.isna().sum()"
   ]
  },
  {
   "cell_type": "code",
   "execution_count": 135,
   "id": "e7441833-1197-469d-93d9-185117dc0f29",
   "metadata": {
    "execution": {
     "iopub.execute_input": "2025-03-21T17:44:30.968929Z",
     "iopub.status.busy": "2025-03-21T17:44:30.967930Z",
     "iopub.status.idle": "2025-03-21T17:44:30.992953Z",
     "shell.execute_reply": "2025-03-21T17:44:30.991945Z",
     "shell.execute_reply.started": "2025-03-21T17:44:30.968929Z"
    }
   },
   "outputs": [
    {
     "data": {
      "text/plain": [
       "0.5707762557077625"
      ]
     },
     "execution_count": 135,
     "metadata": {},
     "output_type": "execute_result"
    },
    {
     "data": {
      "text/plain": [
       "0.5136986301369862"
      ]
     },
     "execution_count": 135,
     "metadata": {},
     "output_type": "execute_result"
    },
    {
     "data": {
      "text/plain": [
       "0.1141552511415525"
      ]
     },
     "execution_count": 135,
     "metadata": {},
     "output_type": "execute_result"
    },
    {
     "data": {
      "text/plain": [
       "16.267123287671232"
      ]
     },
     "execution_count": 135,
     "metadata": {},
     "output_type": "execute_result"
    },
    {
     "data": {
      "text/plain": [
       "3.824200913242009"
      ]
     },
     "execution_count": 135,
     "metadata": {},
     "output_type": "execute_result"
    }
   ],
   "source": [
    "# Furnishing, Bathroom, Tenants_preferred, Balcony, Posted_by\n",
    "# percentage of missing values in every column \n",
    "(df.Furnishing.isna().sum()/len(df))*100\n",
    "(df.Bathroom.isna().sum()/len(df))*100\n",
    "(df.Tenants_preferred.isna().sum()/len(df))*100\n",
    "(df.Balcony.isna().sum()/len(df))*100\n",
    "(df.Posted_by.isna().sum()/len(df))*100"
   ]
  },
  {
   "cell_type": "markdown",
   "id": "e869b7d3-ae26-44f7-8d8a-36ec73c547fd",
   "metadata": {},
   "source": [
    "##### Fill the missing values with Mode (Categorical data)"
   ]
  },
  {
   "cell_type": "code",
   "execution_count": 136,
   "id": "97511faa-7283-47bc-8847-56a6af364964",
   "metadata": {
    "execution": {
     "iopub.execute_input": "2025-03-21T17:44:30.993951Z",
     "iopub.status.busy": "2025-03-21T17:44:30.993951Z",
     "iopub.status.idle": "2025-03-21T17:44:31.009432Z",
     "shell.execute_reply": "2025-03-21T17:44:31.008424Z",
     "shell.execute_reply.started": "2025-03-21T17:44:30.993951Z"
    }
   },
   "outputs": [
    {
     "data": {
      "text/plain": [
       "'Semi-Furnished'"
      ]
     },
     "execution_count": 136,
     "metadata": {},
     "output_type": "execute_result"
    },
    {
     "data": {
      "text/plain": [
       "'Bachelors/Family'"
      ]
     },
     "execution_count": 136,
     "metadata": {},
     "output_type": "execute_result"
    },
    {
     "data": {
      "text/plain": [
       "'Owner'"
      ]
     },
     "execution_count": 136,
     "metadata": {},
     "output_type": "execute_result"
    }
   ],
   "source": [
    "df.Furnishing.mode()[0]\n",
    "df.Tenants_preferred.mode()[0]\n",
    "df.Posted_by.mode()[0]"
   ]
  },
  {
   "cell_type": "code",
   "execution_count": 137,
   "id": "fed62af5-337a-4218-a884-80f262fffced",
   "metadata": {
    "execution": {
     "iopub.execute_input": "2025-03-21T17:44:31.012430Z",
     "iopub.status.busy": "2025-03-21T17:44:31.011433Z",
     "iopub.status.idle": "2025-03-21T17:44:31.022691Z",
     "shell.execute_reply": "2025-03-21T17:44:31.022691Z",
     "shell.execute_reply.started": "2025-03-21T17:44:31.012430Z"
    }
   },
   "outputs": [],
   "source": [
    "df.Furnishing.fillna(df.Furnishing.mode().iloc[0], inplace=True)\n",
    "df.Tenants_preferred.fillna(df.Tenants_preferred.mode().iloc[0], inplace=True)\n",
    "df.Posted_by.fillna(df.Posted_by.mode().iloc[0], inplace=True)"
   ]
  },
  {
   "cell_type": "code",
   "execution_count": 138,
   "id": "790a73ec-50cf-4f91-b2cc-5eb4a0f93d9a",
   "metadata": {
    "execution": {
     "iopub.execute_input": "2025-03-21T17:44:31.024696Z",
     "iopub.status.busy": "2025-03-21T17:44:31.024696Z",
     "iopub.status.idle": "2025-03-21T17:44:31.033781Z",
     "shell.execute_reply": "2025-03-21T17:44:31.032757Z",
     "shell.execute_reply.started": "2025-03-21T17:44:31.024696Z"
    }
   },
   "outputs": [
    {
     "data": {
      "text/plain": [
       "BHK                    0\n",
       "Residential_type       0\n",
       "Furnishing             0\n",
       "Bathroom               9\n",
       "Tenants_preferred      0\n",
       "Balcony              285\n",
       "Posted_by              0\n",
       "City                   0\n",
       "Price                  0\n",
       "dtype: int64"
      ]
     },
     "execution_count": 138,
     "metadata": {},
     "output_type": "execute_result"
    }
   ],
   "source": [
    "df.isna().sum()"
   ]
  },
  {
   "cell_type": "markdown",
   "id": "4057395f-9393-42f6-bd6b-47d892a12ceb",
   "metadata": {},
   "source": [
    "##### Fill the missing values with Mean/Median (Numerical data)"
   ]
  },
  {
   "cell_type": "code",
   "execution_count": 139,
   "id": "a19e6607-213b-4f1b-9194-98616c1227d1",
   "metadata": {
    "execution": {
     "iopub.execute_input": "2025-03-21T17:44:31.034780Z",
     "iopub.status.busy": "2025-03-21T17:44:31.034780Z",
     "iopub.status.idle": "2025-03-21T17:44:31.040844Z",
     "shell.execute_reply": "2025-03-21T17:44:31.039836Z",
     "shell.execute_reply.started": "2025-03-21T17:44:31.034780Z"
    }
   },
   "outputs": [
    {
     "data": {
      "text/plain": [
       "Index(['BHK', 'Residential_type', 'Furnishing', 'Bathroom',\n",
       "       'Tenants_preferred', 'Balcony', 'Posted_by', 'City', 'Price'],\n",
       "      dtype='object')"
      ]
     },
     "execution_count": 139,
     "metadata": {},
     "output_type": "execute_result"
    }
   ],
   "source": [
    "df.columns"
   ]
  },
  {
   "cell_type": "code",
   "execution_count": 140,
   "id": "0af52a94-e266-4eaa-a0f5-d396536bb69c",
   "metadata": {
    "execution": {
     "iopub.execute_input": "2025-03-21T17:44:31.041861Z",
     "iopub.status.busy": "2025-03-21T17:44:31.041861Z",
     "iopub.status.idle": "2025-03-21T17:44:31.143313Z",
     "shell.execute_reply": "2025-03-21T17:44:31.142308Z",
     "shell.execute_reply.started": "2025-03-21T17:44:31.041861Z"
    }
   },
   "outputs": [
    {
     "data": {
      "text/plain": [
       "2.0920245398773005"
      ]
     },
     "execution_count": 140,
     "metadata": {},
     "output_type": "execute_result"
    },
    {
     "data": {
      "text/plain": [
       "2.0"
      ]
     },
     "execution_count": 140,
     "metadata": {},
     "output_type": "execute_result"
    },
    {
     "data": {
      "text/html": [
       "<div>\n",
       "<style scoped>\n",
       "    .dataframe tbody tr th:only-of-type {\n",
       "        vertical-align: middle;\n",
       "    }\n",
       "\n",
       "    .dataframe tbody tr th {\n",
       "        vertical-align: top;\n",
       "    }\n",
       "\n",
       "    .dataframe thead tr th {\n",
       "        text-align: left;\n",
       "    }\n",
       "\n",
       "    .dataframe thead tr:last-of-type th {\n",
       "        text-align: right;\n",
       "    }\n",
       "</style>\n",
       "<table border=\"1\" class=\"dataframe\">\n",
       "  <thead>\n",
       "    <tr>\n",
       "      <th></th>\n",
       "      <th></th>\n",
       "      <th colspan=\"2\" halign=\"left\">Balcony</th>\n",
       "    </tr>\n",
       "    <tr>\n",
       "      <th></th>\n",
       "      <th></th>\n",
       "      <th>mean</th>\n",
       "      <th>median</th>\n",
       "    </tr>\n",
       "    <tr>\n",
       "      <th>BHK</th>\n",
       "      <th>Residential_type</th>\n",
       "      <th></th>\n",
       "      <th></th>\n",
       "    </tr>\n",
       "  </thead>\n",
       "  <tbody>\n",
       "    <tr>\n",
       "      <th rowspan=\"7\" valign=\"top\">1</th>\n",
       "      <th>House</th>\n",
       "      <td>1.130435</td>\n",
       "      <td>1.0</td>\n",
       "    </tr>\n",
       "    <tr>\n",
       "      <th>Apartment</th>\n",
       "      <td>1.057143</td>\n",
       "      <td>1.0</td>\n",
       "    </tr>\n",
       "    <tr>\n",
       "      <th>Builder Floor</th>\n",
       "      <td>2.0</td>\n",
       "      <td>1.0</td>\n",
       "    </tr>\n",
       "    <tr>\n",
       "      <th>Flat</th>\n",
       "      <td>1.0</td>\n",
       "      <td>1.0</td>\n",
       "    </tr>\n",
       "    <tr>\n",
       "      <th>Penthouse</th>\n",
       "      <td>2.0</td>\n",
       "      <td>2.0</td>\n",
       "    </tr>\n",
       "    <tr>\n",
       "      <th>Service Apartment</th>\n",
       "      <td>&lt;NA&gt;</td>\n",
       "      <td>&lt;NA&gt;</td>\n",
       "    </tr>\n",
       "    <tr>\n",
       "      <th>Villa</th>\n",
       "      <td>1.0</td>\n",
       "      <td>1.0</td>\n",
       "    </tr>\n",
       "    <tr>\n",
       "      <th rowspan=\"6\" valign=\"top\">2</th>\n",
       "      <th>House</th>\n",
       "      <td>1.48</td>\n",
       "      <td>1.0</td>\n",
       "    </tr>\n",
       "    <tr>\n",
       "      <th>Apartment</th>\n",
       "      <td>1.681373</td>\n",
       "      <td>1.0</td>\n",
       "    </tr>\n",
       "    <tr>\n",
       "      <th>Builder Floor</th>\n",
       "      <td>1.76</td>\n",
       "      <td>2.0</td>\n",
       "    </tr>\n",
       "    <tr>\n",
       "      <th>Flat</th>\n",
       "      <td>1.357143</td>\n",
       "      <td>1.0</td>\n",
       "    </tr>\n",
       "    <tr>\n",
       "      <th>Penthouse</th>\n",
       "      <td>2.0</td>\n",
       "      <td>2.0</td>\n",
       "    </tr>\n",
       "    <tr>\n",
       "      <th>Villa</th>\n",
       "      <td>1.357143</td>\n",
       "      <td>1.0</td>\n",
       "    </tr>\n",
       "    <tr>\n",
       "      <th rowspan=\"6\" valign=\"top\">3</th>\n",
       "      <th>House</th>\n",
       "      <td>1.675</td>\n",
       "      <td>1.5</td>\n",
       "    </tr>\n",
       "    <tr>\n",
       "      <th>Apartment</th>\n",
       "      <td>2.160396</td>\n",
       "      <td>2.0</td>\n",
       "    </tr>\n",
       "    <tr>\n",
       "      <th>Builder Floor</th>\n",
       "      <td>2.236364</td>\n",
       "      <td>2.0</td>\n",
       "    </tr>\n",
       "    <tr>\n",
       "      <th>Flat</th>\n",
       "      <td>2.041096</td>\n",
       "      <td>2.0</td>\n",
       "    </tr>\n",
       "    <tr>\n",
       "      <th>Penthouse</th>\n",
       "      <td>1.0</td>\n",
       "      <td>1.0</td>\n",
       "    </tr>\n",
       "    <tr>\n",
       "      <th>Villa</th>\n",
       "      <td>1.775</td>\n",
       "      <td>2.0</td>\n",
       "    </tr>\n",
       "    <tr>\n",
       "      <th rowspan=\"6\" valign=\"top\">4</th>\n",
       "      <th>House</th>\n",
       "      <td>2.133333</td>\n",
       "      <td>2.0</td>\n",
       "    </tr>\n",
       "    <tr>\n",
       "      <th>Apartment</th>\n",
       "      <td>2.977612</td>\n",
       "      <td>3.0</td>\n",
       "    </tr>\n",
       "    <tr>\n",
       "      <th>Builder Floor</th>\n",
       "      <td>2.576923</td>\n",
       "      <td>2.0</td>\n",
       "    </tr>\n",
       "    <tr>\n",
       "      <th>Flat</th>\n",
       "      <td>2.782609</td>\n",
       "      <td>3.0</td>\n",
       "    </tr>\n",
       "    <tr>\n",
       "      <th>Penthouse</th>\n",
       "      <td>3.666667</td>\n",
       "      <td>3.5</td>\n",
       "    </tr>\n",
       "    <tr>\n",
       "      <th>Villa</th>\n",
       "      <td>2.24</td>\n",
       "      <td>2.0</td>\n",
       "    </tr>\n",
       "    <tr>\n",
       "      <th rowspan=\"6\" valign=\"top\">5</th>\n",
       "      <th>House</th>\n",
       "      <td>2.636364</td>\n",
       "      <td>2.0</td>\n",
       "    </tr>\n",
       "    <tr>\n",
       "      <th>Apartment</th>\n",
       "      <td>3.0</td>\n",
       "      <td>3.0</td>\n",
       "    </tr>\n",
       "    <tr>\n",
       "      <th>Builder Floor</th>\n",
       "      <td>4.0</td>\n",
       "      <td>4.0</td>\n",
       "    </tr>\n",
       "    <tr>\n",
       "      <th>Flat</th>\n",
       "      <td>2.0</td>\n",
       "      <td>2.0</td>\n",
       "    </tr>\n",
       "    <tr>\n",
       "      <th>Penthouse</th>\n",
       "      <td>5.0</td>\n",
       "      <td>5.0</td>\n",
       "    </tr>\n",
       "    <tr>\n",
       "      <th>Villa</th>\n",
       "      <td>2.526316</td>\n",
       "      <td>3.0</td>\n",
       "    </tr>\n",
       "    <tr>\n",
       "      <th rowspan=\"4\" valign=\"top\">6</th>\n",
       "      <th>House</th>\n",
       "      <td>2.5</td>\n",
       "      <td>2.0</td>\n",
       "    </tr>\n",
       "    <tr>\n",
       "      <th>Builder Floor</th>\n",
       "      <td>&lt;NA&gt;</td>\n",
       "      <td>&lt;NA&gt;</td>\n",
       "    </tr>\n",
       "    <tr>\n",
       "      <th>Penthouse</th>\n",
       "      <td>5.0</td>\n",
       "      <td>5.0</td>\n",
       "    </tr>\n",
       "    <tr>\n",
       "      <th>Villa</th>\n",
       "      <td>2.666667</td>\n",
       "      <td>2.0</td>\n",
       "    </tr>\n",
       "    <tr>\n",
       "      <th rowspan=\"2\" valign=\"top\">7</th>\n",
       "      <th>House</th>\n",
       "      <td>4.0</td>\n",
       "      <td>4.0</td>\n",
       "    </tr>\n",
       "    <tr>\n",
       "      <th>Villa</th>\n",
       "      <td>&lt;NA&gt;</td>\n",
       "      <td>&lt;NA&gt;</td>\n",
       "    </tr>\n",
       "    <tr>\n",
       "      <th>8</th>\n",
       "      <th>Villa</th>\n",
       "      <td>3.0</td>\n",
       "      <td>3.0</td>\n",
       "    </tr>\n",
       "    <tr>\n",
       "      <th>9</th>\n",
       "      <th>House</th>\n",
       "      <td>6.0</td>\n",
       "      <td>6.0</td>\n",
       "    </tr>\n",
       "    <tr>\n",
       "      <th>10</th>\n",
       "      <th>House</th>\n",
       "      <td>7.0</td>\n",
       "      <td>7.0</td>\n",
       "    </tr>\n",
       "  </tbody>\n",
       "</table>\n",
       "</div>"
      ],
      "text/plain": [
       "                        Balcony       \n",
       "                           mean median\n",
       "BHK Residential_type                  \n",
       "1    House             1.130435    1.0\n",
       "    Apartment          1.057143    1.0\n",
       "    Builder Floor           2.0    1.0\n",
       "    Flat                    1.0    1.0\n",
       "    Penthouse               2.0    2.0\n",
       "    Service Apartment      <NA>   <NA>\n",
       "    Villa                   1.0    1.0\n",
       "2    House                 1.48    1.0\n",
       "    Apartment          1.681373    1.0\n",
       "    Builder Floor          1.76    2.0\n",
       "    Flat               1.357143    1.0\n",
       "    Penthouse               2.0    2.0\n",
       "    Villa              1.357143    1.0\n",
       "3    House                1.675    1.5\n",
       "    Apartment          2.160396    2.0\n",
       "    Builder Floor      2.236364    2.0\n",
       "    Flat               2.041096    2.0\n",
       "    Penthouse               1.0    1.0\n",
       "    Villa                 1.775    2.0\n",
       "4    House             2.133333    2.0\n",
       "    Apartment          2.977612    3.0\n",
       "    Builder Floor      2.576923    2.0\n",
       "    Flat               2.782609    3.0\n",
       "    Penthouse          3.666667    3.5\n",
       "    Villa                  2.24    2.0\n",
       "5    House             2.636364    2.0\n",
       "    Apartment               3.0    3.0\n",
       "    Builder Floor           4.0    4.0\n",
       "    Flat                    2.0    2.0\n",
       "    Penthouse               5.0    5.0\n",
       "    Villa              2.526316    3.0\n",
       "6    House                  2.5    2.0\n",
       "    Builder Floor          <NA>   <NA>\n",
       "    Penthouse               5.0    5.0\n",
       "    Villa              2.666667    2.0\n",
       "7    House                  4.0    4.0\n",
       "    Villa                  <NA>   <NA>\n",
       "8   Villa                   3.0    3.0\n",
       "9    House                  6.0    6.0\n",
       "10   House                  7.0    7.0"
      ]
     },
     "execution_count": 140,
     "metadata": {},
     "output_type": "execute_result"
    },
    {
     "data": {
      "text/html": [
       "<div>\n",
       "<style scoped>\n",
       "    .dataframe tbody tr th:only-of-type {\n",
       "        vertical-align: middle;\n",
       "    }\n",
       "\n",
       "    .dataframe tbody tr th {\n",
       "        vertical-align: top;\n",
       "    }\n",
       "\n",
       "    .dataframe thead tr th {\n",
       "        text-align: left;\n",
       "    }\n",
       "\n",
       "    .dataframe thead tr:last-of-type th {\n",
       "        text-align: right;\n",
       "    }\n",
       "</style>\n",
       "<table border=\"1\" class=\"dataframe\">\n",
       "  <thead>\n",
       "    <tr>\n",
       "      <th></th>\n",
       "      <th colspan=\"2\" halign=\"left\">Balcony</th>\n",
       "    </tr>\n",
       "    <tr>\n",
       "      <th></th>\n",
       "      <th>mean</th>\n",
       "      <th>median</th>\n",
       "    </tr>\n",
       "    <tr>\n",
       "      <th>BHK</th>\n",
       "      <th></th>\n",
       "      <th></th>\n",
       "    </tr>\n",
       "  </thead>\n",
       "  <tbody>\n",
       "    <tr>\n",
       "      <th>1</th>\n",
       "      <td>1.22973</td>\n",
       "      <td>1.0</td>\n",
       "    </tr>\n",
       "    <tr>\n",
       "      <th>2</th>\n",
       "      <td>1.616766</td>\n",
       "      <td>1.0</td>\n",
       "    </tr>\n",
       "    <tr>\n",
       "      <th>3</th>\n",
       "      <td>2.102098</td>\n",
       "      <td>2.0</td>\n",
       "    </tr>\n",
       "    <tr>\n",
       "      <th>4</th>\n",
       "      <td>2.666667</td>\n",
       "      <td>2.0</td>\n",
       "    </tr>\n",
       "    <tr>\n",
       "      <th>5</th>\n",
       "      <td>2.72973</td>\n",
       "      <td>3.0</td>\n",
       "    </tr>\n",
       "    <tr>\n",
       "      <th>6</th>\n",
       "      <td>2.875</td>\n",
       "      <td>2.0</td>\n",
       "    </tr>\n",
       "    <tr>\n",
       "      <th>7</th>\n",
       "      <td>4.0</td>\n",
       "      <td>4.0</td>\n",
       "    </tr>\n",
       "    <tr>\n",
       "      <th>8</th>\n",
       "      <td>3.0</td>\n",
       "      <td>3.0</td>\n",
       "    </tr>\n",
       "    <tr>\n",
       "      <th>9</th>\n",
       "      <td>6.0</td>\n",
       "      <td>6.0</td>\n",
       "    </tr>\n",
       "    <tr>\n",
       "      <th>10</th>\n",
       "      <td>7.0</td>\n",
       "      <td>7.0</td>\n",
       "    </tr>\n",
       "  </tbody>\n",
       "</table>\n",
       "</div>"
      ],
      "text/plain": [
       "      Balcony       \n",
       "         mean median\n",
       "BHK                 \n",
       "1     1.22973    1.0\n",
       "2    1.616766    1.0\n",
       "3    2.102098    2.0\n",
       "4    2.666667    2.0\n",
       "5     2.72973    3.0\n",
       "6       2.875    2.0\n",
       "7         4.0    4.0\n",
       "8         3.0    3.0\n",
       "9         6.0    6.0\n",
       "10        7.0    7.0"
      ]
     },
     "execution_count": 140,
     "metadata": {},
     "output_type": "execute_result"
    },
    {
     "data": {
      "text/html": [
       "<div>\n",
       "<style scoped>\n",
       "    .dataframe tbody tr th:only-of-type {\n",
       "        vertical-align: middle;\n",
       "    }\n",
       "\n",
       "    .dataframe tbody tr th {\n",
       "        vertical-align: top;\n",
       "    }\n",
       "\n",
       "    .dataframe thead tr th {\n",
       "        text-align: left;\n",
       "    }\n",
       "\n",
       "    .dataframe thead tr:last-of-type th {\n",
       "        text-align: right;\n",
       "    }\n",
       "</style>\n",
       "<table border=\"1\" class=\"dataframe\">\n",
       "  <thead>\n",
       "    <tr>\n",
       "      <th></th>\n",
       "      <th colspan=\"2\" halign=\"left\">Balcony</th>\n",
       "    </tr>\n",
       "    <tr>\n",
       "      <th></th>\n",
       "      <th>mean</th>\n",
       "      <th>median</th>\n",
       "    </tr>\n",
       "    <tr>\n",
       "      <th>Residential_type</th>\n",
       "      <th></th>\n",
       "      <th></th>\n",
       "    </tr>\n",
       "  </thead>\n",
       "  <tbody>\n",
       "    <tr>\n",
       "      <th>House</th>\n",
       "      <td>1.770053</td>\n",
       "      <td>1.0</td>\n",
       "    </tr>\n",
       "    <tr>\n",
       "      <th>Apartment</th>\n",
       "      <td>2.132804</td>\n",
       "      <td>2.0</td>\n",
       "    </tr>\n",
       "    <tr>\n",
       "      <th>Builder Floor</th>\n",
       "      <td>2.218487</td>\n",
       "      <td>2.0</td>\n",
       "    </tr>\n",
       "    <tr>\n",
       "      <th>Flat</th>\n",
       "      <td>2.078947</td>\n",
       "      <td>2.0</td>\n",
       "    </tr>\n",
       "    <tr>\n",
       "      <th>Penthouse</th>\n",
       "      <td>3.076923</td>\n",
       "      <td>3.0</td>\n",
       "    </tr>\n",
       "    <tr>\n",
       "      <th>Service Apartment</th>\n",
       "      <td>&lt;NA&gt;</td>\n",
       "      <td>&lt;NA&gt;</td>\n",
       "    </tr>\n",
       "    <tr>\n",
       "      <th>Villa</th>\n",
       "      <td>2.078431</td>\n",
       "      <td>2.0</td>\n",
       "    </tr>\n",
       "  </tbody>\n",
       "</table>\n",
       "</div>"
      ],
      "text/plain": [
       "                    Balcony       \n",
       "                       mean median\n",
       "Residential_type                  \n",
       " House             1.770053    1.0\n",
       "Apartment          2.132804    2.0\n",
       "Builder Floor      2.218487    2.0\n",
       "Flat               2.078947    2.0\n",
       "Penthouse          3.076923    3.0\n",
       "Service Apartment      <NA>   <NA>\n",
       "Villa              2.078431    2.0"
      ]
     },
     "execution_count": 140,
     "metadata": {},
     "output_type": "execute_result"
    },
    {
     "data": {
      "text/html": [
       "<div>\n",
       "<style scoped>\n",
       "    .dataframe tbody tr th:only-of-type {\n",
       "        vertical-align: middle;\n",
       "    }\n",
       "\n",
       "    .dataframe tbody tr th {\n",
       "        vertical-align: top;\n",
       "    }\n",
       "\n",
       "    .dataframe thead tr th {\n",
       "        text-align: left;\n",
       "    }\n",
       "\n",
       "    .dataframe thead tr:last-of-type th {\n",
       "        text-align: right;\n",
       "    }\n",
       "</style>\n",
       "<table border=\"1\" class=\"dataframe\">\n",
       "  <thead>\n",
       "    <tr>\n",
       "      <th></th>\n",
       "      <th colspan=\"2\" halign=\"left\">Balcony</th>\n",
       "    </tr>\n",
       "    <tr>\n",
       "      <th></th>\n",
       "      <th>mean</th>\n",
       "      <th>median</th>\n",
       "    </tr>\n",
       "    <tr>\n",
       "      <th>Furnishing</th>\n",
       "      <th></th>\n",
       "      <th></th>\n",
       "    </tr>\n",
       "  </thead>\n",
       "  <tbody>\n",
       "    <tr>\n",
       "      <th>Furnished</th>\n",
       "      <td>2.008696</td>\n",
       "      <td>2.0</td>\n",
       "    </tr>\n",
       "    <tr>\n",
       "      <th>Semi-Furnished</th>\n",
       "      <td>2.162874</td>\n",
       "      <td>2.0</td>\n",
       "    </tr>\n",
       "    <tr>\n",
       "      <th>Unfurnished</th>\n",
       "      <td>1.986063</td>\n",
       "      <td>2.0</td>\n",
       "    </tr>\n",
       "  </tbody>\n",
       "</table>\n",
       "</div>"
      ],
      "text/plain": [
       "                 Balcony       \n",
       "                    mean median\n",
       "Furnishing                     \n",
       "Furnished       2.008696    2.0\n",
       "Semi-Furnished  2.162874    2.0\n",
       "Unfurnished     1.986063    2.0"
      ]
     },
     "execution_count": 140,
     "metadata": {},
     "output_type": "execute_result"
    },
    {
     "data": {
      "text/html": [
       "<div>\n",
       "<style scoped>\n",
       "    .dataframe tbody tr th:only-of-type {\n",
       "        vertical-align: middle;\n",
       "    }\n",
       "\n",
       "    .dataframe tbody tr th {\n",
       "        vertical-align: top;\n",
       "    }\n",
       "\n",
       "    .dataframe thead tr th {\n",
       "        text-align: left;\n",
       "    }\n",
       "\n",
       "    .dataframe thead tr:last-of-type th {\n",
       "        text-align: right;\n",
       "    }\n",
       "</style>\n",
       "<table border=\"1\" class=\"dataframe\">\n",
       "  <thead>\n",
       "    <tr>\n",
       "      <th></th>\n",
       "      <th colspan=\"2\" halign=\"left\">Balcony</th>\n",
       "    </tr>\n",
       "    <tr>\n",
       "      <th></th>\n",
       "      <th>mean</th>\n",
       "      <th>median</th>\n",
       "    </tr>\n",
       "    <tr>\n",
       "      <th>Tenants_preferred</th>\n",
       "      <th></th>\n",
       "      <th></th>\n",
       "    </tr>\n",
       "  </thead>\n",
       "  <tbody>\n",
       "    <tr>\n",
       "      <th>Bachelors</th>\n",
       "      <td>2.075145</td>\n",
       "      <td>2.0</td>\n",
       "    </tr>\n",
       "    <tr>\n",
       "      <th>Bachelors/Family</th>\n",
       "      <td>2.100619</td>\n",
       "      <td>2.0</td>\n",
       "    </tr>\n",
       "    <tr>\n",
       "      <th>Family</th>\n",
       "      <td>2.102649</td>\n",
       "      <td>2.0</td>\n",
       "    </tr>\n",
       "  </tbody>\n",
       "</table>\n",
       "</div>"
      ],
      "text/plain": [
       "                    Balcony       \n",
       "                       mean median\n",
       "Tenants_preferred                 \n",
       "Bachelors          2.075145    2.0\n",
       "Bachelors/Family   2.100619    2.0\n",
       "Family             2.102649    2.0"
      ]
     },
     "execution_count": 140,
     "metadata": {},
     "output_type": "execute_result"
    },
    {
     "data": {
      "text/html": [
       "<div>\n",
       "<style scoped>\n",
       "    .dataframe tbody tr th:only-of-type {\n",
       "        vertical-align: middle;\n",
       "    }\n",
       "\n",
       "    .dataframe tbody tr th {\n",
       "        vertical-align: top;\n",
       "    }\n",
       "\n",
       "    .dataframe thead tr th {\n",
       "        text-align: left;\n",
       "    }\n",
       "\n",
       "    .dataframe thead tr:last-of-type th {\n",
       "        text-align: right;\n",
       "    }\n",
       "</style>\n",
       "<table border=\"1\" class=\"dataframe\">\n",
       "  <thead>\n",
       "    <tr>\n",
       "      <th></th>\n",
       "      <th colspan=\"2\" halign=\"left\">Balcony</th>\n",
       "    </tr>\n",
       "    <tr>\n",
       "      <th></th>\n",
       "      <th>mean</th>\n",
       "      <th>median</th>\n",
       "    </tr>\n",
       "    <tr>\n",
       "      <th>Posted_by</th>\n",
       "      <th></th>\n",
       "      <th></th>\n",
       "    </tr>\n",
       "  </thead>\n",
       "  <tbody>\n",
       "    <tr>\n",
       "      <th>Agent</th>\n",
       "      <td>2.230345</td>\n",
       "      <td>2.0</td>\n",
       "    </tr>\n",
       "    <tr>\n",
       "      <th>Owner</th>\n",
       "      <td>1.956873</td>\n",
       "      <td>2.0</td>\n",
       "    </tr>\n",
       "  </tbody>\n",
       "</table>\n",
       "</div>"
      ],
      "text/plain": [
       "            Balcony       \n",
       "               mean median\n",
       "Posted_by                 \n",
       "Agent      2.230345    2.0\n",
       "Owner      1.956873    2.0"
      ]
     },
     "execution_count": 140,
     "metadata": {},
     "output_type": "execute_result"
    },
    {
     "data": {
      "text/html": [
       "<div>\n",
       "<style scoped>\n",
       "    .dataframe tbody tr th:only-of-type {\n",
       "        vertical-align: middle;\n",
       "    }\n",
       "\n",
       "    .dataframe tbody tr th {\n",
       "        vertical-align: top;\n",
       "    }\n",
       "\n",
       "    .dataframe thead tr th {\n",
       "        text-align: left;\n",
       "    }\n",
       "\n",
       "    .dataframe thead tr:last-of-type th {\n",
       "        text-align: right;\n",
       "    }\n",
       "</style>\n",
       "<table border=\"1\" class=\"dataframe\">\n",
       "  <thead>\n",
       "    <tr>\n",
       "      <th></th>\n",
       "      <th colspan=\"2\" halign=\"left\">Balcony</th>\n",
       "    </tr>\n",
       "    <tr>\n",
       "      <th></th>\n",
       "      <th>mean</th>\n",
       "      <th>median</th>\n",
       "    </tr>\n",
       "    <tr>\n",
       "      <th>City</th>\n",
       "      <th></th>\n",
       "      <th></th>\n",
       "    </tr>\n",
       "  </thead>\n",
       "  <tbody>\n",
       "    <tr>\n",
       "      <th>Ahmedabad</th>\n",
       "      <td>1.49359</td>\n",
       "      <td>1.0</td>\n",
       "    </tr>\n",
       "    <tr>\n",
       "      <th>Bangalore</th>\n",
       "      <td>2.034884</td>\n",
       "      <td>2.0</td>\n",
       "    </tr>\n",
       "    <tr>\n",
       "      <th>Chennai</th>\n",
       "      <td>1.640476</td>\n",
       "      <td>1.0</td>\n",
       "    </tr>\n",
       "    <tr>\n",
       "      <th>Gurgaon</th>\n",
       "      <td>2.925837</td>\n",
       "      <td>3.0</td>\n",
       "    </tr>\n",
       "    <tr>\n",
       "      <th>Hyderabad</th>\n",
       "      <td>1.935401</td>\n",
       "      <td>2.0</td>\n",
       "    </tr>\n",
       "  </tbody>\n",
       "</table>\n",
       "</div>"
      ],
      "text/plain": [
       "            Balcony       \n",
       "               mean median\n",
       "City                      \n",
       "Ahmedabad   1.49359    1.0\n",
       "Bangalore  2.034884    2.0\n",
       "Chennai    1.640476    1.0\n",
       "Gurgaon    2.925837    3.0\n",
       "Hyderabad  1.935401    2.0"
      ]
     },
     "execution_count": 140,
     "metadata": {},
     "output_type": "execute_result"
    }
   ],
   "source": [
    "df.Balcony.mean()\n",
    "df.Balcony.median()\n",
    "\n",
    "df.groupby([\"BHK\",\"Residential_type\"]).agg({\"Balcony\": [\"mean\", \"median\"]})\n",
    "\n",
    "df.groupby([\"BHK\"]).agg({\"Balcony\": [\"mean\", \"median\"]})\n",
    "df.groupby([\"Residential_type\"]).agg({\"Balcony\": [\"mean\", \"median\"]})\n",
    "df.groupby([\"Furnishing\"]).agg({\"Balcony\": [\"mean\", \"median\"]})\n",
    "df.groupby([\"Tenants_preferred\"]).agg({\"Balcony\": [\"mean\", \"median\"]})\n",
    "df.groupby([\"Posted_by\"]).agg({\"Balcony\": [\"mean\", \"median\"]})\n",
    "df.groupby([\"City\"]).agg({\"Balcony\": [\"mean\", \"median\"]})"
   ]
  },
  {
   "cell_type": "code",
   "execution_count": 141,
   "id": "32857855-2cb1-4a9d-a71c-4928441a5628",
   "metadata": {
    "execution": {
     "iopub.execute_input": "2025-03-21T17:44:31.145313Z",
     "iopub.status.busy": "2025-03-21T17:44:31.144314Z",
     "iopub.status.idle": "2025-03-21T17:44:31.155273Z",
     "shell.execute_reply": "2025-03-21T17:44:31.153258Z",
     "shell.execute_reply.started": "2025-03-21T17:44:31.145313Z"
    }
   },
   "outputs": [],
   "source": [
    "# Fill the missing values using transform  \n",
    "df.Balcony=df.Balcony.astype(np.float64)\n",
    "# df.groupby([\"BHK\",\"Residential_type\"])[\"Balcony\"].transform(\"median\")\n",
    "df.Balcony.fillna(df.groupby([\"BHK\",\"Residential_type\"])[\"Balcony\"].transform(\"median\"),inplace = True)\n"
   ]
  },
  {
   "cell_type": "code",
   "execution_count": 142,
   "id": "4ca303ca-34ff-4a13-a844-38111daa5e9e",
   "metadata": {
    "execution": {
     "iopub.execute_input": "2025-03-21T17:44:31.157271Z",
     "iopub.status.busy": "2025-03-21T17:44:31.157271Z",
     "iopub.status.idle": "2025-03-21T17:44:31.172409Z",
     "shell.execute_reply": "2025-03-21T17:44:31.171402Z",
     "shell.execute_reply.started": "2025-03-21T17:44:31.157271Z"
    }
   },
   "outputs": [
    {
     "data": {
      "text/html": [
       "<div>\n",
       "<style scoped>\n",
       "    .dataframe tbody tr th:only-of-type {\n",
       "        vertical-align: middle;\n",
       "    }\n",
       "\n",
       "    .dataframe tbody tr th {\n",
       "        vertical-align: top;\n",
       "    }\n",
       "\n",
       "    .dataframe thead th {\n",
       "        text-align: right;\n",
       "    }\n",
       "</style>\n",
       "<table border=\"1\" class=\"dataframe\">\n",
       "  <thead>\n",
       "    <tr style=\"text-align: right;\">\n",
       "      <th></th>\n",
       "      <th>BHK</th>\n",
       "      <th>Residential_type</th>\n",
       "      <th>Furnishing</th>\n",
       "      <th>Bathroom</th>\n",
       "      <th>Tenants_preferred</th>\n",
       "      <th>Balcony</th>\n",
       "      <th>Posted_by</th>\n",
       "      <th>City</th>\n",
       "      <th>Price</th>\n",
       "    </tr>\n",
       "  </thead>\n",
       "  <tbody>\n",
       "    <tr>\n",
       "      <th>30</th>\n",
       "      <td>7</td>\n",
       "      <td>Villa</td>\n",
       "      <td>Semi-Furnished</td>\n",
       "      <td>7</td>\n",
       "      <td>Bachelors/Family</td>\n",
       "      <td>NaN</td>\n",
       "      <td>Owner</td>\n",
       "      <td>Hyderabad</td>\n",
       "      <td>160000</td>\n",
       "    </tr>\n",
       "    <tr>\n",
       "      <th>192</th>\n",
       "      <td>6</td>\n",
       "      <td>Builder Floor</td>\n",
       "      <td>Semi-Furnished</td>\n",
       "      <td>10</td>\n",
       "      <td>Bachelors/Family</td>\n",
       "      <td>NaN</td>\n",
       "      <td>Owner</td>\n",
       "      <td>Hyderabad</td>\n",
       "      <td>10000</td>\n",
       "    </tr>\n",
       "    <tr>\n",
       "      <th>661</th>\n",
       "      <td>1</td>\n",
       "      <td>Service Apartment</td>\n",
       "      <td>Semi-Furnished</td>\n",
       "      <td>1</td>\n",
       "      <td>Bachelors</td>\n",
       "      <td>NaN</td>\n",
       "      <td>Owner</td>\n",
       "      <td>Chennai</td>\n",
       "      <td>50000</td>\n",
       "    </tr>\n",
       "  </tbody>\n",
       "</table>\n",
       "</div>"
      ],
      "text/plain": [
       "     BHK   Residential_type      Furnishing  Bathroom Tenants_preferred  \\\n",
       "30     7              Villa  Semi-Furnished         7  Bachelors/Family   \n",
       "192    6      Builder Floor  Semi-Furnished        10  Bachelors/Family   \n",
       "661    1  Service Apartment  Semi-Furnished         1         Bachelors   \n",
       "\n",
       "     Balcony Posted_by       City   Price  \n",
       "30       NaN     Owner  Hyderabad  160000  \n",
       "192      NaN     Owner  Hyderabad   10000  \n",
       "661      NaN     Owner    Chennai   50000  "
      ]
     },
     "execution_count": 142,
     "metadata": {},
     "output_type": "execute_result"
    }
   ],
   "source": [
    "df[df['Balcony'].isna()]"
   ]
  },
  {
   "cell_type": "code",
   "execution_count": 143,
   "id": "157ce1ac-6826-4e02-8984-372112627019",
   "metadata": {
    "execution": {
     "iopub.execute_input": "2025-03-21T17:44:31.173408Z",
     "iopub.status.busy": "2025-03-21T17:44:31.173408Z",
     "iopub.status.idle": "2025-03-21T17:44:31.180222Z",
     "shell.execute_reply": "2025-03-21T17:44:31.179217Z",
     "shell.execute_reply.started": "2025-03-21T17:44:31.173408Z"
    }
   },
   "outputs": [],
   "source": [
    "df.Balcony.fillna(df.Balcony.median(),inplace=True)"
   ]
  },
  {
   "cell_type": "code",
   "execution_count": 144,
   "id": "805eff14-a381-4229-a712-b771ccad5b41",
   "metadata": {
    "execution": {
     "iopub.execute_input": "2025-03-21T17:44:31.181224Z",
     "iopub.status.busy": "2025-03-21T17:44:31.181224Z",
     "iopub.status.idle": "2025-03-21T17:44:31.279711Z",
     "shell.execute_reply": "2025-03-21T17:44:31.278706Z",
     "shell.execute_reply.started": "2025-03-21T17:44:31.181224Z"
    }
   },
   "outputs": [
    {
     "data": {
      "text/plain": [
       "2.8800917957544465"
      ]
     },
     "execution_count": 144,
     "metadata": {},
     "output_type": "execute_result"
    },
    {
     "data": {
      "text/plain": [
       "3.0"
      ]
     },
     "execution_count": 144,
     "metadata": {},
     "output_type": "execute_result"
    },
    {
     "data": {
      "text/html": [
       "<div>\n",
       "<style scoped>\n",
       "    .dataframe tbody tr th:only-of-type {\n",
       "        vertical-align: middle;\n",
       "    }\n",
       "\n",
       "    .dataframe tbody tr th {\n",
       "        vertical-align: top;\n",
       "    }\n",
       "\n",
       "    .dataframe thead tr th {\n",
       "        text-align: left;\n",
       "    }\n",
       "\n",
       "    .dataframe thead tr:last-of-type th {\n",
       "        text-align: right;\n",
       "    }\n",
       "</style>\n",
       "<table border=\"1\" class=\"dataframe\">\n",
       "  <thead>\n",
       "    <tr>\n",
       "      <th></th>\n",
       "      <th></th>\n",
       "      <th colspan=\"2\" halign=\"left\">Bathroom</th>\n",
       "    </tr>\n",
       "    <tr>\n",
       "      <th></th>\n",
       "      <th></th>\n",
       "      <th>mean</th>\n",
       "      <th>median</th>\n",
       "    </tr>\n",
       "    <tr>\n",
       "      <th>BHK</th>\n",
       "      <th>Residential_type</th>\n",
       "      <th></th>\n",
       "      <th></th>\n",
       "    </tr>\n",
       "  </thead>\n",
       "  <tbody>\n",
       "    <tr>\n",
       "      <th rowspan=\"7\" valign=\"top\">1</th>\n",
       "      <th>House</th>\n",
       "      <td>1.188679</td>\n",
       "      <td>1.0</td>\n",
       "    </tr>\n",
       "    <tr>\n",
       "      <th>Apartment</th>\n",
       "      <td>1.061224</td>\n",
       "      <td>1.0</td>\n",
       "    </tr>\n",
       "    <tr>\n",
       "      <th>Builder Floor</th>\n",
       "      <td>1.066667</td>\n",
       "      <td>1.0</td>\n",
       "    </tr>\n",
       "    <tr>\n",
       "      <th>Flat</th>\n",
       "      <td>1.0</td>\n",
       "      <td>1.0</td>\n",
       "    </tr>\n",
       "    <tr>\n",
       "      <th>Penthouse</th>\n",
       "      <td>1.0</td>\n",
       "      <td>1.0</td>\n",
       "    </tr>\n",
       "    <tr>\n",
       "      <th>Service Apartment</th>\n",
       "      <td>1.0</td>\n",
       "      <td>1.0</td>\n",
       "    </tr>\n",
       "    <tr>\n",
       "      <th>Villa</th>\n",
       "      <td>1.0</td>\n",
       "      <td>1.0</td>\n",
       "    </tr>\n",
       "    <tr>\n",
       "      <th rowspan=\"6\" valign=\"top\">2</th>\n",
       "      <th>House</th>\n",
       "      <td>1.946565</td>\n",
       "      <td>2.0</td>\n",
       "    </tr>\n",
       "    <tr>\n",
       "      <th>Apartment</th>\n",
       "      <td>1.996032</td>\n",
       "      <td>2.0</td>\n",
       "    </tr>\n",
       "    <tr>\n",
       "      <th>Builder Floor</th>\n",
       "      <td>1.952381</td>\n",
       "      <td>2.0</td>\n",
       "    </tr>\n",
       "    <tr>\n",
       "      <th>Flat</th>\n",
       "      <td>1.9</td>\n",
       "      <td>2.0</td>\n",
       "    </tr>\n",
       "    <tr>\n",
       "      <th>Penthouse</th>\n",
       "      <td>2.0</td>\n",
       "      <td>2.0</td>\n",
       "    </tr>\n",
       "    <tr>\n",
       "      <th>Villa</th>\n",
       "      <td>2.333333</td>\n",
       "      <td>2.0</td>\n",
       "    </tr>\n",
       "    <tr>\n",
       "      <th rowspan=\"6\" valign=\"top\">3</th>\n",
       "      <th>House</th>\n",
       "      <td>2.803571</td>\n",
       "      <td>3.0</td>\n",
       "    </tr>\n",
       "    <tr>\n",
       "      <th>Apartment</th>\n",
       "      <td>2.951673</td>\n",
       "      <td>3.0</td>\n",
       "    </tr>\n",
       "    <tr>\n",
       "      <th>Builder Floor</th>\n",
       "      <td>3.05</td>\n",
       "      <td>3.0</td>\n",
       "    </tr>\n",
       "    <tr>\n",
       "      <th>Flat</th>\n",
       "      <td>2.987013</td>\n",
       "      <td>3.0</td>\n",
       "    </tr>\n",
       "    <tr>\n",
       "      <th>Penthouse</th>\n",
       "      <td>3.0</td>\n",
       "      <td>3.0</td>\n",
       "    </tr>\n",
       "    <tr>\n",
       "      <th>Villa</th>\n",
       "      <td>3.55814</td>\n",
       "      <td>3.0</td>\n",
       "    </tr>\n",
       "    <tr>\n",
       "      <th rowspan=\"6\" valign=\"top\">4</th>\n",
       "      <th>House</th>\n",
       "      <td>3.848485</td>\n",
       "      <td>4.0</td>\n",
       "    </tr>\n",
       "    <tr>\n",
       "      <th>Apartment</th>\n",
       "      <td>4.101449</td>\n",
       "      <td>4.0</td>\n",
       "    </tr>\n",
       "    <tr>\n",
       "      <th>Builder Floor</th>\n",
       "      <td>4.034483</td>\n",
       "      <td>4.0</td>\n",
       "    </tr>\n",
       "    <tr>\n",
       "      <th>Flat</th>\n",
       "      <td>4.125</td>\n",
       "      <td>4.0</td>\n",
       "    </tr>\n",
       "    <tr>\n",
       "      <th>Penthouse</th>\n",
       "      <td>4.428571</td>\n",
       "      <td>4.0</td>\n",
       "    </tr>\n",
       "    <tr>\n",
       "      <th>Villa</th>\n",
       "      <td>4.405063</td>\n",
       "      <td>4.0</td>\n",
       "    </tr>\n",
       "    <tr>\n",
       "      <th rowspan=\"6\" valign=\"top\">5</th>\n",
       "      <th>House</th>\n",
       "      <td>4.769231</td>\n",
       "      <td>5.0</td>\n",
       "    </tr>\n",
       "    <tr>\n",
       "      <th>Apartment</th>\n",
       "      <td>5.25</td>\n",
       "      <td>5.0</td>\n",
       "    </tr>\n",
       "    <tr>\n",
       "      <th>Builder Floor</th>\n",
       "      <td>5.5</td>\n",
       "      <td>5.5</td>\n",
       "    </tr>\n",
       "    <tr>\n",
       "      <th>Flat</th>\n",
       "      <td>4.0</td>\n",
       "      <td>4.0</td>\n",
       "    </tr>\n",
       "    <tr>\n",
       "      <th>Penthouse</th>\n",
       "      <td>5.0</td>\n",
       "      <td>5.0</td>\n",
       "    </tr>\n",
       "    <tr>\n",
       "      <th>Villa</th>\n",
       "      <td>4.85</td>\n",
       "      <td>5.0</td>\n",
       "    </tr>\n",
       "    <tr>\n",
       "      <th rowspan=\"4\" valign=\"top\">6</th>\n",
       "      <th>House</th>\n",
       "      <td>4.8</td>\n",
       "      <td>5.0</td>\n",
       "    </tr>\n",
       "    <tr>\n",
       "      <th>Builder Floor</th>\n",
       "      <td>10.0</td>\n",
       "      <td>10.0</td>\n",
       "    </tr>\n",
       "    <tr>\n",
       "      <th>Penthouse</th>\n",
       "      <td>7.0</td>\n",
       "      <td>7.0</td>\n",
       "    </tr>\n",
       "    <tr>\n",
       "      <th>Villa</th>\n",
       "      <td>6.0</td>\n",
       "      <td>6.0</td>\n",
       "    </tr>\n",
       "    <tr>\n",
       "      <th rowspan=\"2\" valign=\"top\">7</th>\n",
       "      <th>House</th>\n",
       "      <td>7.5</td>\n",
       "      <td>7.5</td>\n",
       "    </tr>\n",
       "    <tr>\n",
       "      <th>Villa</th>\n",
       "      <td>7.0</td>\n",
       "      <td>7.0</td>\n",
       "    </tr>\n",
       "    <tr>\n",
       "      <th>8</th>\n",
       "      <th>Villa</th>\n",
       "      <td>7.0</td>\n",
       "      <td>7.0</td>\n",
       "    </tr>\n",
       "    <tr>\n",
       "      <th>9</th>\n",
       "      <th>House</th>\n",
       "      <td>9.0</td>\n",
       "      <td>9.0</td>\n",
       "    </tr>\n",
       "    <tr>\n",
       "      <th>10</th>\n",
       "      <th>House</th>\n",
       "      <td>10.0</td>\n",
       "      <td>10.0</td>\n",
       "    </tr>\n",
       "  </tbody>\n",
       "</table>\n",
       "</div>"
      ],
      "text/plain": [
       "                       Bathroom       \n",
       "                           mean median\n",
       "BHK Residential_type                  \n",
       "1    House             1.188679    1.0\n",
       "    Apartment          1.061224    1.0\n",
       "    Builder Floor      1.066667    1.0\n",
       "    Flat                    1.0    1.0\n",
       "    Penthouse               1.0    1.0\n",
       "    Service Apartment       1.0    1.0\n",
       "    Villa                   1.0    1.0\n",
       "2    House             1.946565    2.0\n",
       "    Apartment          1.996032    2.0\n",
       "    Builder Floor      1.952381    2.0\n",
       "    Flat                    1.9    2.0\n",
       "    Penthouse               2.0    2.0\n",
       "    Villa              2.333333    2.0\n",
       "3    House             2.803571    3.0\n",
       "    Apartment          2.951673    3.0\n",
       "    Builder Floor          3.05    3.0\n",
       "    Flat               2.987013    3.0\n",
       "    Penthouse               3.0    3.0\n",
       "    Villa               3.55814    3.0\n",
       "4    House             3.848485    4.0\n",
       "    Apartment          4.101449    4.0\n",
       "    Builder Floor      4.034483    4.0\n",
       "    Flat                  4.125    4.0\n",
       "    Penthouse          4.428571    4.0\n",
       "    Villa              4.405063    4.0\n",
       "5    House             4.769231    5.0\n",
       "    Apartment              5.25    5.0\n",
       "    Builder Floor           5.5    5.5\n",
       "    Flat                    4.0    4.0\n",
       "    Penthouse               5.0    5.0\n",
       "    Villa                  4.85    5.0\n",
       "6    House                  4.8    5.0\n",
       "    Builder Floor          10.0   10.0\n",
       "    Penthouse               7.0    7.0\n",
       "    Villa                   6.0    6.0\n",
       "7    House                  7.5    7.5\n",
       "    Villa                   7.0    7.0\n",
       "8   Villa                   7.0    7.0\n",
       "9    House                  9.0    9.0\n",
       "10   House                 10.0   10.0"
      ]
     },
     "execution_count": 144,
     "metadata": {},
     "output_type": "execute_result"
    },
    {
     "data": {
      "text/html": [
       "<div>\n",
       "<style scoped>\n",
       "    .dataframe tbody tr th:only-of-type {\n",
       "        vertical-align: middle;\n",
       "    }\n",
       "\n",
       "    .dataframe tbody tr th {\n",
       "        vertical-align: top;\n",
       "    }\n",
       "\n",
       "    .dataframe thead tr th {\n",
       "        text-align: left;\n",
       "    }\n",
       "\n",
       "    .dataframe thead tr:last-of-type th {\n",
       "        text-align: right;\n",
       "    }\n",
       "</style>\n",
       "<table border=\"1\" class=\"dataframe\">\n",
       "  <thead>\n",
       "    <tr>\n",
       "      <th></th>\n",
       "      <th colspan=\"2\" halign=\"left\">Bathroom</th>\n",
       "    </tr>\n",
       "    <tr>\n",
       "      <th></th>\n",
       "      <th>mean</th>\n",
       "      <th>median</th>\n",
       "    </tr>\n",
       "    <tr>\n",
       "      <th>BHK</th>\n",
       "      <th></th>\n",
       "      <th></th>\n",
       "    </tr>\n",
       "  </thead>\n",
       "  <tbody>\n",
       "    <tr>\n",
       "      <th>1</th>\n",
       "      <td>1.110236</td>\n",
       "      <td>1.0</td>\n",
       "    </tr>\n",
       "    <tr>\n",
       "      <th>2</th>\n",
       "      <td>1.989316</td>\n",
       "      <td>2.0</td>\n",
       "    </tr>\n",
       "    <tr>\n",
       "      <th>3</th>\n",
       "      <td>2.985861</td>\n",
       "      <td>3.0</td>\n",
       "    </tr>\n",
       "    <tr>\n",
       "      <th>4</th>\n",
       "      <td>4.154839</td>\n",
       "      <td>4.0</td>\n",
       "    </tr>\n",
       "    <tr>\n",
       "      <th>5</th>\n",
       "      <td>4.878049</td>\n",
       "      <td>5.0</td>\n",
       "    </tr>\n",
       "    <tr>\n",
       "      <th>6</th>\n",
       "      <td>5.9</td>\n",
       "      <td>5.0</td>\n",
       "    </tr>\n",
       "    <tr>\n",
       "      <th>7</th>\n",
       "      <td>7.333333</td>\n",
       "      <td>7.0</td>\n",
       "    </tr>\n",
       "    <tr>\n",
       "      <th>8</th>\n",
       "      <td>7.0</td>\n",
       "      <td>7.0</td>\n",
       "    </tr>\n",
       "    <tr>\n",
       "      <th>9</th>\n",
       "      <td>9.0</td>\n",
       "      <td>9.0</td>\n",
       "    </tr>\n",
       "    <tr>\n",
       "      <th>10</th>\n",
       "      <td>10.0</td>\n",
       "      <td>10.0</td>\n",
       "    </tr>\n",
       "  </tbody>\n",
       "</table>\n",
       "</div>"
      ],
      "text/plain": [
       "     Bathroom       \n",
       "         mean median\n",
       "BHK                 \n",
       "1    1.110236    1.0\n",
       "2    1.989316    2.0\n",
       "3    2.985861    3.0\n",
       "4    4.154839    4.0\n",
       "5    4.878049    5.0\n",
       "6         5.9    5.0\n",
       "7    7.333333    7.0\n",
       "8         7.0    7.0\n",
       "9         9.0    9.0\n",
       "10       10.0   10.0"
      ]
     },
     "execution_count": 144,
     "metadata": {},
     "output_type": "execute_result"
    },
    {
     "data": {
      "text/html": [
       "<div>\n",
       "<style scoped>\n",
       "    .dataframe tbody tr th:only-of-type {\n",
       "        vertical-align: middle;\n",
       "    }\n",
       "\n",
       "    .dataframe tbody tr th {\n",
       "        vertical-align: top;\n",
       "    }\n",
       "\n",
       "    .dataframe thead tr th {\n",
       "        text-align: left;\n",
       "    }\n",
       "\n",
       "    .dataframe thead tr:last-of-type th {\n",
       "        text-align: right;\n",
       "    }\n",
       "</style>\n",
       "<table border=\"1\" class=\"dataframe\">\n",
       "  <thead>\n",
       "    <tr>\n",
       "      <th></th>\n",
       "      <th colspan=\"2\" halign=\"left\">Bathroom</th>\n",
       "    </tr>\n",
       "    <tr>\n",
       "      <th></th>\n",
       "      <th>mean</th>\n",
       "      <th>median</th>\n",
       "    </tr>\n",
       "    <tr>\n",
       "      <th>Residential_type</th>\n",
       "      <th></th>\n",
       "      <th></th>\n",
       "    </tr>\n",
       "  </thead>\n",
       "  <tbody>\n",
       "    <tr>\n",
       "      <th>House</th>\n",
       "      <td>2.52349</td>\n",
       "      <td>2.0</td>\n",
       "    </tr>\n",
       "    <tr>\n",
       "      <th>Apartment</th>\n",
       "      <td>2.782875</td>\n",
       "      <td>3.0</td>\n",
       "    </tr>\n",
       "    <tr>\n",
       "      <th>Builder Floor</th>\n",
       "      <td>2.812081</td>\n",
       "      <td>3.0</td>\n",
       "    </tr>\n",
       "    <tr>\n",
       "      <th>Flat</th>\n",
       "      <td>2.97619</td>\n",
       "      <td>3.0</td>\n",
       "    </tr>\n",
       "    <tr>\n",
       "      <th>Penthouse</th>\n",
       "      <td>3.444444</td>\n",
       "      <td>3.5</td>\n",
       "    </tr>\n",
       "    <tr>\n",
       "      <th>Service Apartment</th>\n",
       "      <td>1.0</td>\n",
       "      <td>1.0</td>\n",
       "    </tr>\n",
       "    <tr>\n",
       "      <th>Villa</th>\n",
       "      <td>4.005882</td>\n",
       "      <td>4.0</td>\n",
       "    </tr>\n",
       "  </tbody>\n",
       "</table>\n",
       "</div>"
      ],
      "text/plain": [
       "                   Bathroom       \n",
       "                       mean median\n",
       "Residential_type                  \n",
       " House              2.52349    2.0\n",
       "Apartment          2.782875    3.0\n",
       "Builder Floor      2.812081    3.0\n",
       "Flat                2.97619    3.0\n",
       "Penthouse          3.444444    3.5\n",
       "Service Apartment       1.0    1.0\n",
       "Villa              4.005882    4.0"
      ]
     },
     "execution_count": 144,
     "metadata": {},
     "output_type": "execute_result"
    },
    {
     "data": {
      "text/html": [
       "<div>\n",
       "<style scoped>\n",
       "    .dataframe tbody tr th:only-of-type {\n",
       "        vertical-align: middle;\n",
       "    }\n",
       "\n",
       "    .dataframe tbody tr th {\n",
       "        vertical-align: top;\n",
       "    }\n",
       "\n",
       "    .dataframe thead tr th {\n",
       "        text-align: left;\n",
       "    }\n",
       "\n",
       "    .dataframe thead tr:last-of-type th {\n",
       "        text-align: right;\n",
       "    }\n",
       "</style>\n",
       "<table border=\"1\" class=\"dataframe\">\n",
       "  <thead>\n",
       "    <tr>\n",
       "      <th></th>\n",
       "      <th colspan=\"2\" halign=\"left\">Bathroom</th>\n",
       "    </tr>\n",
       "    <tr>\n",
       "      <th></th>\n",
       "      <th>mean</th>\n",
       "      <th>median</th>\n",
       "    </tr>\n",
       "    <tr>\n",
       "      <th>Furnishing</th>\n",
       "      <th></th>\n",
       "      <th></th>\n",
       "    </tr>\n",
       "  </thead>\n",
       "  <tbody>\n",
       "    <tr>\n",
       "      <th>Furnished</th>\n",
       "      <td>2.8625</td>\n",
       "      <td>3.0</td>\n",
       "    </tr>\n",
       "    <tr>\n",
       "      <th>Semi-Furnished</th>\n",
       "      <td>3.014433</td>\n",
       "      <td>3.0</td>\n",
       "    </tr>\n",
       "    <tr>\n",
       "      <th>Unfurnished</th>\n",
       "      <td>2.549598</td>\n",
       "      <td>2.0</td>\n",
       "    </tr>\n",
       "  </tbody>\n",
       "</table>\n",
       "</div>"
      ],
      "text/plain": [
       "                Bathroom       \n",
       "                    mean median\n",
       "Furnishing                     \n",
       "Furnished         2.8625    3.0\n",
       "Semi-Furnished  3.014433    3.0\n",
       "Unfurnished     2.549598    2.0"
      ]
     },
     "execution_count": 144,
     "metadata": {},
     "output_type": "execute_result"
    },
    {
     "data": {
      "text/html": [
       "<div>\n",
       "<style scoped>\n",
       "    .dataframe tbody tr th:only-of-type {\n",
       "        vertical-align: middle;\n",
       "    }\n",
       "\n",
       "    .dataframe tbody tr th {\n",
       "        vertical-align: top;\n",
       "    }\n",
       "\n",
       "    .dataframe thead tr th {\n",
       "        text-align: left;\n",
       "    }\n",
       "\n",
       "    .dataframe thead tr:last-of-type th {\n",
       "        text-align: right;\n",
       "    }\n",
       "</style>\n",
       "<table border=\"1\" class=\"dataframe\">\n",
       "  <thead>\n",
       "    <tr>\n",
       "      <th></th>\n",
       "      <th colspan=\"2\" halign=\"left\">Bathroom</th>\n",
       "    </tr>\n",
       "    <tr>\n",
       "      <th></th>\n",
       "      <th>mean</th>\n",
       "      <th>median</th>\n",
       "    </tr>\n",
       "    <tr>\n",
       "      <th>Tenants_preferred</th>\n",
       "      <th></th>\n",
       "      <th></th>\n",
       "    </tr>\n",
       "  </thead>\n",
       "  <tbody>\n",
       "    <tr>\n",
       "      <th>Bachelors</th>\n",
       "      <td>2.777391</td>\n",
       "      <td>3.0</td>\n",
       "    </tr>\n",
       "    <tr>\n",
       "      <th>Bachelors/Family</th>\n",
       "      <td>2.82515</td>\n",
       "      <td>3.0</td>\n",
       "    </tr>\n",
       "    <tr>\n",
       "      <th>Family</th>\n",
       "      <td>3.195195</td>\n",
       "      <td>3.0</td>\n",
       "    </tr>\n",
       "  </tbody>\n",
       "</table>\n",
       "</div>"
      ],
      "text/plain": [
       "                   Bathroom       \n",
       "                       mean median\n",
       "Tenants_preferred                 \n",
       "Bachelors          2.777391    3.0\n",
       "Bachelors/Family    2.82515    3.0\n",
       "Family             3.195195    3.0"
      ]
     },
     "execution_count": 144,
     "metadata": {},
     "output_type": "execute_result"
    },
    {
     "data": {
      "text/html": [
       "<div>\n",
       "<style scoped>\n",
       "    .dataframe tbody tr th:only-of-type {\n",
       "        vertical-align: middle;\n",
       "    }\n",
       "\n",
       "    .dataframe tbody tr th {\n",
       "        vertical-align: top;\n",
       "    }\n",
       "\n",
       "    .dataframe thead tr th {\n",
       "        text-align: left;\n",
       "    }\n",
       "\n",
       "    .dataframe thead tr:last-of-type th {\n",
       "        text-align: right;\n",
       "    }\n",
       "</style>\n",
       "<table border=\"1\" class=\"dataframe\">\n",
       "  <thead>\n",
       "    <tr>\n",
       "      <th></th>\n",
       "      <th colspan=\"2\" halign=\"left\">Bathroom</th>\n",
       "    </tr>\n",
       "    <tr>\n",
       "      <th></th>\n",
       "      <th>mean</th>\n",
       "      <th>median</th>\n",
       "    </tr>\n",
       "    <tr>\n",
       "      <th>Posted_by</th>\n",
       "      <th></th>\n",
       "      <th></th>\n",
       "    </tr>\n",
       "  </thead>\n",
       "  <tbody>\n",
       "    <tr>\n",
       "      <th>Agent</th>\n",
       "      <td>3.144754</td>\n",
       "      <td>3.0</td>\n",
       "    </tr>\n",
       "    <tr>\n",
       "      <th>Owner</th>\n",
       "      <td>2.678788</td>\n",
       "      <td>2.0</td>\n",
       "    </tr>\n",
       "  </tbody>\n",
       "</table>\n",
       "</div>"
      ],
      "text/plain": [
       "           Bathroom       \n",
       "               mean median\n",
       "Posted_by                 \n",
       "Agent      3.144754    3.0\n",
       "Owner      2.678788    2.0"
      ]
     },
     "execution_count": 144,
     "metadata": {},
     "output_type": "execute_result"
    },
    {
     "data": {
      "text/html": [
       "<div>\n",
       "<style scoped>\n",
       "    .dataframe tbody tr th:only-of-type {\n",
       "        vertical-align: middle;\n",
       "    }\n",
       "\n",
       "    .dataframe tbody tr th {\n",
       "        vertical-align: top;\n",
       "    }\n",
       "\n",
       "    .dataframe thead tr th {\n",
       "        text-align: left;\n",
       "    }\n",
       "\n",
       "    .dataframe thead tr:last-of-type th {\n",
       "        text-align: right;\n",
       "    }\n",
       "</style>\n",
       "<table border=\"1\" class=\"dataframe\">\n",
       "  <thead>\n",
       "    <tr>\n",
       "      <th></th>\n",
       "      <th colspan=\"2\" halign=\"left\">Bathroom</th>\n",
       "    </tr>\n",
       "    <tr>\n",
       "      <th></th>\n",
       "      <th>mean</th>\n",
       "      <th>median</th>\n",
       "    </tr>\n",
       "    <tr>\n",
       "      <th>City</th>\n",
       "      <th></th>\n",
       "      <th></th>\n",
       "    </tr>\n",
       "  </thead>\n",
       "  <tbody>\n",
       "    <tr>\n",
       "      <th>Ahmedabad</th>\n",
       "      <td>3.129412</td>\n",
       "      <td>3.0</td>\n",
       "    </tr>\n",
       "    <tr>\n",
       "      <th>Bangalore</th>\n",
       "      <td>2.886364</td>\n",
       "      <td>3.0</td>\n",
       "    </tr>\n",
       "    <tr>\n",
       "      <th>Chennai</th>\n",
       "      <td>2.434783</td>\n",
       "      <td>2.0</td>\n",
       "    </tr>\n",
       "    <tr>\n",
       "      <th>Gurgaon</th>\n",
       "      <td>3.296552</td>\n",
       "      <td>3.0</td>\n",
       "    </tr>\n",
       "    <tr>\n",
       "      <th>Hyderabad</th>\n",
       "      <td>2.973451</td>\n",
       "      <td>3.0</td>\n",
       "    </tr>\n",
       "  </tbody>\n",
       "</table>\n",
       "</div>"
      ],
      "text/plain": [
       "           Bathroom       \n",
       "               mean median\n",
       "City                      \n",
       "Ahmedabad  3.129412    3.0\n",
       "Bangalore  2.886364    3.0\n",
       "Chennai    2.434783    2.0\n",
       "Gurgaon    3.296552    3.0\n",
       "Hyderabad  2.973451    3.0"
      ]
     },
     "execution_count": 144,
     "metadata": {},
     "output_type": "execute_result"
    }
   ],
   "source": [
    "df.Bathroom.mean()\n",
    "df.Bathroom.median()\n",
    "\n",
    "df.groupby([\"BHK\",\"Residential_type\"]).agg({\"Bathroom\": [\"mean\", \"median\"]})\n",
    "\n",
    "df.groupby([\"BHK\"]).agg({\"Bathroom\": [\"mean\", \"median\"]})\n",
    "df.groupby([\"Residential_type\"]).agg({\"Bathroom\": [\"mean\", \"median\"]})\n",
    "df.groupby([\"Furnishing\"]).agg({\"Bathroom\": [\"mean\", \"median\"]})\n",
    "df.groupby([\"Tenants_preferred\"]).agg({\"Bathroom\": [\"mean\", \"median\"]})\n",
    "df.groupby([\"Posted_by\"]).agg({\"Bathroom\": [\"mean\", \"median\"]})\n",
    "df.groupby([\"City\"]).agg({\"Bathroom\": [\"mean\", \"median\"]})"
   ]
  },
  {
   "cell_type": "code",
   "execution_count": 145,
   "id": "3cfe803d-cb45-473e-a9ab-785167a121e5",
   "metadata": {
    "execution": {
     "iopub.execute_input": "2025-03-21T17:44:31.280713Z",
     "iopub.status.busy": "2025-03-21T17:44:31.280713Z",
     "iopub.status.idle": "2025-03-21T17:44:31.291101Z",
     "shell.execute_reply": "2025-03-21T17:44:31.290095Z",
     "shell.execute_reply.started": "2025-03-21T17:44:31.280713Z"
    }
   },
   "outputs": [],
   "source": [
    "#df.groupby(\"BHK\")[\"Bathroom\"].transform(\"median\")\n",
    "df.Bathroom.fillna(df.groupby(\"BHK\")[\"Bathroom\"].transform(\"median\"),inplace = True)"
   ]
  },
  {
   "cell_type": "code",
   "execution_count": 146,
   "id": "b1cc3f9a-e6ca-43fc-b41b-8824eab57c0a",
   "metadata": {
    "execution": {
     "iopub.execute_input": "2025-03-21T17:44:31.293106Z",
     "iopub.status.busy": "2025-03-21T17:44:31.292103Z",
     "iopub.status.idle": "2025-03-21T17:44:31.303596Z",
     "shell.execute_reply": "2025-03-21T17:44:31.302573Z",
     "shell.execute_reply.started": "2025-03-21T17:44:31.293106Z"
    }
   },
   "outputs": [
    {
     "data": {
      "text/plain": [
       "BHK                  0\n",
       "Residential_type     0\n",
       "Furnishing           0\n",
       "Bathroom             0\n",
       "Tenants_preferred    0\n",
       "Balcony              0\n",
       "Posted_by            0\n",
       "City                 0\n",
       "Price                0\n",
       "dtype: int64"
      ]
     },
     "execution_count": 146,
     "metadata": {},
     "output_type": "execute_result"
    }
   ],
   "source": [
    "df.isna().sum()"
   ]
  },
  {
   "cell_type": "code",
   "execution_count": 147,
   "id": "8aa370c5-24fa-4e32-a2cd-e859f65f05aa",
   "metadata": {
    "execution": {
     "iopub.execute_input": "2025-03-21T17:44:31.305580Z",
     "iopub.status.busy": "2025-03-21T17:44:31.304578Z",
     "iopub.status.idle": "2025-03-21T17:44:31.318793Z",
     "shell.execute_reply": "2025-03-21T17:44:31.316757Z",
     "shell.execute_reply.started": "2025-03-21T17:44:31.305580Z"
    }
   },
   "outputs": [
    {
     "name": "stdout",
     "output_type": "stream",
     "text": [
      "<class 'pandas.core.frame.DataFrame'>\n",
      "RangeIndex: 1752 entries, 0 to 1751\n",
      "Data columns (total 9 columns):\n",
      " #   Column             Non-Null Count  Dtype  \n",
      "---  ------             --------------  -----  \n",
      " 0   BHK                1752 non-null   int32  \n",
      " 1   Residential_type   1752 non-null   object \n",
      " 2   Furnishing         1752 non-null   object \n",
      " 3   Bathroom           1752 non-null   Int64  \n",
      " 4   Tenants_preferred  1752 non-null   object \n",
      " 5   Balcony            1752 non-null   float64\n",
      " 6   Posted_by          1752 non-null   object \n",
      " 7   City               1752 non-null   object \n",
      " 8   Price              1752 non-null   int32  \n",
      "dtypes: Int64(1), float64(1), int32(2), object(5)\n",
      "memory usage: 111.3+ KB\n"
     ]
    }
   ],
   "source": [
    "df.info()"
   ]
  },
  {
   "cell_type": "markdown",
   "id": "c9d20b9e-432a-4ba9-98b6-4c5916d37f62",
   "metadata": {},
   "source": [
    "### Checking for Outliers"
   ]
  },
  {
   "cell_type": "code",
   "execution_count": 148,
   "id": "864dadab-301f-42d0-8142-2701aae574fb",
   "metadata": {
    "execution": {
     "iopub.execute_input": "2025-03-21T17:44:31.319773Z",
     "iopub.status.busy": "2025-03-21T17:44:31.319773Z",
     "iopub.status.idle": "2025-03-21T17:44:31.334065Z",
     "shell.execute_reply": "2025-03-21T17:44:31.333057Z",
     "shell.execute_reply.started": "2025-03-21T17:44:31.319773Z"
    }
   },
   "outputs": [
    {
     "data": {
      "text/plain": [
       "BHK         1.143672\n",
       "Bathroom    1.202742\n",
       "Balcony     1.797488\n",
       "Price       4.380838\n",
       "dtype: Float64"
      ]
     },
     "execution_count": 148,
     "metadata": {},
     "output_type": "execute_result"
    }
   ],
   "source": [
    "# to identify the presence of outloiers, check the skewness value for each numerical column \n",
    "df.skew(numeric_only=True)"
   ]
  },
  {
   "cell_type": "code",
   "execution_count": 149,
   "id": "4f0fb0fd-f431-4205-9835-68132ecbbaaf",
   "metadata": {
    "execution": {
     "iopub.execute_input": "2025-03-21T17:44:31.336064Z",
     "iopub.status.busy": "2025-03-21T17:44:31.336064Z",
     "iopub.status.idle": "2025-03-21T17:44:31.343989Z",
     "shell.execute_reply": "2025-03-21T17:44:31.343989Z",
     "shell.execute_reply.started": "2025-03-21T17:44:31.336064Z"
    }
   },
   "outputs": [
    {
     "data": {
      "text/plain": [
       "Index(['BHK', 'Bathroom', 'Balcony', 'Price'], dtype='object')"
      ]
     },
     "execution_count": 149,
     "metadata": {},
     "output_type": "execute_result"
    }
   ],
   "source": [
    "num_cols = df.select_dtypes(include=\"number\").columns \n",
    "num_cols"
   ]
  },
  {
   "cell_type": "code",
   "execution_count": 150,
   "id": "2cb9c949-454c-428b-be6a-d9e381b213fd",
   "metadata": {
    "execution": {
     "iopub.execute_input": "2025-03-21T17:44:31.345997Z",
     "iopub.status.busy": "2025-03-21T17:44:31.345997Z",
     "iopub.status.idle": "2025-03-21T17:44:32.143529Z",
     "shell.execute_reply": "2025-03-21T17:44:32.142518Z",
     "shell.execute_reply.started": "2025-03-21T17:44:31.345997Z"
    }
   },
   "outputs": [
    {
     "data": {
      "image/png": "[encoded data removed]",
      "text/plain": [
       "<Figure size 640x480 with 4 Axes>"
      ]
     },
     "metadata": {},
     "output_type": "display_data"
    }
   ],
   "source": [
    "# Plot all box plots \n",
    "fig, axs = plt.subplots(nrows=2, ncols=2)\n",
    "#print(axs.flatten()) \n",
    "\n",
    "pos = axs.flatten() \n",
    "\n",
    "for i in range(len(num_cols)): \n",
    "    sns.boxplot(data=df, x = num_cols[i], ax = pos[i], color=sns.color_palette(\"rainbow\", 14)[i])\n",
    "    pos[i].set_title(f\"Boxplot for - {num_cols[i]}\")\n",
    "    pos[i].yaxis.set_major_formatter(mticker.ScalarFormatter())\n",
    "    pos[i].ticklabel_format(style='plain')\n",
    "    \n",
    "plt.suptitle(\"Boxplots of Numerical columns\")\n",
    "plt.tight_layout()\n",
    "plt.show();"
   ]
  },
  {
   "cell_type": "code",
   "execution_count": 151,
   "id": "60ea5b53-b455-4e9a-8146-e99e4578de55",
   "metadata": {
    "execution": {
     "iopub.execute_input": "2025-03-21T17:44:32.145594Z",
     "iopub.status.busy": "2025-03-21T17:44:32.144525Z",
     "iopub.status.idle": "2025-03-21T17:44:32.167560Z",
     "shell.execute_reply": "2025-03-21T17:44:32.166551Z",
     "shell.execute_reply.started": "2025-03-21T17:44:32.145594Z"
    }
   },
   "outputs": [],
   "source": [
    "#df.to_csv(r'C:\\Users\\91630\\Innomatics-DA\\Project\\magicbricks_cleaneddata.csv',index=False)"
   ]
  },
  {
   "cell_type": "code",
   "execution_count": 2,
   "id": "577c6ab6-2796-40c5-bf9e-bbb411033285",
   "metadata": {
    "execution": {
     "iopub.execute_input": "2025-03-22T05:08:44.973797Z",
     "iopub.status.busy": "2025-03-22T05:08:44.971774Z",
     "iopub.status.idle": "2025-03-22T05:08:45.021527Z",
     "shell.execute_reply": "2025-03-22T05:08:45.021527Z",
     "shell.execute_reply.started": "2025-03-22T05:08:44.973797Z"
    }
   },
   "outputs": [],
   "source": [
    "df = pd.read_csv(r'C:\\Users\\91630\\Innomatics-DA\\Project\\magicbricks_cleaneddata.csv')"
   ]
  },
  {
   "cell_type": "markdown",
   "id": "77776948-2e18-461d-a8fa-616ae453f499",
   "metadata": {},
   "source": [
    "### Data Analysis and visualization (EDA)"
   ]
  },
  {
   "cell_type": "markdown",
   "id": "624cada3-0321-48ed-b156-2a9f586b2475",
   "metadata": {},
   "source": [
    "##### Categorical:\n",
    "+ Residential_type\n",
    "+ Furnishing\n",
    "+ Tenants_preferred\n",
    "+ Posted_by\n",
    "+ City\n",
    "\n",
    "##### Numerical:\n",
    "+ BHK                \n",
    "+ Bathroom    \n",
    "+ Balcony\n",
    "+ Price\n"
   ]
  },
  {
   "cell_type": "markdown",
   "id": "1ac5c791-0f8a-4d96-851d-7d87de22c695",
   "metadata": {},
   "source": [
    "#### Univariate Analysis"
   ]
  },
  {
   "cell_type": "code",
   "execution_count": 152,
   "id": "50111ab3-37d8-4667-abfb-5464f2184676",
   "metadata": {
    "execution": {
     "iopub.execute_input": "2025-03-21T17:44:32.168561Z",
     "iopub.status.busy": "2025-03-21T17:44:32.168561Z",
     "iopub.status.idle": "2025-03-21T17:44:32.576459Z",
     "shell.execute_reply": "2025-03-21T17:44:32.575450Z",
     "shell.execute_reply.started": "2025-03-21T17:44:32.168561Z"
    }
   },
   "outputs": [
    {
     "data": {
      "image/png": "[encoded data removed]",
      "text/plain": [
       "<Figure size 640x480 with 1 Axes>"
      ]
     },
     "metadata": {},
     "output_type": "display_data"
    }
   ],
   "source": [
    "sns.histplot(df[\"Price\"], bins=50, kde=True)\n",
    "plt.ticklabel_format(style='plain'); "
   ]
  },
  {
   "cell_type": "markdown",
   "id": "99cb9a8e-f672-4b94-9875-db239626c414",
   "metadata": {
    "execution": {
     "iopub.execute_input": "2025-03-21T17:16:18.655193Z",
     "iopub.status.busy": "2025-03-21T17:16:18.654191Z",
     "iopub.status.idle": "2025-03-21T17:16:18.671818Z",
     "shell.execute_reply": "2025-03-21T17:16:18.670812Z",
     "shell.execute_reply.started": "2025-03-21T17:16:18.655193Z"
    }
   },
   "source": [
    "###### Observations:Histogram of Rental Prices\n",
    "+ The distribution is right-skewed, meaning most properties are in the lower price range.\n",
    "+ A majority of properties fall below ₹80,000, while a few luxury rentals exceed ₹2,00,000."
   ]
  },
  {
   "cell_type": "code",
   "execution_count": 153,
   "id": "cb2fb1c1-6770-442d-92a8-7b3d7c49944c",
   "metadata": {
    "execution": {
     "iopub.execute_input": "2025-03-21T17:44:32.584654Z",
     "iopub.status.busy": "2025-03-21T17:44:32.584654Z",
     "iopub.status.idle": "2025-03-21T17:44:32.799560Z",
     "shell.execute_reply": "2025-03-21T17:44:32.798507Z",
     "shell.execute_reply.started": "2025-03-21T17:44:32.584654Z"
    }
   },
   "outputs": [
    {
     "data": {
      "image/png": "[encoded data removed]",
      "text/plain": [
       "<Figure size 640x480 with 1 Axes>"
      ]
     },
     "metadata": {},
     "output_type": "display_data"
    }
   ],
   "source": [
    "sns.histplot(data= df, x= 'Balcony', bins= 10);"
   ]
  },
  {
   "cell_type": "code",
   "execution_count": 154,
   "id": "e6e1bc68-b72b-42f8-9e3b-4915b675ac3e",
   "metadata": {
    "execution": {
     "iopub.execute_input": "2025-03-21T17:44:32.801717Z",
     "iopub.status.busy": "2025-03-21T17:44:32.800556Z",
     "iopub.status.idle": "2025-03-21T17:44:33.003724Z",
     "shell.execute_reply": "2025-03-21T17:44:33.002709Z",
     "shell.execute_reply.started": "2025-03-21T17:44:32.801717Z"
    }
   },
   "outputs": [
    {
     "data": {
      "image/png": "[encoded data removed]",
      "text/plain": [
       "<Figure size 640x480 with 1 Axes>"
      ]
     },
     "metadata": {},
     "output_type": "display_data"
    }
   ],
   "source": [
    "sns.histplot(data= df, x= 'Bathroom', bins= 10);"
   ]
  },
  {
   "cell_type": "code",
   "execution_count": 155,
   "id": "1ede5e2f-98a9-43ac-8a1b-40a4480d276d",
   "metadata": {
    "execution": {
     "iopub.execute_input": "2025-03-21T17:44:33.004832Z",
     "iopub.status.busy": "2025-03-21T17:44:33.004832Z",
     "iopub.status.idle": "2025-03-21T17:44:34.244243Z",
     "shell.execute_reply": "2025-03-21T17:44:34.241711Z",
     "shell.execute_reply.started": "2025-03-21T17:44:33.004832Z"
    }
   },
   "outputs": [
    {
     "data": {
      "image/png": "[encoded data removed]",
      "text/plain": [
       "<Figure size 1600x1000 with 4 Axes>"
      ]
     },
     "metadata": {},
     "output_type": "display_data"
    }
   ],
   "source": [
    "# PLots with ONE NUMERICAL variable - Histogram, Box, Violin, KDE plots \n",
    "fig, axs = plt.subplots(nrows=2, ncols=2, figsize=(16,10))\n",
    "sns.histplot(data=df, x = \"BHK\", bins =10, ax = axs[0,0]) \n",
    "axs[0,0].set_title(\"Histogram\")\n",
    "\n",
    "sns.boxplot(data=df, x = \"BHK\",  ax = axs[0,1])\n",
    "axs[0,1].set_title(\"Box plot\")\n",
    "\n",
    "sns.violinplot(data=df, x = \"BHK\",  ax = axs[1,0])\n",
    "axs[1,0].set_title(\"Violin plot\")\n",
    "\n",
    "sns.kdeplot(data=df, x = \"BHK\",  ax = axs[1,1]) \n",
    "axs[1,1].set_title(\"KDE plot\")\n",
    "\n",
    "plt.suptitle(\"Univariate Analysis - Visualizing ONE NUMERICAL Variable\", fontsize = 25)\n",
    "plt.tight_layout()\n",
    "plt.show();"
   ]
  },
  {
   "cell_type": "markdown",
   "id": "5dfc6419-e7b0-4b28-a872-4025839af7ff",
   "metadata": {},
   "source": [
    "Observations:\n",
    "\n",
    "+ 2 BHK and 3 BHK properties are the most common."
   ]
  },
  {
   "cell_type": "code",
   "execution_count": 176,
   "id": "a3ff90d1-a05c-41f0-8055-080685400de8",
   "metadata": {
    "execution": {
     "iopub.execute_input": "2025-03-21T18:37:31.373585Z",
     "iopub.status.busy": "2025-03-21T18:37:31.373585Z",
     "iopub.status.idle": "2025-03-21T18:37:31.722993Z",
     "shell.execute_reply": "2025-03-21T18:37:31.720635Z",
     "shell.execute_reply.started": "2025-03-21T18:37:31.373585Z"
    }
   },
   "outputs": [
    {
     "data": {
      "image/png": "[encoded data removed]",
      "text/plain": [
       "<Figure size 640x480 with 1 Axes>"
      ]
     },
     "metadata": {},
     "output_type": "display_data"
    }
   ],
   "source": [
    "sns.countplot(data=df, x = \"Residential_type\", palette=sns.color_palette(\"rainbow\"))\n",
    "plt.title('Distribution of residential types')\n",
    "plt.xticks(rotation=90);"
   ]
  },
  {
   "cell_type": "markdown",
   "id": "467493a8-aeed-4704-a4ce-909f15bdfe54",
   "metadata": {},
   "source": [
    "Observations:\n",
    "+ Most listings are of apartments"
   ]
  },
  {
   "cell_type": "code",
   "execution_count": 177,
   "id": "cec55ce0-b38d-476a-9650-bdc08c708008",
   "metadata": {
    "execution": {
     "iopub.execute_input": "2025-03-21T18:39:44.226068Z",
     "iopub.status.busy": "2025-03-21T18:39:44.224073Z",
     "iopub.status.idle": "2025-03-21T18:39:44.731209Z",
     "shell.execute_reply": "2025-03-21T18:39:44.731209Z",
     "shell.execute_reply.started": "2025-03-21T18:39:44.226068Z"
    }
   },
   "outputs": [
    {
     "data": {
      "image/png": "[encoded data removed]",
      "text/plain": [
       "<Figure size 640x480 with 1 Axes>"
      ]
     },
     "metadata": {},
     "output_type": "display_data"
    }
   ],
   "source": [
    "plt.pie(df.Furnishing.value_counts().values, labels=df.Furnishing.value_counts().index, autopct=\"%.2f%%\", colors=sns.color_palette(\"rainbow\"))\n",
    "plt.title('Distribution of Furnishing types');"
   ]
  },
  {
   "cell_type": "markdown",
   "id": "2b963c09-5004-45bb-b2d5-7d9286d422bd",
   "metadata": {},
   "source": [
    "Observations:\n",
    "\n",
    "+ Most properties are semi-furnished"
   ]
  },
  {
   "cell_type": "code",
   "execution_count": 158,
   "id": "963ef817-b7f7-4c32-a7f3-8692d4f52705",
   "metadata": {
    "execution": {
     "iopub.execute_input": "2025-03-21T17:44:34.732005Z",
     "iopub.status.busy": "2025-03-21T17:44:34.732005Z",
     "iopub.status.idle": "2025-03-21T17:44:35.173123Z",
     "shell.execute_reply": "2025-03-21T17:44:35.172116Z",
     "shell.execute_reply.started": "2025-03-21T17:44:34.732005Z"
    }
   },
   "outputs": [
    {
     "data": {
      "image/png": "[encoded data removed]",
      "text/plain": [
       "<Figure size 640x480 with 1 Axes>"
      ]
     },
     "metadata": {},
     "output_type": "display_data"
    }
   ],
   "source": [
    "sns.barplot(df.Tenants_preferred, estimator=np.size, ci = False, palette=sns.color_palette(\"rainbow\"));"
   ]
  },
  {
   "cell_type": "code",
   "execution_count": 159,
   "id": "265841fc-b2ff-493f-88e7-7f46501fdc6e",
   "metadata": {
    "execution": {
     "iopub.execute_input": "2025-03-21T17:44:35.175125Z",
     "iopub.status.busy": "2025-03-21T17:44:35.174125Z",
     "iopub.status.idle": "2025-03-21T17:44:35.327788Z",
     "shell.execute_reply": "2025-03-21T17:44:35.326674Z",
     "shell.execute_reply.started": "2025-03-21T17:44:35.175125Z"
    }
   },
   "outputs": [
    {
     "data": {
      "image/png": "[encoded data removed]",
      "text/plain": [
       "<Figure size 640x480 with 1 Axes>"
      ]
     },
     "metadata": {},
     "output_type": "display_data"
    }
   ],
   "source": [
    "plt.pie(df.Posted_by.value_counts().values, labels=df.Posted_by.value_counts().index, autopct=\"%.2f%%\", colors=sns.color_palette(\"rainbow\"));"
   ]
  },
  {
   "cell_type": "code",
   "execution_count": 160,
   "id": "34d806b8-8d83-495d-895d-2aeeec75f5b3",
   "metadata": {
    "execution": {
     "iopub.execute_input": "2025-03-21T17:44:35.328685Z",
     "iopub.status.busy": "2025-03-21T17:44:35.328685Z",
     "iopub.status.idle": "2025-03-21T17:44:35.611492Z",
     "shell.execute_reply": "2025-03-21T17:44:35.610427Z",
     "shell.execute_reply.started": "2025-03-21T17:44:35.328685Z"
    }
   },
   "outputs": [
    {
     "data": {
      "image/png": "[encoded data removed]",
      "text/plain": [
       "<Figure size 640x480 with 1 Axes>"
      ]
     },
     "metadata": {},
     "output_type": "display_data"
    }
   ],
   "source": [
    "sns.countplot(data=df, x = \"City\", palette=sns.color_palette(\"rainbow\"))\n",
    "plt.xticks(rotation=90);"
   ]
  },
  {
   "cell_type": "markdown",
   "id": "5719528b-4f44-4f9c-980b-f7f1eff2e3d7",
   "metadata": {},
   "source": [
    "#### Bivariate Analysis"
   ]
  },
  {
   "cell_type": "markdown",
   "id": "690a1b1f-289f-4f3e-8865-d978af0c8015",
   "metadata": {},
   "source": [
    "###### Numerical vs numerical"
   ]
  },
  {
   "cell_type": "code",
   "execution_count": 161,
   "id": "9dca0bf2-ceb7-4c55-897c-996a04787ea1",
   "metadata": {
    "execution": {
     "iopub.execute_input": "2025-03-21T17:44:35.612666Z",
     "iopub.status.busy": "2025-03-21T17:44:35.612666Z",
     "iopub.status.idle": "2025-03-21T17:44:35.970084Z",
     "shell.execute_reply": "2025-03-21T17:44:35.969077Z",
     "shell.execute_reply.started": "2025-03-21T17:44:35.612666Z"
    }
   },
   "outputs": [
    {
     "data": {
      "image/png": "[encoded data removed]",
      "text/plain": [
       "<Figure size 640x480 with 1 Axes>"
      ]
     },
     "metadata": {},
     "output_type": "display_data"
    }
   ],
   "source": [
    "sns.scatterplot(data=df, x = \"Price\", y = \"Balcony\")\n",
    "plt.ticklabel_format(style='plain');"
   ]
  },
  {
   "cell_type": "code",
   "execution_count": 162,
   "id": "1fc9e84a-2b87-42a0-ba33-a805bb036469",
   "metadata": {
    "execution": {
     "iopub.execute_input": "2025-03-21T17:44:35.971085Z",
     "iopub.status.busy": "2025-03-21T17:44:35.971085Z",
     "iopub.status.idle": "2025-03-21T17:44:35.988565Z",
     "shell.execute_reply": "2025-03-21T17:44:35.987868Z",
     "shell.execute_reply.started": "2025-03-21T17:44:35.971085Z"
    }
   },
   "outputs": [
    {
     "data": {
      "text/html": [
       "<div>\n",
       "<style scoped>\n",
       "    .dataframe tbody tr th:only-of-type {\n",
       "        vertical-align: middle;\n",
       "    }\n",
       "\n",
       "    .dataframe tbody tr th {\n",
       "        vertical-align: top;\n",
       "    }\n",
       "\n",
       "    .dataframe thead th {\n",
       "        text-align: right;\n",
       "    }\n",
       "</style>\n",
       "<table border=\"1\" class=\"dataframe\">\n",
       "  <thead>\n",
       "    <tr style=\"text-align: right;\">\n",
       "      <th></th>\n",
       "      <th>BHK</th>\n",
       "      <th>Bathroom</th>\n",
       "      <th>Balcony</th>\n",
       "      <th>Price</th>\n",
       "    </tr>\n",
       "  </thead>\n",
       "  <tbody>\n",
       "    <tr>\n",
       "      <th>BHK</th>\n",
       "      <td>1.000000</td>\n",
       "      <td>0.869034</td>\n",
       "      <td>0.473385</td>\n",
       "      <td>0.402916</td>\n",
       "    </tr>\n",
       "    <tr>\n",
       "      <th>Bathroom</th>\n",
       "      <td>0.869034</td>\n",
       "      <td>1.000000</td>\n",
       "      <td>0.461213</td>\n",
       "      <td>0.453455</td>\n",
       "    </tr>\n",
       "    <tr>\n",
       "      <th>Balcony</th>\n",
       "      <td>0.473385</td>\n",
       "      <td>0.461213</td>\n",
       "      <td>1.000000</td>\n",
       "      <td>0.259097</td>\n",
       "    </tr>\n",
       "    <tr>\n",
       "      <th>Price</th>\n",
       "      <td>0.402916</td>\n",
       "      <td>0.453455</td>\n",
       "      <td>0.259097</td>\n",
       "      <td>1.000000</td>\n",
       "    </tr>\n",
       "  </tbody>\n",
       "</table>\n",
       "</div>"
      ],
      "text/plain": [
       "               BHK  Bathroom   Balcony     Price\n",
       "BHK       1.000000  0.869034  0.473385  0.402916\n",
       "Bathroom  0.869034  1.000000  0.461213  0.453455\n",
       "Balcony   0.473385  0.461213  1.000000  0.259097\n",
       "Price     0.402916  0.453455  0.259097  1.000000"
      ]
     },
     "execution_count": 162,
     "metadata": {},
     "output_type": "execute_result"
    }
   ],
   "source": [
    "df.corr(numeric_only=True)"
   ]
  },
  {
   "cell_type": "code",
   "execution_count": 163,
   "id": "20a49ef2-a1b1-444f-bc0f-8da85118b845",
   "metadata": {
    "execution": {
     "iopub.execute_input": "2025-03-21T17:44:35.991575Z",
     "iopub.status.busy": "2025-03-21T17:44:35.990569Z",
     "iopub.status.idle": "2025-03-21T17:44:44.650889Z",
     "shell.execute_reply": "2025-03-21T17:44:44.648390Z",
     "shell.execute_reply.started": "2025-03-21T17:44:35.991575Z"
    }
   },
   "outputs": [
    {
     "data": {
      "image/png": "[encoded data removed]",
      "text/plain": [
       "<Figure size 1000x1000 with 20 Axes>"
      ]
     },
     "metadata": {},
     "output_type": "display_data"
    }
   ],
   "source": [
    "sns.pairplot(df);"
   ]
  },
  {
   "cell_type": "markdown",
   "id": "9f7d6504-a3e4-4df6-ba9d-647550bc3481",
   "metadata": {},
   "source": [
    "##### Categorical vs categorical"
   ]
  },
  {
   "cell_type": "code",
   "execution_count": 29,
   "id": "a8adf2e8-96cd-435b-ad60-8e6c18bffa10",
   "metadata": {
    "execution": {
     "iopub.execute_input": "2025-03-22T06:57:18.327676Z",
     "iopub.status.busy": "2025-03-22T06:57:18.327676Z",
     "iopub.status.idle": "2025-03-22T06:57:19.022939Z",
     "shell.execute_reply": "2025-03-22T06:57:19.022939Z",
     "shell.execute_reply.started": "2025-03-22T06:57:18.327676Z"
    }
   },
   "outputs": [
    {
     "data": {
      "image/png": "[encoded data removed]",
      "text/plain": [
       "<Figure size 640x480 with 1 Axes>"
      ]
     },
     "metadata": {},
     "output_type": "display_data"
    }
   ],
   "source": [
    "sns.countplot(data = df, x = \"Residential_type\", hue = \"Posted_by\")\n",
    "plt.title('Residential_type vs Posted_by')\n",
    "plt.xticks(rotation=90);"
   ]
  },
  {
   "cell_type": "markdown",
   "id": "d162171d-6af5-46ca-b1b4-60b94a274be1",
   "metadata": {},
   "source": [
    "Observations:\n",
    "\n",
    "+ Most of the Houses are posted by owners"
   ]
  },
  {
   "cell_type": "code",
   "execution_count": 165,
   "id": "5adf66f6-c7e8-42f9-944e-32957c89d0c4",
   "metadata": {
    "execution": {
     "iopub.execute_input": "2025-03-21T17:44:45.087882Z",
     "iopub.status.busy": "2025-03-21T17:44:45.086880Z",
     "iopub.status.idle": "2025-03-21T17:44:45.133828Z",
     "shell.execute_reply": "2025-03-21T17:44:45.131026Z",
     "shell.execute_reply.started": "2025-03-21T17:44:45.087882Z"
    }
   },
   "outputs": [
    {
     "data": {
      "text/html": [
       "<div>\n",
       "<style scoped>\n",
       "    .dataframe tbody tr th:only-of-type {\n",
       "        vertical-align: middle;\n",
       "    }\n",
       "\n",
       "    .dataframe tbody tr th {\n",
       "        vertical-align: top;\n",
       "    }\n",
       "\n",
       "    .dataframe thead th {\n",
       "        text-align: right;\n",
       "    }\n",
       "</style>\n",
       "<table border=\"1\" class=\"dataframe\">\n",
       "  <thead>\n",
       "    <tr style=\"text-align: right;\">\n",
       "      <th>Residential_type</th>\n",
       "      <th>House</th>\n",
       "      <th>Apartment</th>\n",
       "      <th>Builder Floor</th>\n",
       "      <th>Flat</th>\n",
       "      <th>Penthouse</th>\n",
       "      <th>Service Apartment</th>\n",
       "      <th>Villa</th>\n",
       "    </tr>\n",
       "    <tr>\n",
       "      <th>Tenants_preferred</th>\n",
       "      <th></th>\n",
       "      <th></th>\n",
       "      <th></th>\n",
       "      <th></th>\n",
       "      <th></th>\n",
       "      <th></th>\n",
       "      <th></th>\n",
       "    </tr>\n",
       "  </thead>\n",
       "  <tbody>\n",
       "    <tr>\n",
       "      <th>Bachelors</th>\n",
       "      <td>89</td>\n",
       "      <td>338</td>\n",
       "      <td>63</td>\n",
       "      <td>27</td>\n",
       "      <td>8</td>\n",
       "      <td>1</td>\n",
       "      <td>49</td>\n",
       "    </tr>\n",
       "    <tr>\n",
       "      <th>Bachelors/Family</th>\n",
       "      <td>177</td>\n",
       "      <td>456</td>\n",
       "      <td>69</td>\n",
       "      <td>55</td>\n",
       "      <td>7</td>\n",
       "      <td>0</td>\n",
       "      <td>80</td>\n",
       "    </tr>\n",
       "    <tr>\n",
       "      <th>Family</th>\n",
       "      <td>36</td>\n",
       "      <td>191</td>\n",
       "      <td>17</td>\n",
       "      <td>44</td>\n",
       "      <td>3</td>\n",
       "      <td>0</td>\n",
       "      <td>42</td>\n",
       "    </tr>\n",
       "  </tbody>\n",
       "</table>\n",
       "</div>"
      ],
      "text/plain": [
       "Residential_type    House  Apartment  Builder Floor  Flat   Penthouse  \\\n",
       "Tenants_preferred                                                       \n",
       "Bachelors              89        338             63     27          8   \n",
       "Bachelors/Family      177        456             69     55          7   \n",
       "Family                 36        191             17     44          3   \n",
       "\n",
       "Residential_type   Service Apartment  Villa  \n",
       "Tenants_preferred                            \n",
       "Bachelors                          1     49  \n",
       "Bachelors/Family                   0     80  \n",
       "Family                             0     42  "
      ]
     },
     "execution_count": 165,
     "metadata": {},
     "output_type": "execute_result"
    }
   ],
   "source": [
    "pd.crosstab(df.Tenants_preferred, df.Residential_type) "
   ]
  },
  {
   "cell_type": "code",
   "execution_count": 166,
   "id": "25ac20f6-515f-4fc1-b0ba-29f658486f17",
   "metadata": {
    "execution": {
     "iopub.execute_input": "2025-03-21T17:44:45.139999Z",
     "iopub.status.busy": "2025-03-21T17:44:45.137992Z",
     "iopub.status.idle": "2025-03-21T17:44:45.751017Z",
     "shell.execute_reply": "2025-03-21T17:44:45.749485Z",
     "shell.execute_reply.started": "2025-03-21T17:44:45.139999Z"
    }
   },
   "outputs": [
    {
     "data": {
      "image/png": "[encoded data removed]",
      "text/plain": [
       "<Figure size 640x480 with 2 Axes>"
      ]
     },
     "metadata": {},
     "output_type": "display_data"
    }
   ],
   "source": [
    "matrix_data = pd.crosstab(df.City, df.Residential_type)  \n",
    "sns.heatmap(matrix_data, annot = True, fmt = \"d\");"
   ]
  },
  {
   "cell_type": "markdown",
   "id": "088aebb8-3ae1-4376-8920-4756d66b9480",
   "metadata": {},
   "source": [
    "##### Categorical vs numerical"
   ]
  },
  {
   "cell_type": "code",
   "execution_count": 180,
   "id": "86777c7b-c00a-45a3-bcf7-191b4a9fc950",
   "metadata": {
    "execution": {
     "iopub.execute_input": "2025-03-21T18:47:08.362627Z",
     "iopub.status.busy": "2025-03-21T18:47:08.361624Z",
     "iopub.status.idle": "2025-03-21T18:47:08.972487Z",
     "shell.execute_reply": "2025-03-21T18:47:08.970966Z",
     "shell.execute_reply.started": "2025-03-21T18:47:08.361624Z"
    }
   },
   "outputs": [
    {
     "data": {
      "image/png": "[encoded data removed]",
      "text/plain": [
       "<Figure size 640x480 with 1 Axes>"
      ]
     },
     "metadata": {},
     "output_type": "display_data"
    }
   ],
   "source": [
    "sns.barplot(data= df, x= 'City', y= 'Price', ci= False, palette=sns.color_palette(\"cubehelix\"))\n",
    "plt.title('Price vs City');"
   ]
  },
  {
   "cell_type": "code",
   "execution_count": 6,
   "id": "b542d93f-e5f1-4682-b2d8-bebd99ca8265",
   "metadata": {
    "execution": {
     "iopub.execute_input": "2025-03-22T05:10:55.661946Z",
     "iopub.status.busy": "2025-03-22T05:10:55.659930Z",
     "iopub.status.idle": "2025-03-22T05:10:56.276824Z",
     "shell.execute_reply": "2025-03-22T05:10:56.276824Z",
     "shell.execute_reply.started": "2025-03-22T05:10:55.661946Z"
    }
   },
   "outputs": [
    {
     "data": {
      "image/png": "[encoded data removed]",
      "text/plain": [
       "<Figure size 640x480 with 1 Axes>"
      ]
     },
     "metadata": {},
     "output_type": "display_data"
    }
   ],
   "source": [
    "sns.barplot(data= df, x= 'Residential_type', y= 'Price', ci= False, palette=sns.color_palette(\"cubehelix\"))\n",
    "plt.title('Residential_type vs Price')\n",
    "plt.xticks(rotation = 90);"
   ]
  },
  {
   "cell_type": "markdown",
   "id": "e1f1ed0d-dea6-443a-adb6-bd40d6c1e528",
   "metadata": {},
   "source": [
    "Observations:\n",
    "\n",
    "+ Bangalore & Gurgaon have the highest rents"
   ]
  },
  {
   "cell_type": "code",
   "execution_count": 168,
   "id": "ebb34637-b9f7-4aa3-970f-c3739df0504a",
   "metadata": {
    "execution": {
     "iopub.execute_input": "2025-03-21T17:44:46.447615Z",
     "iopub.status.busy": "2025-03-21T17:44:46.446551Z",
     "iopub.status.idle": "2025-03-21T17:44:46.875949Z",
     "shell.execute_reply": "2025-03-21T17:44:46.873931Z",
     "shell.execute_reply.started": "2025-03-21T17:44:46.447615Z"
    }
   },
   "outputs": [
    {
     "data": {
      "image/png": "[encoded data removed]",
      "text/plain": [
       "<Figure size 640x480 with 1 Axes>"
      ]
     },
     "metadata": {},
     "output_type": "display_data"
    }
   ],
   "source": [
    "plt.title(\"Tenants_preferred vs Price\")\n",
    "sns.violinplot(data=df, x=\"Price\", y= \"Tenants_preferred\");"
   ]
  },
  {
   "cell_type": "code",
   "execution_count": 169,
   "id": "f77332b1-db45-4287-82f4-17000a484095",
   "metadata": {
    "execution": {
     "iopub.execute_input": "2025-03-21T17:44:46.879013Z",
     "iopub.status.busy": "2025-03-21T17:44:46.879013Z",
     "iopub.status.idle": "2025-03-21T17:44:46.901944Z",
     "shell.execute_reply": "2025-03-21T17:44:46.899640Z",
     "shell.execute_reply.started": "2025-03-21T17:44:46.879013Z"
    }
   },
   "outputs": [
    {
     "data": {
      "text/plain": [
       "Residential_type\n",
       " House                784\n",
       "Apartment            2750\n",
       "Builder Floor         411\n",
       "Flat                  376\n",
       "Penthouse              58\n",
       "Service Apartment       1\n",
       "Villa                 626\n",
       "Name: BHK, dtype: int32"
      ]
     },
     "execution_count": 169,
     "metadata": {},
     "output_type": "execute_result"
    }
   ],
   "source": [
    "df.groupby('Residential_type')['BHK'].sum()"
   ]
  },
  {
   "cell_type": "code",
   "execution_count": 170,
   "id": "48597cd6-5336-4091-9791-5dcfce27de76",
   "metadata": {
    "execution": {
     "iopub.execute_input": "2025-03-21T17:44:46.904961Z",
     "iopub.status.busy": "2025-03-21T17:44:46.903968Z",
     "iopub.status.idle": "2025-03-21T17:44:46.958402Z",
     "shell.execute_reply": "2025-03-21T17:44:46.954809Z",
     "shell.execute_reply.started": "2025-03-21T17:44:46.904961Z"
    }
   },
   "outputs": [
    {
     "data": {
      "text/html": [
       "<div>\n",
       "<style scoped>\n",
       "    .dataframe tbody tr th:only-of-type {\n",
       "        vertical-align: middle;\n",
       "    }\n",
       "\n",
       "    .dataframe tbody tr th {\n",
       "        vertical-align: top;\n",
       "    }\n",
       "\n",
       "    .dataframe thead th {\n",
       "        text-align: right;\n",
       "    }\n",
       "</style>\n",
       "<table border=\"1\" class=\"dataframe\">\n",
       "  <thead>\n",
       "    <tr style=\"text-align: right;\">\n",
       "      <th>City</th>\n",
       "      <th>Ahmedabad</th>\n",
       "      <th>Bangalore</th>\n",
       "      <th>Chennai</th>\n",
       "      <th>Gurgaon</th>\n",
       "      <th>Hyderabad</th>\n",
       "    </tr>\n",
       "    <tr>\n",
       "      <th>BHK</th>\n",
       "      <th></th>\n",
       "      <th></th>\n",
       "      <th></th>\n",
       "      <th></th>\n",
       "      <th></th>\n",
       "    </tr>\n",
       "  </thead>\n",
       "  <tbody>\n",
       "    <tr>\n",
       "      <th>1</th>\n",
       "      <td>14500.000000</td>\n",
       "      <td>29333.333333</td>\n",
       "      <td>27254.296296</td>\n",
       "      <td>30027.777778</td>\n",
       "      <td>16778.260870</td>\n",
       "    </tr>\n",
       "    <tr>\n",
       "      <th>2</th>\n",
       "      <td>26607.142857</td>\n",
       "      <td>43000.000000</td>\n",
       "      <td>30010.664032</td>\n",
       "      <td>37761.206897</td>\n",
       "      <td>28205.504587</td>\n",
       "    </tr>\n",
       "    <tr>\n",
       "      <th>3</th>\n",
       "      <td>35866.847826</td>\n",
       "      <td>86720.000000</td>\n",
       "      <td>56351.282051</td>\n",
       "      <td>65941.552511</td>\n",
       "      <td>50282.278761</td>\n",
       "    </tr>\n",
       "    <tr>\n",
       "      <th>4</th>\n",
       "      <td>81886.046512</td>\n",
       "      <td>185000.000000</td>\n",
       "      <td>93015.094340</td>\n",
       "      <td>136616.935484</td>\n",
       "      <td>110841.463415</td>\n",
       "    </tr>\n",
       "    <tr>\n",
       "      <th>5</th>\n",
       "      <td>104000.000000</td>\n",
       "      <td>490000.000000</td>\n",
       "      <td>95454.545455</td>\n",
       "      <td>156000.000000</td>\n",
       "      <td>101538.461538</td>\n",
       "    </tr>\n",
       "    <tr>\n",
       "      <th>6</th>\n",
       "      <td>NaN</td>\n",
       "      <td>NaN</td>\n",
       "      <td>249833.333333</td>\n",
       "      <td>186666.666667</td>\n",
       "      <td>10000.000000</td>\n",
       "    </tr>\n",
       "    <tr>\n",
       "      <th>7</th>\n",
       "      <td>NaN</td>\n",
       "      <td>NaN</td>\n",
       "      <td>350000.000000</td>\n",
       "      <td>30000.000000</td>\n",
       "      <td>160000.000000</td>\n",
       "    </tr>\n",
       "    <tr>\n",
       "      <th>8</th>\n",
       "      <td>NaN</td>\n",
       "      <td>NaN</td>\n",
       "      <td>20000.000000</td>\n",
       "      <td>NaN</td>\n",
       "      <td>NaN</td>\n",
       "    </tr>\n",
       "    <tr>\n",
       "      <th>9</th>\n",
       "      <td>NaN</td>\n",
       "      <td>NaN</td>\n",
       "      <td>NaN</td>\n",
       "      <td>130000.000000</td>\n",
       "      <td>NaN</td>\n",
       "    </tr>\n",
       "    <tr>\n",
       "      <th>10</th>\n",
       "      <td>NaN</td>\n",
       "      <td>NaN</td>\n",
       "      <td>20000.000000</td>\n",
       "      <td>70000.000000</td>\n",
       "      <td>22750.000000</td>\n",
       "    </tr>\n",
       "  </tbody>\n",
       "</table>\n",
       "</div>"
      ],
      "text/plain": [
       "City      Ahmedabad      Bangalore        Chennai        Gurgaon  \\\n",
       "BHK                                                                \n",
       "1      14500.000000   29333.333333   27254.296296   30027.777778   \n",
       "2      26607.142857   43000.000000   30010.664032   37761.206897   \n",
       "3      35866.847826   86720.000000   56351.282051   65941.552511   \n",
       "4      81886.046512  185000.000000   93015.094340  136616.935484   \n",
       "5     104000.000000  490000.000000   95454.545455  156000.000000   \n",
       "6               NaN            NaN  249833.333333  186666.666667   \n",
       "7               NaN            NaN  350000.000000   30000.000000   \n",
       "8               NaN            NaN   20000.000000            NaN   \n",
       "9               NaN            NaN            NaN  130000.000000   \n",
       "10              NaN            NaN   20000.000000   70000.000000   \n",
       "\n",
       "City      Hyderabad  \n",
       "BHK                  \n",
       "1      16778.260870  \n",
       "2      28205.504587  \n",
       "3      50282.278761  \n",
       "4     110841.463415  \n",
       "5     101538.461538  \n",
       "6      10000.000000  \n",
       "7     160000.000000  \n",
       "8               NaN  \n",
       "9               NaN  \n",
       "10     22750.000000  "
      ]
     },
     "execution_count": 170,
     "metadata": {},
     "output_type": "execute_result"
    }
   ],
   "source": [
    "pd.pivot_table(df, values=\"Price\", index=\"BHK\", columns=\"City\", aggfunc=\"mean\")"
   ]
  },
  {
   "cell_type": "markdown",
   "id": "18d67bb2-3fa9-46b1-b502-3fa6c917c0a2",
   "metadata": {},
   "source": [
    "Observations:\n",
    "+ Bangalore has the highest average rent for 4+ BHK properties.\n",
    "+ 2 BHK and 3 BHK are the most common configurations, with Hyderabad and Chennai having relatively affordable rental prices.\n",
    "+ Gurgaon and Bangalore tend to have higher rental prices for larger properties."
   ]
  },
  {
   "cell_type": "markdown",
   "id": "ba730d6b-fd80-4418-bdb4-5b11c73b2dd2",
   "metadata": {},
   "source": [
    "#### Multivariate Analysis"
   ]
  },
  {
   "cell_type": "code",
   "execution_count": 183,
   "id": "ee2c22db-f2c7-45f7-ba48-54e98594c1ad",
   "metadata": {
    "execution": {
     "iopub.execute_input": "2025-03-21T18:56:47.643753Z",
     "iopub.status.busy": "2025-03-21T18:56:47.643753Z",
     "iopub.status.idle": "2025-03-21T18:56:48.461269Z",
     "shell.execute_reply": "2025-03-21T18:56:48.458861Z",
     "shell.execute_reply.started": "2025-03-21T18:56:47.643753Z"
    }
   },
   "outputs": [
    {
     "data": {
      "image/png": "[encoded data removed]",
      "text/plain": [
       "<Figure size 640x480 with 1 Axes>"
      ]
     },
     "metadata": {},
     "output_type": "display_data"
    }
   ],
   "source": [
    "sns.barplot(data=df, x = \"City\", y = \"Price\", estimator=np.mean, ci = False, hue = \"Posted_by\")\n",
    "plt.title('Comparison of Rental Prices by City and Listing Source');"
   ]
  },
  {
   "cell_type": "markdown",
   "id": "4c2bf7b0-144c-4e5a-a40e-c7cff16f9c78",
   "metadata": {},
   "source": [
    "Observations:\n",
    "+ Most of the listings from banglore are posted by owners\n",
    "+ whereas in hyderabad, most of the listingsare posted by agents"
   ]
  },
  {
   "cell_type": "code",
   "execution_count": 184,
   "id": "75e74fd7-f2f0-49f4-9697-323a0dbb99ef",
   "metadata": {
    "execution": {
     "iopub.execute_input": "2025-03-21T18:57:35.052127Z",
     "iopub.status.busy": "2025-03-21T18:57:35.052127Z",
     "iopub.status.idle": "2025-03-21T18:57:36.664189Z",
     "shell.execute_reply": "2025-03-21T18:57:36.664189Z",
     "shell.execute_reply.started": "2025-03-21T18:57:35.052127Z"
    }
   },
   "outputs": [
    {
     "data": {
      "image/png": "[encoded data removed]",
      "text/plain": [
       "<Figure size 640x480 with 1 Axes>"
      ]
     },
     "metadata": {},
     "output_type": "display_data"
    }
   ],
   "source": [
    "sns.barplot(data=df, x = \"City\", y = \"Price\", estimator=np.mean, ci = False, hue = \"Residential_type\")\n",
    "plt.title('Rental Price Variation Across Cities and Property Types');"
   ]
  },
  {
   "cell_type": "markdown",
   "id": "1235f6e2-179f-4311-ab8c-038a7c1839a4",
   "metadata": {},
   "source": [
    "Observations:\n",
    "+ In Bangalore, Villas are more pricier\n",
    "+ And in Gurgaon, Penthouses are more pricier"
   ]
  },
  {
   "cell_type": "code",
   "execution_count": 181,
   "id": "dab8cfc9-3ad3-463e-b5f1-8655db024911",
   "metadata": {
    "execution": {
     "iopub.execute_input": "2025-03-21T18:55:24.173698Z",
     "iopub.status.busy": "2025-03-21T18:55:24.173698Z",
     "iopub.status.idle": "2025-03-21T18:55:24.776409Z",
     "shell.execute_reply": "2025-03-21T18:55:24.775266Z",
     "shell.execute_reply.started": "2025-03-21T18:55:24.173698Z"
    }
   },
   "outputs": [
    {
     "data": {
      "image/png": "[encoded data removed]",
      "text/plain": [
       "<Figure size 640x480 with 2 Axes>"
      ]
     },
     "metadata": {},
     "output_type": "display_data"
    }
   ],
   "source": [
    "sns.heatmap(df.corr(numeric_only=True), annot=True, fmt = \".2f\")\n",
    "plt.title('Correlation Matrix');"
   ]
  },
  {
   "cell_type": "markdown",
   "id": "77b341c4-41b3-4500-b9e9-101604d590f1",
   "metadata": {
    "execution": {
     "iopub.execute_input": "2025-03-21T17:37:02.992744Z",
     "iopub.status.busy": "2025-03-21T17:37:02.992744Z",
     "iopub.status.idle": "2025-03-21T17:37:03.011835Z",
     "shell.execute_reply": "2025-03-21T17:37:03.009323Z",
     "shell.execute_reply.started": "2025-03-21T17:37:02.992744Z"
    }
   },
   "source": [
    "Observations:\n",
    "+ Price & BHK show a strong positive correlation (as expected).\n",
    "+ Bathroom count is also correlated with price, indicating larger homes tend to have more bathrooms.\n",
    "+ Furnishing type has a weak correlation with price, meaning other factors like location and size matter more."
   ]
  },
  {
   "cell_type": "code",
   "execution_count": null,
   "id": "01fd5037-4e93-46ae-a1f8-1642d0d525ab",
   "metadata": {},
   "outputs": [],
   "source": []
  }
 ],
 "metadata": {
  "kernelspec": {
   "display_name": "Python 3 (ipykernel)",
   "language": "python",
   "name": "python3"
  },
  "language_info": {
   "codemirror_mode": {
    "name": "ipython",
    "version": 3
   },
   "file_extension": ".py",
   "mimetype": "text/x-python",
   "name": "python",
   "nbconvert_exporter": "python",
   "pygments_lexer": "ipython3",
   "version": "3.12.4"
  }
 },
 "nbformat": 4,
 "nbformat_minor": 5
}
